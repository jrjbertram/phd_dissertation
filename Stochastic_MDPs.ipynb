{
 "cells": [
  {
   "cell_type": "markdown",
   "metadata": {
    "id": "LoiSSLvJZOds"
   },
   "source": [
    "This notebook is being used to test out some ideas on how to reproduce stochastic MDPs using principles from FastMDP:\n",
    "\n",
    "https://lib.dr.iastate.edu/etd/17832/\n",
    "\n",
    "This notebook assumes the reader has some familiarity with Markov Decision Processes and the Value Iteration algorithm.   An overview is provided, but there are many good textbooks and resources that explain MDPs more fully and more clearly.\n",
    "\n",
    "*Note that to run this notebook on Colab, you will need to change the Runtime to a GPU runtime.  Depending on the amount of RAM used by the run, you may also find you need a Google Colab Pro account and run with the higher RAM option.*"
   ]
  },
  {
   "cell_type": "markdown",
   "metadata": {
    "id": "63ZfvzF5HdMq"
   },
   "source": []
  },
  {
   "cell_type": "markdown",
   "metadata": {
    "id": "o1X9p2gmta34"
   },
   "source": []
  },
  {
   "cell_type": "markdown",
   "metadata": {
    "id": "2r4O8aQUta35"
   },
   "source": [
    "# Preliminaries"
   ]
  },
  {
   "cell_type": "code",
   "execution_count": 185,
   "metadata": {
    "id": "XJfRXc_Bta3_"
   },
   "outputs": [],
   "source": [
    "\n",
    "\n",
    "import numpy as np\n",
    "import operator\n",
    "\n",
    "\n",
    "import matplotlib.pyplot as plt\n",
    "\n",
    "\n",
    "import IPython.display as dp\n",
    "import matplotlib.patches as patches\n",
    "import matplotlib.gridspec as gridspec \n",
    "\n",
    "import time\n",
    "\n",
    "import numba as nb\n",
    "\n",
    "from timeit import default_timer as timer\n",
    "\n",
    "import networkx as nx"
   ]
  },
  {
   "cell_type": "markdown",
   "metadata": {
    "id": "UXsZYso08tmx"
   },
   "source": [
    "# Convolution (failed attempt)\n",
    "\n",
    "Can we convolve the deterministic value function with a kernel to obtain the stochastic value function?\n"
   ]
  },
  {
   "cell_type": "markdown",
   "metadata": {
    "id": "ZRNnn4Wl5XWJ"
   },
   "source": [
    "## Version 2 of code"
   ]
  },
  {
   "cell_type": "code",
   "execution_count": 186,
   "metadata": {
    "id": "KIpAS6S7aI6m"
   },
   "outputs": [],
   "source": [
    "#%load_ext autoreload\n",
    "#%autoreload 2\n",
    "\n",
    "#import os\n",
    "#os.environ[\"NUMBA_ENABLE_CUDASIM\"] = \"\"\n",
    "#del os.environ[\"NUMBA_ENABLE_CUDASIM\"]\n",
    "\n",
    "import numpy as np\n",
    "import math\n",
    "\n",
    "import numba\n",
    "from numba import cuda\n",
    "\n",
    "@cuda.jit\n",
    "def bellman_update_st(xmax, ymax, V_i, V_o, T_gpu, R_gpu, residual_gpu, gamma):\n",
    "    \n",
    "    num_actions = T_gpu.shape[2]  # assumes 2-d state space definition\n",
    "\n",
    "    x, y = cuda.grid( 2 )\n",
    "\n",
    "    #print( \"pos %d -> x %d, y %d\" % (pos, x, y ) ) \n",
    "    if x >= xmax:\n",
    "      return\n",
    "\n",
    "    if y >= ymax:\n",
    "      return\n",
    "\n",
    "\n",
    "    # immediate reward\n",
    "    r = R_gpu[ x, y ]\n",
    "\n",
    "    # bellman update for stochastic mdp\n",
    "\n",
    "    # first we have to compute the future expected value of taking\n",
    "    # an action from this state.  We will keep track of the best\n",
    "    # value we find in max_V.\n",
    "\n",
    "    max_V = -np.inf\n",
    "\n",
    "    # There is some additional parallelism we could take advantage of in here\n",
    "    # if we'd like to kick off additional threads in parallel.  This will\n",
    "    # get tricky because we'll need to either use atomic sum operations\n",
    "    # or we'll need to build a pipeline of kernels to perform a reduction.\n",
    "    # For now, performing the loop below on each thread, which will make\n",
    "    # the algorithm slower than it could be on the GPU.\n",
    "    for a in range(num_actions):\n",
    "\n",
    "      # We have to sum up over all s' the expected future values\n",
    "      V_sum = 0\n",
    "\n",
    "      for xn in range(xmax):\n",
    "        for yn in range(ymax):\n",
    "\n",
    "          # probability of transitioning to the next state given\n",
    "          # the current state and action\n",
    "          P_n = T_gpu[ x, y, a, xn, yn ]\n",
    "\n",
    "          # value of next state\n",
    "          V_n = V_i[ xn, yn ]\n",
    "\n",
    "          # expected future value of this transition\n",
    "          V_sum += P_n * ( r + gamma * V_n )\n",
    "      \n",
    "      max_V = max( max_V, V_sum )\n",
    "\n",
    "    # residual \n",
    "    res = abs(max_V - V_i[ x, y ])\n",
    "\n",
    "    # update the value \n",
    "    V_o[ x, y ] = max_V\n",
    "\n",
    "    # atomically update the residual\n",
    "    cuda.atomic.max( residual_gpu, 0, res ) \n",
    "    \n",
    "\n",
    "\n",
    "def numba_value_iteration_st(dims, V, T, R, epsilon, gamma):\n",
    "    # Move data to GPU so we can do two operations on it\n",
    "    V_gpu_a = cuda.to_device(V)\n",
    "    V_gpu_b = cuda.to_device(V)\n",
    "    T_gpu = cuda.to_device(T)\n",
    "    R_gpu = cuda.to_device(R)\n",
    "\n",
    "    num_actions = T.shape[2]\n",
    "\n",
    "    residual = np.array( [ -np.inf ], dtype=V.dtype )\n",
    "\n",
    "    start = timer()    \n",
    "\n",
    "    count = 0\n",
    "    while count == 0 or ( residual[0] > epsilon ):  # and count < 100 ):\n",
    "\n",
    "      # Set up a ping-pong between the two value function buffers\n",
    "      # so that V_i (input) is fixed during the iteration and\n",
    "      # V_o (output) is updated at each iteration.\n",
    "      if count % 2 == 0:\n",
    "        V_i = V_gpu_a\n",
    "        V_o = V_gpu_b\n",
    "      else:\n",
    "        V_i = V_gpu_b\n",
    "        V_o = V_gpu_a\n",
    "\n",
    "      # reset residual for next run\n",
    "      residual[0] = -np.inf\n",
    "    \n",
    "      residual_gpu = cuda.to_device( residual )\n",
    "\n",
    "      end1 = timer()\n",
    "\n",
    "      num_threads = dims[0] * dims[1]\n",
    "      threadsperblock = (16, 16)\n",
    "      blockspergrid_x = math.ceil(dims[0] / threadsperblock[0])\n",
    "      blockspergrid_y = math.ceil(dims[1] / threadsperblock[1])\n",
    "      blockspergrid = (blockspergrid_x, blockspergrid_y)      \n",
    "\n",
    "      ### Perform Bellman upate\n",
    "      bellman_update_st[blockspergrid,threadsperblock](dims[0], dims[1], V_i, V_o, T_gpu, R_gpu, residual_gpu, gamma)\n",
    "\n",
    "      end2 = timer()\n",
    "\n",
    "      residual = residual_gpu.copy_to_host()\n",
    "\n",
    "      end3 = timer()\n",
    "\n",
    "      #print( \"count %d: %f - %f secs (%f + %f + %f)\" % (count, residual[0], end3 - start, end1 - start, end2-end1, end3-end2) )\n",
    "      start = end3\n",
    "\n",
    "      #np.save( 'val_iter/hist_%d.npy' % count, V_gpu.copy_to_host() )\n",
    "\n",
    "      count += 1 \n",
    "\n",
    "\n",
    "    return V_o.copy_to_host()\n",
    "\n"
   ]
  },
  {
   "cell_type": "code",
   "execution_count": 187,
   "metadata": {
    "id": "0H3NROWy-WAB"
   },
   "outputs": [],
   "source": [
    "\n",
    "def gen_nbrs(x,y, xmax, ymax):\n",
    "    # up\n",
    "    xu = x \n",
    "    yu = max( 0, y - 1 )\n",
    "\n",
    "    # left\n",
    "    xl = max( 0, x - 1 ) \n",
    "    yl = y\n",
    "\n",
    "    # down\n",
    "    xd = x \n",
    "    yd = min( ymax-1, y + 1 )\n",
    "\n",
    "    # right\n",
    "    xr = min( xmax-1, x + 1 ) \n",
    "    yr = y\n",
    "\n",
    "    return [ [xu,yu],\n",
    "             [xl,yl],\n",
    "             [xd,yd],\n",
    "             [xr,yr]\n",
    "            ]\n",
    "\n",
    "def gen_transition_function( bleed=0.1 ):\n",
    "\n",
    "  # The transition function is T( s, a, s' ).\n",
    "  T = np.zeros( (*dims, num_actions, *dims)  )\n",
    "\n",
    "\n",
    "  print( \"Building transition function\" )\n",
    "\n",
    "  assert bleed >= 0.0 and 4 * bleed < 1.0, \"Becasue we have 4 actions, we can't have a bleed whose sum exceeds a probability of 1.0\"\n",
    "\n",
    "  # Here's how certain we are that we will transition to the intended state\n",
    "  certainty = 1.0 - (4 * bleed)\n",
    "\n",
    "  # Create a stochastic transition function for up, down, left, and right\n",
    "  # where there is uncertainty in the resulting state\n",
    "  xmax = ymax = dim\n",
    "  for x in range(dim):\n",
    "    for y in range(dim):\n",
    "\n",
    "      nbr = gen_nbrs( x, y, xmax, ymax )\n",
    "\n",
    "      # When we take an action, set a probability of 0.6 that we'll make it \n",
    "      # to the desired state\n",
    "      for a, n in enumerate(nbr):\n",
    "        xn, yn = n\n",
    "        T[ x, y, a, xn, yn ] = certainty\n",
    "\n",
    "        # And set a probability of 0.1 that we will end up one extra step\n",
    "        # away from the expected state were this a deterministic MDP.  \n",
    "        # This is a poor man's gaussian centered around the expected state.\n",
    "        nbr2 = gen_nbrs( xn, yn, xmax, ymax )\n",
    "\n",
    "        for n2 in nbr2:\n",
    "          xn2, yn2 = n2 \n",
    "          T[ x, y, a, xn2, yn2 ] = bleed\n",
    "    \n",
    "  return T\n",
    "  "
   ]
  },
  {
   "cell_type": "markdown",
   "metadata": {
    "id": "C18ImALw87Ot"
   },
   "source": [
    "First lets define a determistic and a stochastic MDP transition function.\n"
   ]
  },
  {
   "cell_type": "code",
   "execution_count": 188,
   "metadata": {
    "colab": {
     "base_uri": "https://localhost:8080/"
    },
    "id": "Okq_3zsL9Lkq",
    "outputId": "cbea80d5-f23a-47d0-888a-bbe8b9f4ce78"
   },
   "outputs": [
    {
     "name": "stdout",
     "output_type": "stream",
     "text": [
      "(100, 100) 10000\n",
      "Building transition function\n",
      "Building transition function\n"
     ]
    }
   ],
   "source": [
    "# The dimensions of the state space S is captured by dims.  \n",
    "# Multiplying the dimensions together would yield the size of the\n",
    "# state space |S|.\n",
    "dim = 100\n",
    "dims = (dim,dim)  # square grid world\n",
    "size = np.prod( dims )\n",
    "\n",
    "\n",
    "# Our action space is up, left, down, right.  If we were to go beyond\n",
    "# the boundaries of the state space by taking an action 'a', then \n",
    "# will will just stay in the current state 's'.\n",
    "num_actions = 4\n",
    "\n",
    "print( dims, size )\n",
    "T_det = gen_transition_function( 0.0 )\n",
    "T_sto = gen_transition_function( 0.1 )\n",
    "\n"
   ]
  },
  {
   "cell_type": "code",
   "execution_count": 189,
   "metadata": {
    "colab": {
     "base_uri": "https://localhost:8080/"
    },
    "id": "Uq4_PipuAgII",
    "outputId": "daeb7ab9-5f66-4bd8-e529-e20a81d4223f"
   },
   "outputs": [
    {
     "name": "stdout",
     "output_type": "stream",
     "text": [
      "Solving MDP\n"
     ]
    },
    {
     "name": "stderr",
     "output_type": "stream",
     "text": [
      "/home/bertrjr1/anaconda3/envs/gpu2/lib/python3.9/site-packages/numba/cuda/compiler.py:726: NumbaPerformanceWarning: Grid size (49) < 2 * SM count (92) will likely result in GPU under utilization due to low occupancy.\n",
      "  warn(NumbaPerformanceWarning(msg))\n",
      "/home/bertrjr1/anaconda3/envs/gpu2/lib/python3.9/site-packages/numba/cuda/compiler.py:726: NumbaPerformanceWarning: Grid size (49) < 2 * SM count (92) will likely result in GPU under utilization due to low occupancy.\n",
      "  warn(NumbaPerformanceWarning(msg))\n"
     ]
    }
   ],
   "source": [
    "\n",
    "\n",
    "# The value function is the same size as the state space\n",
    "\n",
    "\n",
    "# For now, we are creating a reward function R( s ) which is only\n",
    "# dependent on the state but not the action.\n",
    "R = np.zeros( dims )\n",
    "\n",
    "# define some rewards in the reward function\n",
    "R[ 20,70 ] = 10\n",
    "#R[ 90,30 ] = 10\n",
    "\n",
    "# define bellman residual threshold\n",
    "epsilon = .01\n",
    "\n",
    "# discount factor\n",
    "gamma = 0.99\n",
    "\n",
    "print( \"Solving MDP\" )\n",
    "V = np.zeros( dims )\n",
    "V_det = numba_value_iteration_st( dims, V, T_det, R, epsilon, gamma )\n",
    "\n",
    "V = np.zeros( dims )\n",
    "V_sto = numba_value_iteration_st( dims, V, T_sto, R, epsilon, gamma )\n"
   ]
  },
  {
   "cell_type": "code",
   "execution_count": 190,
   "metadata": {
    "colab": {
     "base_uri": "https://localhost:8080/",
     "height": 1000
    },
    "id": "xL5i_4-E8sO0",
    "outputId": "1f2ef43e-0eec-4b37-b131-074a904d1b55"
   },
   "outputs": [
    {
     "data": {
      "text/plain": [
       "<matplotlib.colorbar.Colorbar at 0x7f6c3cc93a90>"
      ]
     },
     "execution_count": 190,
     "metadata": {},
     "output_type": "execute_result"
    },
    {
     "data": {
      "image/png": "[encoded data removed]",
      "text/plain": [
       "<Figure size 1296x2592 with 8 Axes>"
      ]
     },
     "metadata": {
      "needs_background": "light"
     },
     "output_type": "display_data"
    }
   ],
   "source": [
    "\n",
    "\n",
    "from timeit import default_timer as timer\n",
    "\n",
    "import matplotlib.pyplot as plt\n",
    "import matplotlib.gridspec as gridspec\n",
    "\n",
    "fig = plt.figure(figsize=(18,36), constrained_layout=False)\n",
    "gs = fig.add_gridspec(6,3)\n",
    "\n",
    "\n",
    "\n",
    "b= 0\n",
    "bleed=0\n",
    "\n",
    "ax = fig.add_subplot(gs[0, b])\n",
    "plt.title( \"reward\" )\n",
    "p = plt.imshow( R, cmap=\"coolwarm\" )\n",
    "plt.colorbar( p )\n",
    "\n",
    "ax = fig.add_subplot(gs[1, b])\n",
    "plt.title( \"deterministic\")\n",
    "p = plt.imshow( V_det[1:-1,1:-1], cmap=\"coolwarm\", vmin=V_det.min(), vmax=V_det.max() )\n",
    "plt.colorbar( p )\n",
    "\n",
    "ax = fig.add_subplot(gs[1, b+1])\n",
    "plt.title( \"stochastic\")\n",
    "p = plt.imshow( V_sto[1:-1,1:-1], cmap=\"coolwarm\", vmin=V_det.min(), vmax=V_det.max() )\n",
    "plt.colorbar( p )\n",
    "\n",
    "# Now highlight all the states that are different as a mask\n",
    "ax = fig.add_subplot(gs[2, b])\n",
    "plt.title( \"Different states (values)\")\n",
    "p = plt.imshow( (V_det - V_sto)[1:-1,1:-1] , cmap=\"jet\" )\n",
    "plt.colorbar(p )\n",
    "\n",
    "# Now highlight all the states that are different as a mask\n",
    "#ax = fig.add_subplot(gs[2, b+1])\n",
    "#plt.title( \"Different states (log-values)\")\n",
    "#p = plt.imshow( np.log(V_det - V_sto) , cmap=\"jet\" )\n",
    "#plt.colorbar(p )\n",
    "\n",
    "# Now highlight all the states that are different as a mask.\n",
    "# Note that floating point roundoff / underflow could create\n",
    "# some false positives.\n",
    "#ax = fig.add_subplot(gs[3, b])\n",
    "#threshold = 1.0e-2\n",
    "#plt.title( \"Different states (mask at %f)\" % threshold)\n",
    "#mask = np.abs(V_det - V_sto) > threshold\n",
    "#p = plt.imshow( mask, cmap=\"coolwarm\" )\n",
    "#plt.colorbar(p )\n",
    "\n"
   ]
  },
  {
   "cell_type": "code",
   "execution_count": 191,
   "metadata": {
    "id": "0YpTn3_c86Tx"
   },
   "outputs": [
    {
     "name": "stdout",
     "output_type": "stream",
     "text": [
      "Requirement already satisfied: scipy in /home/bertrjr1/anaconda3/envs/gpu2/lib/python3.9/site-packages (1.8.0)\n",
      "Requirement already satisfied: numpy<1.25.0,>=1.17.3 in /home/bertrjr1/anaconda3/envs/gpu2/lib/python3.9/site-packages (from scipy) (1.21.5)\n"
     ]
    }
   ],
   "source": [
    "!pip install scipy\n",
    "from scipy.ndimage import convolve"
   ]
  },
  {
   "cell_type": "code",
   "execution_count": 192,
   "metadata": {
    "id": "rMLzn1Qi9KS7"
   },
   "outputs": [],
   "source": [
    "# Lets try to convolve V_det with some kernels to see if we can get V_sto.\n",
    "\n",
    "if False:\n",
    "  # This didn't work, not even close\n",
    "  k = np.array([[0,.1,0],[.1,.6,.1],[0,.1,0]])\n",
    "  V_con = convolve(V_det, k, mode='constant', cval=0.0)\n",
    "\n",
    "if False:\n",
    "  # This didn't work either but comes close to reconstructing the deterministic\n",
    "  # value function (still a lot of error on the tails)\n",
    "  V_con         =  0.6 * V_det\n",
    "  V_con[1:,:]  +=  0.1 * V_det[:-1,:]\n",
    "  V_con[:-1,:] +=  0.1 * V_det[1:,:]\n",
    "  V_con[:,1:]  +=  0.1 * V_det[:,:-1]\n",
    "  V_con[:,:-1] +=  0.1 * V_det[:,1:]\n",
    "\n",
    "if False:\n",
    "  # This didn't work either but comes close to reconstructing the deterministic\n",
    "  # value function\n",
    "  V_con         = 0.6 * V_det\n",
    "  V_con[1:,:]  +=  gamma * 0.1 * V_det[:-1,:]\n",
    "  V_con[:-1,:] +=  gamma * 0.1 * V_det[1:,:]\n",
    "  V_con[:,1:]  +=  gamma * 0.1 * V_det[:,:-1]\n",
    "  V_con[:,:-1] +=  gamma * 0.1 * V_det[:,1:]\n",
    "\n",
    "if True:\n",
    "  # This gets the roughly correct magnitude, but doesn't capture the major axes\n",
    "  # very well.  Leaves grooves along the nsew axes for some reason.\n",
    "  V_con         = .703 * V_det   # roughly 1/sqrt(2), connection?\n",
    "\n",
    "if False:\n",
    "  # This gets the roughly correct magnitude, but doesn't capture the major axes\n",
    "  # very well.  Leaves grooves along the nsew axes for some reason.\n",
    "  V_con         = .6 * V_det\n",
    "\n",
    "\n",
    "\n",
    "if False:\n",
    "  # This was a pretty dumb idea.  \n",
    "  V_con         = np.zeros_like( V_det )\n",
    "\n",
    "  for i in range(dims[0]):\n",
    "    for j in range(dims[1]):\n",
    "\n",
    "      print( i, j )\n",
    "      for r in range(dims[0]):\n",
    "        for s in range(dims[1]):\n",
    "\n",
    "          dist = np.abs( i - r ) + np.abs( j - s )\n",
    "\n",
    "          V_con[i,j] += 0.6 * gamma * V_det[r,s] \n",
    "\n",
    "\n",
    "if False:\n",
    "  # Try to multiply by a gaussian?\n",
    "  # e^(-(x - 0)^2/(2 100^2))/(sqrt(2 π) 5)\n",
    "  V_con         = .6 * V_det"
   ]
  },
  {
   "cell_type": "markdown",
   "metadata": {
    "id": "ZgVFdkNNdnt6"
   },
   "source": []
  },
  {
   "cell_type": "code",
   "execution_count": 193,
   "metadata": {
    "colab": {
     "base_uri": "https://localhost:8080/"
    },
    "id": "mjLE-V85Yg8J",
    "outputId": "5ee940c9-2de3-487f-e19e-b85cb6adf20f"
   },
   "outputs": [
    {
     "name": "stdout",
     "output_type": "stream",
     "text": [
      "0.699\n",
      "0.7979999999999999\n",
      "0.8969999999999999\n",
      "0.9959999999999999\n",
      "r:  1.420370444770253\n"
     ]
    }
   ],
   "source": [
    "0.6 + 0.1* 0.6**2 * gamma  + 0.1 * 0.6**3 * gamma**2 + 0.1 * 0.6**4 * gamma **3\n",
    "\n",
    "sum = 0.6\n",
    "for i in range(4):\n",
    "  sum += 0.1 * gamma\n",
    "  if i % 1 == 0: print( sum )\n",
    "\n",
    "print( 'r: ', 502.0234/353.4454 )"
   ]
  },
  {
   "cell_type": "code",
   "execution_count": 194,
   "metadata": {
    "colab": {
     "base_uri": "https://localhost:8080/"
    },
    "id": "SgK6NJ-zDO0S",
    "outputId": "82d67af7-60d6-4c22-95b8-098f834ee9d2"
   },
   "outputs": [
    {
     "data": {
      "text/plain": [
       "(0.0,\n",
       " 352.92246780863695,\n",
       " 0.703,\n",
       " 0.0,\n",
       " 502.02342504784775,\n",
       " 1.0,\n",
       " 26.10834050261829,\n",
       " 353.44545429555126,\n",
       " 0.6971567538584414)"
      ]
     },
     "execution_count": 194,
     "metadata": {},
     "output_type": "execute_result"
    }
   ],
   "source": [
    "Vds = V_det.sum()\n",
    "\n",
    "V_con.min(), V_con.max(), V_con.sum()/Vds, V_det.min(), V_det.max(), Vds/Vds, V_sto.min(), V_sto.max(), V_sto.sum()/Vds"
   ]
  },
  {
   "cell_type": "code",
   "execution_count": 195,
   "metadata": {
    "colab": {
     "base_uri": "https://localhost:8080/",
     "height": 1000
    },
    "id": "19SyUFzsCkbY",
    "outputId": "6c8deae6-dea2-432f-9cfb-7e48e27f6189"
   },
   "outputs": [
    {
     "name": "stderr",
     "output_type": "stream",
     "text": [
      "/tmp/ipykernel_29294/3422262045.py:49: RuntimeWarning: divide by zero encountered in log\n",
      "  p = plt.imshow( np.log(V_con)[1:-1,1:-1] , cmap=\"jet\" )\n"
     ]
    },
    {
     "data": {
      "text/plain": [
       "<matplotlib.colorbar.Colorbar at 0x7f6c462fad00>"
      ]
     },
     "execution_count": 195,
     "metadata": {},
     "output_type": "execute_result"
    },
    {
     "data": {
      "image/png": "[encoded data removed]",
      "text/plain": [
       "<Figure size 1296x2592 with 14 Axes>"
      ]
     },
     "metadata": {
      "needs_background": "light"
     },
     "output_type": "display_data"
    }
   ],
   "source": [
    "\n",
    "\n",
    "from timeit import default_timer as timer\n",
    "\n",
    "import matplotlib.pyplot as plt\n",
    "import matplotlib.gridspec as gridspec\n",
    "\n",
    "fig = plt.figure(figsize=(18,36), constrained_layout=False)\n",
    "gs = fig.add_gridspec(6,3)\n",
    "\n",
    "\n",
    "\n",
    "b= 0\n",
    "bleed=0\n",
    "\n",
    "ax = fig.add_subplot(gs[0, b])\n",
    "plt.title( \"reward\" )\n",
    "p = plt.imshow( R, cmap=\"coolwarm\" )\n",
    "plt.colorbar( p )\n",
    "\n",
    "ax = fig.add_subplot(gs[1, b])\n",
    "plt.title( \"deterministic\")\n",
    "p = plt.imshow( V_det[1:-1,1:-1], cmap=\"coolwarm\", vmin=V_det.min(), vmax=V_det.max() )\n",
    "plt.colorbar( p )\n",
    "\n",
    "ax = fig.add_subplot(gs[1, b+1])\n",
    "plt.title( \"stochastic\")\n",
    "p = plt.imshow( V_sto[1:-1,1:-1], cmap=\"coolwarm\", vmin=V_det.min(), vmax=V_det.max() )\n",
    "plt.colorbar( p )\n",
    "\n",
    "ax = fig.add_subplot(gs[2, b+1])\n",
    "plt.title( \"convolve\")\n",
    "p = plt.imshow( V_con[1:-1,1:-1], cmap=\"coolwarm\", vmin=V_det.min(), vmax=V_det.max() )\n",
    "plt.colorbar( p )\n",
    "\n",
    "# Now highlight all the states that are different as a mask\n",
    "ax = fig.add_subplot(gs[2, b])\n",
    "plt.title( \"Different states (values)\")\n",
    "p = plt.imshow( (V_sto - V_con)[1:-1,1:-1] , cmap=\"jet\" )\n",
    "plt.colorbar(p )\n",
    "\n",
    "# Now highlight all the states that are different as a mask\n",
    "ax = fig.add_subplot(gs[3, b])\n",
    "plt.title( \"log stochastic\")\n",
    "p = plt.imshow( np.log(V_sto)[1:-1,1:-1] , cmap=\"jet\" )\n",
    "plt.colorbar(p )\n",
    "\n",
    "# Now highlight all the states that are different as a mask\n",
    "ax = fig.add_subplot(gs[3, b+1])\n",
    "plt.title( \"log convolved\")\n",
    "p = plt.imshow( np.log(V_con)[1:-1,1:-1] , cmap=\"jet\" )\n",
    "plt.colorbar(p )\n",
    "\n"
   ]
  },
  {
   "cell_type": "markdown",
   "metadata": {
    "id": "j-e4z6cYDG-1"
   },
   "source": [
    "So just a simple scaling can get us most of the way there, but there's obvious differences here along the major axes of the reward here."
   ]
  },
  {
   "cell_type": "code",
   "execution_count": null,
   "metadata": {
    "id": "y8DxZUIIGGh7"
   },
   "outputs": [],
   "source": []
  },
  {
   "cell_type": "markdown",
   "metadata": {
    "id": "5mTsoujYeAIG"
   },
   "source": [
    "# Second Try\n",
    "\n",
    "This is the GPU version of the code from the graph notebook.  It does not assume a 2D grid world.  I want to study this for 1D grid worlds to see if it's easier to spot a method that will work."
   ]
  },
  {
   "cell_type": "markdown",
   "metadata": {
    "id": "Qt9C5aDgrw0m"
   },
   "source": [
    "## Graph Building"
   ]
  },
  {
   "cell_type": "code",
   "execution_count": 196,
   "metadata": {
    "id": "IKFH6TaReBEh"
   },
   "outputs": [],
   "source": [
    "#%load_ext autoreload\n",
    "#%autoreload 2\n",
    "\n",
    "#import os\n",
    "#os.environ[\"NUMBA_ENABLE_CUDASIM\"] = \"\"\n",
    "#del os.environ[\"NUMBA_ENABLE_CUDASIM\"]\n",
    "\n",
    "import numpy as np\n",
    "import math\n",
    "\n",
    "import numba\n",
    "from numba import cuda\n",
    "\n",
    "@cuda.jit\n",
    "def bellman_update_st(xmax, V_i, V_o, T_gpu, R_gpu, residual_gpu, gamma):\n",
    "    \n",
    "    num_actions = T_gpu.shape[1]  # assumes 1-d state space definition\n",
    "\n",
    "    x = cuda.grid( 1 )\n",
    "\n",
    "    #print( \"pos %d -> x %d, y %d\" % (pos, x, y ) ) \n",
    "    if x >= xmax:\n",
    "      return\n",
    "\n",
    "\n",
    "    # immediate reward\n",
    "    r = R_gpu[ x ]\n",
    "\n",
    "    # bellman update for stochastic mdp\n",
    "\n",
    "    # first we have to compute the future expected value of taking\n",
    "    # an action from this state.  We will keep track of the best\n",
    "    # value we find in max_V.\n",
    "\n",
    "    max_V = -np.inf\n",
    "\n",
    "    # There is some additional parallelism we could take advantage of in here\n",
    "    # if we'd like to kick off additional threads in parallel.  This will\n",
    "    # get tricky because we'll need to either use atomic sum operations\n",
    "    # or we'll need to build a pipeline of kernels to perform a reduction.\n",
    "    # For now, performing the loop below on each thread, which will make\n",
    "    # the algorithm slower than it could be on the GPU.\n",
    "    for a in range(num_actions):\n",
    "\n",
    "      # We have to sum up over all s' the expected future values\n",
    "      V_sum = 0\n",
    "\n",
    "      for xn in range(xmax):\n",
    "        # probability of transitioning to the next state given\n",
    "        # the current state and action\n",
    "        P_n = T_gpu[ x, a, xn ]\n",
    "\n",
    "        # value of next state\n",
    "        V_n = V_i[ xn ]\n",
    "\n",
    "        # expected future value of this transition\n",
    "        V_sum += P_n * ( r + gamma * V_n )\n",
    "      \n",
    "      max_V = max( max_V, V_sum )\n",
    "\n",
    "    # residual \n",
    "    res = abs(max_V - V_i[ x ])\n",
    "\n",
    "    # update the value \n",
    "    V_o[ x ] = max_V\n",
    "\n",
    "    # atomically update the residual\n",
    "    cuda.atomic.max( residual_gpu, 0, res ) \n",
    "    \n",
    "\n",
    "\n",
    "def numba_value_iteration_st(N, V, T, R, epsilon, gamma):\n",
    "    # Move data to GPU so we can do two operations on it\n",
    "    V_gpu_a = cuda.to_device(V)\n",
    "    V_gpu_b = cuda.to_device(V)\n",
    "    T_gpu = cuda.to_device(T)\n",
    "    R_gpu = cuda.to_device(R)\n",
    "\n",
    "    num_actions = T.shape[1]\n",
    "\n",
    "    residual = np.array( [ -np.inf ], dtype=V.dtype )\n",
    "\n",
    "    start = timer()    \n",
    "\n",
    "    count = 0\n",
    "    while count == 0 or ( residual[0] > epsilon ):  # and count < 100 ):\n",
    "\n",
    "      # Set up a ping-pong between the two value function buffers\n",
    "      # so that V_i (input) is fixed during the iteration and\n",
    "      # V_o (output) is updated at each iteration.\n",
    "      if count % 2 == 0:\n",
    "        V_i = V_gpu_a\n",
    "        V_o = V_gpu_b\n",
    "      else:\n",
    "        V_i = V_gpu_b\n",
    "        V_o = V_gpu_a\n",
    "\n",
    "      # reset residual for next run\n",
    "      residual[0] = -np.inf\n",
    "    \n",
    "      residual_gpu = cuda.to_device( residual )\n",
    "\n",
    "      end1 = timer()\n",
    "\n",
    "      num_threads = N\n",
    "      threadsperblock = 256\n",
    "      blockspergrid_x = math.ceil(N / threadsperblock)\n",
    "      blockspergrid = blockspergrid_x     \n",
    "\n",
    "      ### Perform Bellman upate\n",
    "      bellman_update_st[blockspergrid,threadsperblock](N, V_i, V_o, T_gpu, R_gpu, residual_gpu, gamma)\n",
    "\n",
    "      end2 = timer()\n",
    "\n",
    "      residual = residual_gpu.copy_to_host()\n",
    "\n",
    "      end3 = timer()\n",
    "\n",
    "      #print( \"count %d: %f - %f secs (%f + %f + %f)\" % (count, residual[0], end3 - start, end1 - start, end2-end1, end3-end2) )\n",
    "      start = end3\n",
    "\n",
    "      #np.save( 'val_iter/hist_%d.npy' % count, V_gpu.copy_to_host() )\n",
    "\n",
    "      count += 1 \n",
    "\n",
    "\n",
    "    return V_o.copy_to_host()\n",
    "\n"
   ]
  },
  {
   "cell_type": "code",
   "execution_count": 197,
   "metadata": {
    "id": "hbbh_AEaeO7t"
   },
   "outputs": [],
   "source": [
    "\n",
    "\n",
    "\n",
    "import numpy as np\n",
    "import operator\n",
    "\n",
    "\n",
    "import matplotlib as mpl\n",
    "import matplotlib.pyplot as plt\n",
    "\n",
    "\n",
    "import IPython.display as dp\n",
    "import matplotlib.patches as patches\n",
    "import matplotlib.gridspec as gridspec \n",
    "\n",
    "import time\n",
    "\n",
    "import numba as nb\n",
    "\n",
    "from timeit import default_timer as timer\n",
    "\n",
    "\n",
    "import networkx as nx\n",
    "\n"
   ]
  },
  {
   "cell_type": "code",
   "execution_count": 198,
   "metadata": {
    "colab": {
     "base_uri": "https://localhost:8080/",
     "height": 629
    },
    "id": "ru_GrcAFeXEX",
    "outputId": "914f4ed5-308b-4cf3-caaa-d57c6d874c22"
   },
   "outputs": [
    {
     "name": "stderr",
     "output_type": "stream",
     "text": [
      "*c* argument looks like a single numeric RGB or RGBA sequence, which should be avoided as value-mapping will have precedence in case its length matches with *x* & *y*.  Please use the *color* keyword-argument or provide a 2D array with a single row if you intend to specify the same RGB or RGBA value for all points.\n"
     ]
    },
    {
     "data": {
      "image/png": "[encoded data removed]",
      "text/plain": [
       "<Figure size 720x720 with 1 Axes>"
      ]
     },
     "metadata": {},
     "output_type": "display_data"
    }
   ],
   "source": [
    "# Generate a 1D grid world using networkx to do it.\n",
    "G = nx.generators.random_graphs.random_lobster( 20, .0, .1, seed=5)\n",
    "\n",
    "#pos=nx.spring_layout(G,iterations=100)\n",
    "\n",
    "nodes = np.array( list(G.nodes) )\n",
    "\n",
    "N = len(nodes)\n",
    "o = np.ones( N )\n",
    "\n",
    "xscale = 50\n",
    "pos={}\n",
    "for i in range(N):\n",
    "  pos[i] = np.array([ i * xscale, 0 ])\n",
    "\n",
    "\n",
    "sz = 700\n",
    "\n",
    "figsize = (10,10) \n",
    "\n",
    "plt.figure(figsize=figsize)\n",
    "plt.title( \"Node assignment\" )\n",
    "\n",
    "edge_colors= np.c_[ [ .8 * o, .8 * o, .9 * o, .7 * o ] ].T\n",
    "nx.draw_networkx(G, pos,  node_size=sz, node_color=(.8, .8, .9, 1.0), edge_color=edge_colors, with_labels=True)\n"
   ]
  },
  {
   "cell_type": "code",
   "execution_count": 199,
   "metadata": {
    "colab": {
     "base_uri": "https://localhost:8080/"
    },
    "id": "C404b5b8edWA",
    "outputId": "904482c2-57d8-4cc6-de18-cbc916b42058"
   },
   "outputs": [
    {
     "name": "stdout",
     "output_type": "stream",
     "text": [
      "edges:  {0: [1], 1: [0, 2], 2: [1, 3], 3: [2, 4], 4: [3, 5], 5: [4, 6], 6: [5, 7], 7: [6, 8], 8: [7, 9], 9: [8, 10], 10: [9, 11], 11: [10, 12], 12: [11, 13], 13: [12, 14], 14: [13, 15], 15: [14, 16], 16: [15, 17], 17: [16, 18], 18: [17, 19], 19: [18, 20], 20: [19, 21], 21: [20, 22], 22: [21, 23], 23: [22, 24], 24: [23]}\n",
      "max_out_degree:  2\n"
     ]
    }
   ],
   "source": [
    "\n",
    "# Instead generate a dictionary with key of the node and value of a list of \n",
    "# outgoing nodes\n",
    "edges = {}\n",
    "for edge in list(G.edges):\n",
    "  #print( edge, type(edge) )\n",
    "  src, dst = edge\n",
    "\n",
    "  # Generate from src to dst\n",
    "  try:\n",
    "    edges[src] += [ dst ]\n",
    "  except KeyError:\n",
    "    edges[src] = [ dst ]\n",
    "\n",
    "  # And since this is a undirected graph generate the reverse transition\n",
    "  try:\n",
    "    edges[dst] += [ src ]\n",
    "  except KeyError:\n",
    "    edges[dst] = [ src ]\n",
    "\n",
    "# Determine the maximum number of outgoing transitions from any node\n",
    "max_out_degree = -1\n",
    "for src, outgoing in edges.items():\n",
    "  max_out_degree = max( max_out_degree, len(outgoing) )\n",
    "\n",
    "print( 'edges: ', edges )\n",
    "print( 'max_out_degree: ', max_out_degree )\n",
    "\n"
   ]
  },
  {
   "cell_type": "markdown",
   "metadata": {
    "id": "WhdDI7aqrreu"
   },
   "source": [
    "## Deterministic Case"
   ]
  },
  {
   "cell_type": "code",
   "execution_count": 200,
   "metadata": {
    "id": "2xIP7f_5fR7N"
   },
   "outputs": [],
   "source": [
    "\n",
    "# Generate a transition function from an undirected graph\n",
    "# We assume that transitions to and from the connected nodes\n",
    "# are possible and correspond to an action that is available\n",
    "# from both nodes.  We also assume this transition is deterministic.\n",
    "# We assume that all nodes are connected -- that they have at least\n",
    "# one incoming/outgoing edge.  \n",
    "\n",
    "def gen_transition_function(N, edges, max_out_degree):\n",
    "\n",
    "  # The transition function is T( s, a, s' ).  We assume that there is an\n",
    "  # ordered list of edges from each node.  We assume that there is at least\n",
    "  # one outgoing edge from each node.  We assign the actions $a \\in {0, 1, \\cdots}$ \n",
    "  # to that ordered list of edges.  If a node k has an outgoing degree of D, then\n",
    "  # only that many actions are defined for that node $a_k \\in {0, \\cdots, D}$.\n",
    "  # We assume a maximum outgoing degree which is supplied by the caller.  This \n",
    "  # allows us to create a regular rectangular ND-array, though it will be an \n",
    "  # inefficient representation because there will be so many unnecessary zeros \n",
    "  # in it.  As an optimization for the future, could represent it as a sparse \n",
    "  # array to minimize the amount of memory consumed by the array.\n",
    "  T = np.zeros( (N, max_out_degree, N)  )\n",
    "\n",
    "\n",
    "  print( \"Building transition function\" )\n",
    "  \n",
    "  # Extract s, a, sp (s-prime) from the edges\n",
    "  for s, outgoing in edges.items():\n",
    "\n",
    "    for a, sp in enumerate(outgoing):\n",
    "\n",
    "      # Assume a deterministic transition\n",
    "      T[ s, a, sp ] = 1.0\n",
    "    \n",
    "  return T\n",
    "  "
   ]
  },
  {
   "cell_type": "code",
   "execution_count": 201,
   "metadata": {
    "colab": {
     "base_uri": "https://localhost:8080/"
    },
    "id": "m7MBjQ5mfUhl",
    "outputId": "a5963666-782f-4ce9-9781-250b06b9f0bd"
   },
   "outputs": [
    {
     "name": "stdout",
     "output_type": "stream",
     "text": [
      "Building transition function\n"
     ]
    }
   ],
   "source": [
    "T = gen_transition_function( N, edges, max_out_degree )\n",
    "T_det = T  # give it an alias that we can refer back to once we look at the stochastic transition function"
   ]
  },
  {
   "cell_type": "code",
   "execution_count": 202,
   "metadata": {
    "id": "h9ROmGdefWYV"
   },
   "outputs": [],
   "source": [
    "# Let's create a reward function defined over the graph\n",
    "\n",
    "R = np.zeros( (N) )\n",
    "\n",
    "# Put a reward at a random node in the graph.  I picked node\n",
    "# a node arbitrarily and put a reward at that location.\n",
    "R[int(N/2)] = 10"
   ]
  },
  {
   "cell_type": "code",
   "execution_count": 203,
   "metadata": {
    "colab": {
     "base_uri": "https://localhost:8080/"
    },
    "id": "vrALbM8bfYNn",
    "outputId": "f27b0a28-9bd1-497a-c27d-c38f847c28bd"
   },
   "outputs": [
    {
     "name": "stdout",
     "output_type": "stream",
     "text": [
      "Solving MDP\n"
     ]
    },
    {
     "name": "stderr",
     "output_type": "stream",
     "text": [
      "/home/bertrjr1/anaconda3/envs/gpu2/lib/python3.9/site-packages/numba/cuda/compiler.py:726: NumbaPerformanceWarning: Grid size (1) < 2 * SM count (92) will likely result in GPU under utilization due to low occupancy.\n",
      "  warn(NumbaPerformanceWarning(msg))\n",
      "/home/bertrjr1/anaconda3/envs/gpu2/lib/python3.9/site-packages/numba/cuda/compiler.py:726: NumbaPerformanceWarning: Grid size (1) < 2 * SM count (92) will likely result in GPU under utilization due to low occupancy.\n",
      "  warn(NumbaPerformanceWarning(msg))\n"
     ]
    }
   ],
   "source": [
    "\n",
    "\n",
    "# define bellman residual threshold\n",
    "epsilon = .00001\n",
    "\n",
    "# discount factor\n",
    "gamma = 0.9\n",
    "\n",
    "print( \"Solving MDP\" )\n",
    "V = np.zeros( (N) )\n",
    "V_det = numba_value_iteration_st( N, V, T, R, epsilon, gamma )\n"
   ]
  },
  {
   "cell_type": "code",
   "execution_count": 204,
   "metadata": {
    "colab": {
     "base_uri": "https://localhost:8080/",
     "height": 1000
    },
    "id": "BR1zRiojfaH7",
    "outputId": "86b20ae4-167f-44d1-a6a5-ec70156eb426"
   },
   "outputs": [
    {
     "name": "stderr",
     "output_type": "stream",
     "text": [
      "*c* argument looks like a single numeric RGB or RGBA sequence, which should be avoided as value-mapping will have precedence in case its length matches with *x* & *y*.  Please use the *color* keyword-argument or provide a 2D array with a single row if you intend to specify the same RGB or RGBA value for all points.\n"
     ]
    },
    {
     "data": {
      "image/png": "[encoded data removed]",
      "text/plain": [
       "<Figure size 720x720 with 1 Axes>"
      ]
     },
     "metadata": {},
     "output_type": "display_data"
    },
    {
     "data": {
      "image/png": "[encoded data removed]",
      "text/plain": [
       "<Figure size 720x720 with 1 Axes>"
      ]
     },
     "metadata": {},
     "output_type": "display_data"
    },
    {
     "data": {
      "image/png": "[encoded data removed]",
      "text/plain": [
       "<Figure size 720x720 with 1 Axes>"
      ]
     },
     "metadata": {},
     "output_type": "display_data"
    }
   ],
   "source": [
    "# How are we going to graph this?\n",
    "\n",
    "sz = 1000\n",
    "\n",
    "figsize = (10,10) \n",
    "\n",
    "#pos=nx.spring_layout(G,iterations=100)\n",
    "plt.figure(figsize=figsize)\n",
    "plt.title( \"Node assignment\" )\n",
    "edge_colors= np.c_[ [ .8 * o, .8 * o, .9 * o, .7 * o ] ].T\n",
    "nx.draw_networkx(G, pos,  node_size=sz, node_color=(.8, .8, .9, 1.0), edge_color=edge_colors, with_labels=True)\n",
    "\n",
    "\n",
    "# Rewards\n",
    "node_colors = np.c_[ R/R.max(), np.zeros( N ), np.zeros( N ) ]\n",
    "cmap = plt.cm.coolwarm\n",
    "\n",
    "plt.figure(figsize=figsize)\n",
    "plt.title( \"Reward magnitude\" )\n",
    "\n",
    "o = np.ones( N )\n",
    "edge_colors= np.c_[ [ .8 * o, .8 * o, .9 * o, .7 * o ] ].T\n",
    "n = nx.draw_networkx_nodes(G, pos,  node_size=sz, node_color=node_colors, cmap=cmap)\n",
    "e = nx.draw_networkx_edges(G, pos,  node_size=sz, edge_color=edge_colors)\n",
    "label_options = {\"ec\": \"k\", \"fc\": \"white\", \"alpha\": 0.0}\n",
    "reward_labels = {}\n",
    "for i in range(N):\n",
    "  reward_labels[i] = R[i]\n",
    "\n",
    "l = nx.draw_networkx_labels(G, pos, labels=reward_labels, font_color='white', font_size=12, bbox=label_options)\n",
    "\n",
    "\n",
    "# Value\n",
    "col = V_det/V_det.max() \n",
    "node_colors = np.c_[ col , 0*col, 0*col]\n",
    "cmap = plt.cm.coolwarm\n",
    "\n",
    "plt.figure(figsize=figsize)\n",
    "plt.title( \"MDP Value Function\" )\n",
    "\n",
    "n = nx.draw_networkx_nodes(G, pos,  node_size=sz, node_color=node_colors, cmap=cmap)\n",
    "e = nx.draw_networkx_edges(G, pos,  node_size=sz, edge_color=[.8,.8,.9,.7])\n",
    "label_options = {\"ec\": \"k\", \"fc\": \"white\", \"alpha\": 0.0}\n",
    "labels = {}\n",
    "for i in range(N):\n",
    "  labels[i] = f'%.1f' % V_det[i]\n",
    "\n",
    "l = nx.draw_networkx_labels(G, pos, labels=labels, font_color='white', font_size=12, bbox=label_options)\n",
    "\n"
   ]
  },
  {
   "cell_type": "code",
   "execution_count": 205,
   "metadata": {
    "colab": {
     "base_uri": "https://localhost:8080/",
     "height": 625
    },
    "id": "fY0ESlRofcrN",
    "outputId": "1660e0c6-70e9-4960-d730-f585eaa3f54a"
   },
   "outputs": [
    {
     "data": {
      "text/plain": [
       "[<matplotlib.lines.Line2D at 0x7f6ac0dbaa00>]"
      ]
     },
     "execution_count": 205,
     "metadata": {},
     "output_type": "execute_result"
    },
    {
     "data": {
      "image/png": "[encoded data removed]",
      "text/plain": [
       "<Figure size 720x720 with 1 Axes>"
      ]
     },
     "metadata": {
      "needs_background": "light"
     },
     "output_type": "display_data"
    }
   ],
   "source": [
    "# How are we going to graph this?\n",
    "\n",
    "sz = 1000\n",
    "\n",
    "figsize = (10,10) \n",
    "\n",
    "#pos=nx.spring_layout(G,iterations=100)\n",
    "plt.figure(figsize=figsize)\n",
    "plt.title( \"Value\" )\n",
    "\n",
    "x = np.arange( N )\n",
    "plt.plot( x, V_det )\n",
    "\n"
   ]
  },
  {
   "cell_type": "markdown",
   "metadata": {
    "id": "dteRUC7Cr2xj"
   },
   "source": [
    "## Stochastic Case"
   ]
  },
  {
   "cell_type": "markdown",
   "metadata": {
    "id": "iIP5o-ZUfvgQ"
   },
   "source": [
    "Now need to make the stochastic version of this\n"
   ]
  },
  {
   "cell_type": "code",
   "execution_count": 206,
   "metadata": {
    "id": "MBlDuMsYqCyy"
   },
   "outputs": [],
   "source": [
    "\n",
    "# Generate a transition function for our 1D world\n",
    "\n",
    "def gen_deterministic_transition_function(N, max_out_degree):\n",
    "\n",
    "  T = np.zeros( (N, max_out_degree, N)  )\n",
    "\n",
    "  print( \"Building transition function\" )\n",
    "  \n",
    "  for s in range(N):\n",
    "\n",
    "    if s == 0:\n",
    "      a = 0 # right\n",
    "      sp = 1\n",
    "      T[ s, a, sp   ] = 1.0\n",
    "    elif s == N-1:\n",
    "      a = 0 # left\n",
    "      sp = N-2\n",
    "      T[ s, a, sp   ] = 1.0\n",
    "    elif s == 1:\n",
    "      a = 0 # left\n",
    "      sp = 0\n",
    "      T[ s, a, sp   ] = 1.0\n",
    "      a = 1 # right\n",
    "      sp = 2\n",
    "      T[ s, a, sp   ] = 1.0\n",
    "    elif s == N-2:\n",
    "      a = 0 # left\n",
    "      sp = N-3\n",
    "      T[ s, a, sp   ] = 1.0\n",
    "      a = 1 # right\n",
    "      sp = N-1\n",
    "      T[ s, a, sp   ] = 1.0\n",
    "    else:\n",
    "      a = 0 # left\n",
    "      sp = s-1\n",
    "      T[ s, a, sp   ] = 1.0\n",
    "      a = 1 # right\n",
    "      sp = s+1\n",
    "      T[ s, a, sp   ] = 1.0\n",
    "\n",
    "    \n",
    "  return T\n",
    "  \n",
    "\n",
    "def gen_stochastic_transition_function(N, max_out_degree):\n",
    "\n",
    "  # The transition function is T( s, a, s' ).  We assume that there is an\n",
    "  # ordered list of edges from each node.  We assume that there is at least\n",
    "  # one outgoing edge from each node.  We assign the actions $a \\in {0, 1, \\cdots}$ \n",
    "  # to that ordered list of edges.  If a node k has an outgoing degree of D, then\n",
    "  # only that many actions are defined for that node $a_k \\in {0, \\cdots, D}$.\n",
    "  # We assume a maximum outgoing degree which is supplied by the caller.  This \n",
    "  # allows us to create a regular rectangular ND-array, though it will be an \n",
    "  # inefficient representation because there will be so many unnecessary zeros \n",
    "  # in it.  As an optimization for the future, could represent it as a sparse \n",
    "  # array to minimize the amount of memory consumed by the array.\n",
    "  T = np.zeros( (N, max_out_degree, N)  )\n",
    "\n",
    "\n",
    "  print( \"Building transition function\" )\n",
    "  \n",
    "  for s in range(N):\n",
    "\n",
    "    if s == 0:\n",
    "      a = 0 # right\n",
    "      sp = 1\n",
    "      T[ s, a, sp-1 ] = 0.1\n",
    "      T[ s, a, sp   ] = 0.8\n",
    "      T[ s, a, sp+1 ] = 0.1\n",
    "    elif s == N-1:\n",
    "      a = 0 # left\n",
    "      sp = N-2\n",
    "      T[ s, a, sp+1 ] = 0.1\n",
    "      T[ s, a, sp   ] = 0.8\n",
    "      T[ s, a, sp-1 ] = 0.1\n",
    "    elif s == 1:\n",
    "      a = 0 # left\n",
    "      sp = 0\n",
    "      T[ s, a, sp+1 ] = 0.1\n",
    "      T[ s, a, sp   ] = 0.9\n",
    "      a = 1 # right\n",
    "      sp = 2\n",
    "      T[ s, a, sp-1 ] = 0.1\n",
    "      T[ s, a, sp   ] = 0.8\n",
    "      T[ s, a, sp+1 ] = 0.1\n",
    "    elif s == N-2:\n",
    "      a = 0 # left\n",
    "      sp = N-3\n",
    "      T[ s, a, sp+1 ] = 0.1\n",
    "      T[ s, a, sp   ] = 0.8\n",
    "      T[ s, a, sp-1 ] = 0.1\n",
    "      a = 1 # right\n",
    "      sp = N-1\n",
    "      T[ s, a, sp-1 ] = 0.1\n",
    "      T[ s, a, sp   ] = 0.9\n",
    "    else:\n",
    "      a = 0 # left\n",
    "      sp = s-1\n",
    "      T[ s, a, sp+1 ] = 0.1\n",
    "      T[ s, a, sp   ] = 0.8\n",
    "      T[ s, a, sp-1 ] = 0.1\n",
    "      a = 1 # right\n",
    "      sp = s+1\n",
    "      T[ s, a, sp-1 ] = 0.1\n",
    "      T[ s, a, sp   ] = 0.8\n",
    "      T[ s, a, sp+1 ] = 0.1\n",
    "\n",
    "    \n",
    "  return T\n",
    "  "
   ]
  },
  {
   "cell_type": "code",
   "execution_count": 207,
   "metadata": {
    "colab": {
     "base_uri": "https://localhost:8080/"
    },
    "id": "UQ687nD2yWAn",
    "outputId": "3a5ed272-0ed3-421e-a1fd-7b466c889271"
   },
   "outputs": [
    {
     "name": "stdout",
     "output_type": "stream",
     "text": [
      "Solving MDP\n",
      "Building transition function\n",
      "Building transition function\n"
     ]
    },
    {
     "name": "stderr",
     "output_type": "stream",
     "text": [
      "/home/bertrjr1/anaconda3/envs/gpu2/lib/python3.9/site-packages/numba/cuda/compiler.py:726: NumbaPerformanceWarning: Grid size (1) < 2 * SM count (92) will likely result in GPU under utilization due to low occupancy.\n",
      "  warn(NumbaPerformanceWarning(msg))\n"
     ]
    }
   ],
   "source": [
    "# Let's create a reward function defined over the graph\n",
    "\n",
    "R = np.zeros( (N) )\n",
    "\n",
    "# Put a reward at a random node in the graph.  I picked node\n",
    "# a node arbitrarily and put a reward at that location.\n",
    "R[int(N/2)] = 10\n",
    "\n",
    "# define bellman residual threshold\n",
    "epsilon = .00001\n",
    "\n",
    "# discount factor\n",
    "gamma = 0.9\n",
    "\n",
    "\n",
    "print( \"Solving MDP\" )\n",
    "V = np.zeros( (N) )\n",
    "T_det = T = gen_deterministic_transition_function( N, 2 )\n",
    "V_det = numba_value_iteration_st( N, V, T, R, epsilon, gamma )\n",
    "\n",
    "V = np.zeros( (N) )\n",
    "T_sto = T = gen_stochastic_transition_function( N, 2 )\n",
    "V_sto = numba_value_iteration_st( N, V, T, R, epsilon, gamma )"
   ]
  },
  {
   "cell_type": "code",
   "execution_count": 208,
   "metadata": {
    "colab": {
     "base_uri": "https://localhost:8080/",
     "height": 625
    },
    "id": "mgYJNMxXyqCt",
    "outputId": "87f2444f-339f-46a6-ebe1-071c8a23b355"
   },
   "outputs": [
    {
     "data": {
      "text/plain": [
       "<matplotlib.legend.Legend at 0x7f6c3d274c10>"
      ]
     },
     "execution_count": 208,
     "metadata": {},
     "output_type": "execute_result"
    },
    {
     "data": {
      "image/png": "[encoded data removed]",
      "text/plain": [
       "<Figure size 720x720 with 1 Axes>"
      ]
     },
     "metadata": {
      "needs_background": "light"
     },
     "output_type": "display_data"
    }
   ],
   "source": [
    "# How are we going to graph this?\n",
    "\n",
    "sz = 1000\n",
    "\n",
    "figsize = (10,10) \n",
    "\n",
    "#pos=nx.spring_layout(G,iterations=100)\n",
    "plt.figure(figsize=figsize)\n",
    "plt.title( \"Node assignment\" )\n",
    "\n",
    "x = np.arange( N )\n",
    "plt.plot( x, V_det, label='deterministic' )\n",
    "plt.plot( x, V_sto, label='stochastic' )\n",
    "\n",
    "\n",
    "# Also plot a scaled version of the deterministic value function to \n",
    "# see how well it matches the stochastic version.  At the moment\n",
    "# I determine this by determining the ratio between maximum values\n",
    "# of the determinstic and stochastic case, but I don't yet know \n",
    "# why it's this particular value.  \n",
    "scale = V_sto.max() / V_det.max() \n",
    "\n",
    "plt.plot( x, scale * V_det, label='scale=%.3f'% scale )\n",
    "plt.legend()"
   ]
  },
  {
   "cell_type": "markdown",
   "metadata": {
    "id": "9T1Utlabstss"
   },
   "source": [
    "## Initial conclusions\n",
    "\n",
    "So we can see that the stochastic value function decays exponentially at a faster rate than the deterministic value function.  I believe this makes sense as stochasticity represents a loss in acheivable value as we can't guarantee that we will reach the desired (most valuable) state by taking an action.  So a stochastic MDP represents a loss of information or increase in entropy I think?  Could I measure entropy of both functions and verify that claim?  Is that a useful concept?\n",
    "\n",
    "A good quesiton would be to study how this ratio between deterministic and stochastic peaks changes as I vary the stochasticity in the transition function.  Is it always the same value?  Probably not.  Should vary with the amount of uncertainty, as more uncertainty would increase entropy in the value funciton I would think?\n",
    "\n",
    "Another way to think about this is diffusion of the value function over the space I think.  Except an interesting problem is that the area under the stochastic value function is less than the value under the deterministic value function, meaning that overall value is lost when stochasticity is present.  Or said another way, it is more valuable to be in a determistic world than a stochastic world, which fits with our intuition.\n",
    "\n"
   ]
  },
  {
   "cell_type": "markdown",
   "metadata": {
    "id": "wQJK06y_t45X"
   },
   "source": [
    "## Reproducing Stochastic Value Function"
   ]
  },
  {
   "cell_type": "code",
   "execution_count": 209,
   "metadata": {
    "colab": {
     "base_uri": "https://localhost:8080/"
    },
    "id": "8yW6BFfczCyE",
    "outputId": "7ed7478a-ded7-45cf-d9c4-a780266c33ad"
   },
   "outputs": [
    {
     "data": {
      "text/plain": [
       "(52.63154006589952, 48.45445964685885)"
      ]
     },
     "execution_count": 209,
     "metadata": {},
     "output_type": "execute_result"
    }
   ],
   "source": [
    "V_det.max(), V_sto.max()"
   ]
  },
  {
   "cell_type": "code",
   "execution_count": 210,
   "metadata": {
    "colab": {
     "base_uri": "https://localhost:8080/"
    },
    "id": "YgRF6Vsx1koj",
    "outputId": "326512a0-5936-4fb9-bea1-38e0fb0f0b64"
   },
   "outputs": [
    {
     "data": {
      "text/plain": [
       "24.661"
      ]
     },
     "execution_count": 210,
     "metadata": {},
     "output_type": "execute_result"
    }
   ],
   "source": [
    "r=10\n",
    "g=gamma\n",
    "\n",
    "r + g * ( 0 + g * ( r + g * ( 0 + g * r )))"
   ]
  },
  {
   "cell_type": "code",
   "execution_count": 211,
   "metadata": {
    "colab": {
     "base_uri": "https://localhost:8080/"
    },
    "id": "lR8ffK6G16ap",
    "outputId": "a820f94f-7c15-4769-a0f3-9760164ffc8c"
   },
   "outputs": [
    {
     "data": {
      "text/plain": [
       "34.2800821"
      ]
     },
     "execution_count": 211,
     "metadata": {},
     "output_type": "execute_result"
    }
   ],
   "source": [
    "r1 = r2 = r3 = r4 = r5 = r6 = r7 = r8 = r9 = r10 = 10\n",
    "r2 = r4 = r6 = r8 = r10 = 0\n",
    "\n",
    "# Compute the discounted future reward of taking a penalty of -10 at each step.\n",
    "r1 + g * ( r2 + g * ( r3 + g * ( r4 + g * (r5 + g * ( r6 + g * (r7 + g * ( r8 + g * (r9 + g* (r10 )))))) )))\n"
   ]
  },
  {
   "cell_type": "code",
   "execution_count": 212,
   "metadata": {
    "colab": {
     "base_uri": "https://localhost:8080/"
    },
    "id": "jOD8wcYF2Jb5",
    "outputId": "018c6d67-ba88-4dcd-ce7f-6b3683122252"
   },
   "outputs": [
    {
     "data": {
      "text/plain": [
       "52.6315789473684"
      ]
     },
     "execution_count": 212,
     "metadata": {},
     "output_type": "execute_result"
    }
   ],
   "source": [
    "# As a recursive function:\n",
    "\n",
    "def expected_future_reward( gamma, rs ):\n",
    "  v = 0\n",
    "\n",
    "  r = rs[0]\n",
    "\n",
    "  v += r\n",
    "\n",
    "  if len(rs) > 1:\n",
    "    v += gamma * expected_future_reward( gamma, rs[1:] )\n",
    "  \n",
    "  return v\n",
    "\n",
    "rs = [ 10, 0 ] * 400  # list of the 10 negative rewards\n",
    "\n",
    "expected_future_reward( g, rs )"
   ]
  },
  {
   "cell_type": "code",
   "execution_count": 213,
   "metadata": {
    "colab": {
     "base_uri": "https://localhost:8080/"
    },
    "id": "S1ZI3Bzg2Vxh",
    "outputId": "df7c0af0-1d57-4de8-ef52-df8122e40edc"
   },
   "outputs": [
    {
     "data": {
      "text/plain": [
       "46.23280765312794"
      ]
     },
     "execution_count": 213,
     "metadata": {},
     "output_type": "execute_result"
    }
   ],
   "source": [
    "# As an iterative function:\n",
    "\n",
    "def expected_future_reward_fast( gamma, rs ):\n",
    "  v = 0\n",
    "\n",
    "  \n",
    "  v = rs[-1]\n",
    "\n",
    "  for i in range( len(rs)-2, -1, -1 ):\n",
    "    #print( i )\n",
    "    r = rs[i]\n",
    "\n",
    "    v = r + gamma * v\n",
    "\n",
    "  return v\n",
    "\n",
    "rs = [ 10, 0 ] * 10  # list of the 10 negative rewards\n",
    "\n",
    "expected_future_reward_fast( g, rs )"
   ]
  },
  {
   "cell_type": "code",
   "execution_count": 214,
   "metadata": {
    "colab": {
     "base_uri": "https://localhost:8080/"
    },
    "id": "iafOGElF3Io0",
    "outputId": "7867d4bc-a101-4b16-d7d6-09d1cdc7ba04"
   },
   "outputs": [
    {
     "name": "stdout",
     "output_type": "stream",
     "text": [
      "46.23280765312794 46.23280765312794\n",
      "52.63018097900593 52.63018097900593\n",
      "52.631578910236435 52.631578910236435\n",
      "52.6315789473684 52.6315789473684\n",
      "52.6315789473684 52.6315789473684\n"
     ]
    }
   ],
   "source": [
    "for i in [10, 50, 100, 200, 400 ]:\n",
    "\n",
    "  rs = [ 10, 0 ] * i \n",
    "  a = expected_future_reward( g, rs )\n",
    "  b = expected_future_reward_fast( g, rs )\n",
    "\n",
    "  print( a, b )\n"
   ]
  },
  {
   "cell_type": "code",
   "execution_count": 215,
   "metadata": {
    "colab": {
     "base_uri": "https://localhost:8080/"
    },
    "id": "jySY1unR3Z6r",
    "outputId": "6bbcee61-3e6f-429c-f9f0-3a1f46687ca1"
   },
   "outputs": [
    {
     "data": {
      "text/plain": [
       "39.48472"
      ]
     },
     "execution_count": 215,
     "metadata": {},
     "output_type": "execute_result"
    }
   ],
   "source": [
    "\n",
    "r = 10\n",
    "\n",
    "# Compute the discounted future reward of taking a penalty of -10 at each step.\n",
    "r + g * ( .8*r + g * (.8*r + g * ( .8*r + g * (.8*r + g * .8*r) )))"
   ]
  },
  {
   "cell_type": "code",
   "execution_count": 216,
   "metadata": {
    "id": "81aLLxsr6v-1"
   },
   "outputs": [],
   "source": [
    "\n",
    "def expected_future_reward_fast( gamma, rs ):\n",
    "  v = 0\n",
    "  \n",
    "  v = rs[-1]\n",
    "\n",
    "  for i in range( len(rs)-2, -1, -1 ):\n",
    "    #print( i )\n",
    "    r = rs[i]\n",
    "\n",
    "    v = r + gamma * v\n",
    "\n",
    "  return v\n",
    "\n",
    "rs = [ 10, 0 ] * 10  # list of the 10 negative rewards"
   ]
  },
  {
   "cell_type": "code",
   "execution_count": 217,
   "metadata": {
    "colab": {
     "base_uri": "https://localhost:8080/"
    },
    "id": "rwMY-Yys7iol",
    "outputId": "a11a026a-c539-4096-955a-b0e4aa39b5d9"
   },
   "outputs": [
    {
     "data": {
      "text/plain": [
       "10.9"
      ]
     },
     "execution_count": 217,
     "metadata": {},
     "output_type": "execute_result"
    }
   ],
   "source": [
    "r1 = r2 = r3 = r4 = r5 = r6 = r7 = r8 = r9 = r10 = 10\n",
    "r2 = r4 = r6 = r8 = r10 = 0\n",
    "\n",
    "# Compute the discounted future reward of taking a penalty of -10 at each step.\n",
    "10 + g * ( .1*10 )\n"
   ]
  },
  {
   "cell_type": "markdown",
   "metadata": {
    "id": "-ghgmR8DuC5i"
   },
   "source": [
    "## Examining Iterations of Value Iteration\n",
    "\n",
    "If we examine each iteration of the value iteration process, can we reproduce the resulting value function?  And will this lead to insights on how to describe the final stochastic value function?"
   ]
  },
  {
   "cell_type": "code",
   "execution_count": 218,
   "metadata": {
    "id": "zgFHjGBn7qwI"
   },
   "outputs": [],
   "source": [
    "#%load_ext autoreload\n",
    "#%autoreload 2\n",
    "\n",
    "#import os\n",
    "#os.environ[\"NUMBA_ENABLE_CUDASIM\"] = \"\"\n",
    "#del os.environ[\"NUMBA_ENABLE_CUDASIM\"]\n",
    "\n",
    "import numpy as np\n",
    "import math\n",
    "\n",
    "import numba\n",
    "from numba import cuda\n",
    "\n",
    "@cuda.jit\n",
    "def bellman_update_st(xmax, V_i, V_o, T_gpu, R_gpu, residual_gpu, gamma):\n",
    "    \n",
    "    num_actions = T_gpu.shape[1]  # assumes 1-d state space definition\n",
    "\n",
    "    x = cuda.grid( 1 )\n",
    "\n",
    "    #print( \"pos %d -> x %d, y %d\" % (pos, x, y ) ) \n",
    "    if x >= xmax:\n",
    "      return\n",
    "\n",
    "\n",
    "    # immediate reward\n",
    "    r = R_gpu[ x ]\n",
    "\n",
    "    # bellman update for stochastic mdp\n",
    "\n",
    "    # first we have to compute the future expected value of taking\n",
    "    # an action from this state.  We will keep track of the best\n",
    "    # value we find in max_V.\n",
    "\n",
    "    max_V = -np.inf\n",
    "\n",
    "    # There is some additional parallelism we could take advantage of in here\n",
    "    # if we'd like to kick off additional threads in parallel.  This will\n",
    "    # get tricky because we'll need to either use atomic sum operations\n",
    "    # or we'll need to build a pipeline of kernels to perform a reduction.\n",
    "    # For now, performing the loop below on each thread, which will make\n",
    "    # the algorithm slower than it could be on the GPU.\n",
    "    for a in range(num_actions):\n",
    "\n",
    "      # We have to sum up over all s' the expected future values\n",
    "      V_sum = 0\n",
    "\n",
    "      for xn in range(xmax):\n",
    "        # probability of transitioning to the next state given\n",
    "        # the current state and action\n",
    "        P_n = T_gpu[ x, a, xn ]\n",
    "\n",
    "        # value of next state\n",
    "        V_n = V_i[ xn ]\n",
    "\n",
    "        # expected future value of this transition\n",
    "        V_sum += P_n * ( r + gamma * V_n )\n",
    "      \n",
    "      max_V = max( max_V, V_sum )\n",
    "\n",
    "    # residual \n",
    "    res = abs(max_V - V_i[ x ])\n",
    "\n",
    "    # update the value \n",
    "    V_o[ x ] = max_V\n",
    "\n",
    "    # atomically update the residual\n",
    "    cuda.atomic.max( residual_gpu, 0, res ) \n",
    "    \n",
    "\n",
    "\n",
    "def numba_value_iteration_st_2(N, V, T, R, epsilon, gamma):\n",
    "    # Move data to GPU so we can do two operations on it\n",
    "    V_gpu_a = cuda.to_device(V)\n",
    "    V_gpu_b = cuda.to_device(V)\n",
    "    T_gpu = cuda.to_device(T)\n",
    "    R_gpu = cuda.to_device(R)\n",
    "\n",
    "    num_actions = T.shape[1]\n",
    "\n",
    "    residual = np.array( [ -np.inf ], dtype=V.dtype )\n",
    "\n",
    "    start = timer()    \n",
    "\n",
    "    Vs = []\n",
    "\n",
    "    count = 0\n",
    "    while count == 0 or ( residual[0] > epsilon ):  # and count < 100 ):\n",
    "\n",
    "      # Set up a ping-pong between the two value function buffers\n",
    "      # so that V_i (input) is fixed during the iteration and\n",
    "      # V_o (output) is updated at each iteration.\n",
    "      if count % 2 == 0:\n",
    "        V_i = V_gpu_a\n",
    "        V_o = V_gpu_b\n",
    "      else:\n",
    "        V_i = V_gpu_b\n",
    "        V_o = V_gpu_a\n",
    "\n",
    "      # reset residual for next run\n",
    "      residual[0] = -np.inf\n",
    "    \n",
    "      residual_gpu = cuda.to_device( residual )\n",
    "\n",
    "      end1 = timer()\n",
    "\n",
    "      num_threads = N\n",
    "      threadsperblock = 256\n",
    "      blockspergrid_x = math.ceil(N / threadsperblock)\n",
    "      blockspergrid = blockspergrid_x     \n",
    "\n",
    "      ### Perform Bellman upate\n",
    "      bellman_update_st[blockspergrid,threadsperblock](N, V_i, V_o, T_gpu, R_gpu, residual_gpu, gamma)\n",
    "\n",
    "      end2 = timer()\n",
    "\n",
    "      residual = residual_gpu.copy_to_host()\n",
    "\n",
    "      end3 = timer()\n",
    "\n",
    "      #print( \"count %d: %f - %f secs (%f + %f + %f)\" % (count, residual[0], end3 - start, end1 - start, end2-end1, end3-end2) )\n",
    "      start = end3\n",
    "\n",
    "      #np.save( 'val_iter/hist_%d.npy' % count, V_gpu.copy_to_host() )\n",
    "\n",
    "      count += 1 \n",
    "\n",
    "      Vs.append( V_o.copy_to_host() )\n",
    "\n",
    "\n",
    "    return Vs\n",
    "\n"
   ]
  },
  {
   "cell_type": "code",
   "execution_count": 219,
   "metadata": {
    "colab": {
     "base_uri": "https://localhost:8080/"
    },
    "id": "o94KCD837sVd",
    "outputId": "076a162d-cef6-4690-9433-b0a6108d5cad"
   },
   "outputs": [
    {
     "name": "stdout",
     "output_type": "stream",
     "text": [
      "Building transition function\n"
     ]
    },
    {
     "name": "stderr",
     "output_type": "stream",
     "text": [
      "/home/bertrjr1/anaconda3/envs/gpu2/lib/python3.9/site-packages/numba/cuda/compiler.py:726: NumbaPerformanceWarning: Grid size (1) < 2 * SM count (92) will likely result in GPU under utilization due to low occupancy.\n",
      "  warn(NumbaPerformanceWarning(msg))\n",
      "/home/bertrjr1/anaconda3/envs/gpu2/lib/python3.9/site-packages/numba/cuda/compiler.py:726: NumbaPerformanceWarning: Grid size (1) < 2 * SM count (92) will likely result in GPU under utilization due to low occupancy.\n",
      "  warn(NumbaPerformanceWarning(msg))\n"
     ]
    }
   ],
   "source": [
    "V = np.zeros( (N) )\n",
    "T_sto = T = gen_stochastic_transition_function( N, 2 )\n",
    "V_stos = numba_value_iteration_st_2( N, V, T, R, epsilon, gamma )"
   ]
  },
  {
   "cell_type": "code",
   "execution_count": 220,
   "metadata": {
    "colab": {
     "base_uri": "https://localhost:8080/",
     "height": 625
    },
    "id": "GnrdwyPw8Z_t",
    "outputId": "76ebec5d-29bc-4693-985b-cb066758e95b"
   },
   "outputs": [
    {
     "data": {
      "text/plain": [
       "<matplotlib.legend.Legend at 0x7f6c4661fd90>"
      ]
     },
     "execution_count": 220,
     "metadata": {},
     "output_type": "execute_result"
    },
    {
     "data": {
      "image/png": "[encoded data removed]",
      "text/plain": [
       "<Figure size 720x720 with 1 Axes>"
      ]
     },
     "metadata": {
      "needs_background": "light"
     },
     "output_type": "display_data"
    }
   ],
   "source": [
    "figsize = (10,10) \n",
    "\n",
    "#pos=nx.spring_layout(G,iterations=100)\n",
    "plt.figure(figsize=figsize)\n",
    "plt.title( \"Node assignment\" )\n",
    "\n",
    "x = np.arange( N )\n",
    "for i, V_sto in enumerate(V_stos[:20]):\n",
    "  plt.plot( x, V_sto, label=f'i={i}' )\n",
    "\n",
    "plt.legend()"
   ]
  },
  {
   "cell_type": "markdown",
   "metadata": {
    "id": "PTOXJ5DNueL5"
   },
   "source": [
    "### Manually reproducing each iteration"
   ]
  },
  {
   "cell_type": "markdown",
   "metadata": {
    "id": "8lER0xp-As_d"
   },
   "source": [
    "#### Iteration 0"
   ]
  },
  {
   "cell_type": "code",
   "execution_count": 221,
   "metadata": {
    "colab": {
     "base_uri": "https://localhost:8080/"
    },
    "id": "RXpOfbP58xbr",
    "outputId": "ec017eb1-1fb1-4e9d-f33b-d3e388742481"
   },
   "outputs": [
    {
     "data": {
      "text/plain": [
       "array([ 0.,  0.,  0.,  0.,  0.,  0.,  0.,  0.,  0.,  0.,  0.,  0., 10.,\n",
       "        0.,  0.,  0.,  0.,  0.,  0.,  0.,  0.,  0.,  0.,  0.,  0.])"
      ]
     },
     "execution_count": 221,
     "metadata": {},
     "output_type": "execute_result"
    }
   ],
   "source": [
    "V_stos[0]"
   ]
  },
  {
   "cell_type": "code",
   "execution_count": 222,
   "metadata": {
    "id": "plrtW3QRzZ98"
   },
   "outputs": [],
   "source": [
    "v0_c = 10.0\n"
   ]
  },
  {
   "cell_type": "markdown",
   "metadata": {
    "id": "OLiT3e0iAwBD"
   },
   "source": [
    "#### Iteration 1"
   ]
  },
  {
   "cell_type": "code",
   "execution_count": 223,
   "metadata": {
    "colab": {
     "base_uri": "https://localhost:8080/"
    },
    "id": "mnRyXya4_BVp",
    "outputId": "44aebb1a-5408-4cab-dcac-568fc9f482b9"
   },
   "outputs": [
    {
     "data": {
      "text/plain": [
       "array([ 0. ,  0. ,  0. ,  0. ,  0. ,  0. ,  0. ,  0. ,  0. ,  0. ,  0.9,\n",
       "        7.2, 10.9,  7.2,  0.9,  0. ,  0. ,  0. ,  0. ,  0. ,  0. ,  0. ,\n",
       "        0. ,  0. ,  0. ])"
      ]
     },
     "execution_count": 223,
     "metadata": {},
     "output_type": "execute_result"
    }
   ],
   "source": [
    "V_stos[1]"
   ]
  },
  {
   "cell_type": "markdown",
   "metadata": {
    "id": "pnL7YdP-AyNd"
   },
   "source": [
    "Here's where the values come from"
   ]
  },
  {
   "cell_type": "code",
   "execution_count": 224,
   "metadata": {
    "colab": {
     "base_uri": "https://localhost:8080/"
    },
    "id": "okR9HijG_RZx",
    "outputId": "cd287383-b980-48ff-896b-8ee2672c1d4e"
   },
   "outputs": [
    {
     "data": {
      "text/plain": [
       "(0.9, 7.2, 10.9, 7.2, 0.9)"
      ]
     },
     "execution_count": 224,
     "metadata": {},
     "output_type": "execute_result"
    }
   ],
   "source": [
    "0+g*(.1*0 +.8*0 + .1*10), 0+g*(.1*0 + .8*10 + .1*0), 10+g*(.1*0 +.8*0 + .1*10), 0+g*(.1*0 + .8*10 + .1*0),0+g*(.1*0 +.8*0 + .1*10)"
   ]
  },
  {
   "cell_type": "markdown",
   "metadata": {
    "id": "JtUuvNKMBg4d"
   },
   "source": [
    "Fully unrolled:"
   ]
  },
  {
   "cell_type": "code",
   "execution_count": 225,
   "metadata": {
    "colab": {
     "base_uri": "https://localhost:8080/"
    },
    "id": "ucaqOTtdBjrD",
    "outputId": "7cb138d2-84da-417e-e79f-ae2af3ea3784"
   },
   "outputs": [
    {
     "data": {
      "text/plain": [
       "(10.9, 7.2, 0.9)"
      ]
     },
     "execution_count": 225,
     "metadata": {},
     "output_type": "execute_result"
    }
   ],
   "source": [
    "v1c = 10+g*(.1*0 +.8*0 + .1*(10+g*0))\n",
    "v1c1 = 0+g*(.1*0 + .8*(10 +g*0) + .1*0)\n",
    "v1c2 = 0+g*(.1*0 +.8*0 + .1*(10+g*0))\n",
    "\n",
    "v1c, v1c1, v1c2"
   ]
  },
  {
   "cell_type": "code",
   "execution_count": null,
   "metadata": {
    "id": "D50LUfsmz0tF"
   },
   "outputs": [],
   "source": []
  },
  {
   "cell_type": "markdown",
   "metadata": {
    "id": "oFcpVgHj_gHq"
   },
   "source": [
    "#### Iteration 2"
   ]
  },
  {
   "cell_type": "code",
   "execution_count": 226,
   "metadata": {
    "colab": {
     "base_uri": "https://localhost:8080/"
    },
    "id": "I6B7tBCbANz1",
    "outputId": "51ecfed3-01cc-4bc0-89fe-dd16c388e193"
   },
   "outputs": [
    {
     "data": {
      "text/plain": [
       "array([ 0.   ,  0.   ,  0.   ,  0.   ,  0.   ,  0.   ,  0.   ,  0.   ,\n",
       "        0.081,  1.296,  6.246,  9.144, 16.246,  9.144,  6.246,  1.296,\n",
       "        0.081,  0.   ,  0.   ,  0.   ,  0.   ,  0.   ,  0.   ,  0.   ,\n",
       "        0.   ])"
      ]
     },
     "execution_count": 226,
     "metadata": {},
     "output_type": "execute_result"
    }
   ],
   "source": [
    "V_stos[2]"
   ]
  },
  {
   "cell_type": "code",
   "execution_count": 227,
   "metadata": {
    "colab": {
     "base_uri": "https://localhost:8080/"
    },
    "id": "CcPoC1GSBA9T",
    "outputId": "dbdf7730-605d-4782-ef55-f3f87b90a456"
   },
   "outputs": [
    {
     "data": {
      "text/plain": [
       "(16.246000000000002,\n",
       " 9.144000000000002,\n",
       " 6.246,\n",
       " 1.2960000000000003,\n",
       " 0.08100000000000002)"
      ]
     },
     "execution_count": 227,
     "metadata": {},
     "output_type": "execute_result"
    }
   ],
   "source": [
    "10+g*(.1*10.9 +.8*7.2 + .1*0.9), \\\n",
    "0+g*(.1*7.2 + .8*10.9 + 0.1*7.2), \\\n",
    "0+g*(.1*10.9 + .8*7.2 + 0.1*0.9), \\\n",
    "0+g*(.1*7.2 + .8*0.9), \\\n",
    "0+g*(.1*0.9)\n"
   ]
  },
  {
   "cell_type": "markdown",
   "metadata": {
    "id": "30EkqEwNE4IK"
   },
   "source": [
    "Unrolled once:"
   ]
  },
  {
   "cell_type": "code",
   "execution_count": 228,
   "metadata": {
    "colab": {
     "base_uri": "https://localhost:8080/"
    },
    "id": "OW5YrfvYE4IN",
    "outputId": "724d8fc1-4187-46d0-fcde-8bfd6cc6e54e"
   },
   "outputs": [
    {
     "data": {
      "text/plain": [
       "(16.246000000000002,\n",
       " 9.144000000000002,\n",
       " 6.246,\n",
       " 1.2960000000000003,\n",
       " 0.08100000000000002)"
      ]
     },
     "execution_count": 228,
     "metadata": {},
     "output_type": "execute_result"
    }
   ],
   "source": [
    "v2c = 10+g*(.1*v1c +.8*v1c1 + .1*v1c2)\n",
    "v2c1 = 0+g*(.1*v1c1 + .8*v1c + 0.1*v1c1)\n",
    "v2c2 = 0+g*(.1*v1c + .8*v1c1 + 0.1*v1c2)\n",
    "v2c3 = 0+g*(.1*v1c1 + .8*v1c2)\n",
    "v2c4 = 0+g*(.1*v1c2)\n",
    "\n",
    "v2c, v2c1, v2c2, v2c3, v2c4\n"
   ]
  },
  {
   "cell_type": "markdown",
   "metadata": {
    "id": "vgKI8UsVE7JR"
   },
   "source": [
    "Fully unrolled.  Pretty clear that this explodes.  Not seeing how I'm going to be able to reformulate this algebraicly into sums of peaks or some other linear combination of peaks.  Maybe that won't pan out."
   ]
  },
  {
   "cell_type": "code",
   "execution_count": null,
   "metadata": {
    "id": "TuPXsDCYLsNN"
   },
   "outputs": [],
   "source": []
  },
  {
   "cell_type": "code",
   "execution_count": 229,
   "metadata": {
    "colab": {
     "base_uri": "https://localhost:8080/"
    },
    "id": "tt7IF5cpLto0",
    "outputId": "812163d7-c1b5-4a8d-9919-371c7119e888"
   },
   "outputs": [
    {
     "data": {
      "text/plain": [
       "(16.246000000000002,\n",
       " 9.144000000000002,\n",
       " 6.246,\n",
       " 1.2960000000000003,\n",
       " 0.08100000000000002)"
      ]
     },
     "execution_count": 229,
     "metadata": {},
     "output_type": "execute_result"
    }
   ],
   "source": [
    "v2c = 10+g*(.1*( 10+g*(.1*0 + .8*0         + .1*(10+g*0))  ) + \\\n",
    "            .8*(  0+g*(.1*0 + .8*(10 +g*0) + .1*0       )  ) + \\\n",
    "            .1*(  0+g*(.1*0 + .8*0         + .1*(10+g*0))  )   \\\n",
    "            )\n",
    "v2c1 = 0+g*(.1*(  0+g*(.1*0 + .8*(10 +g*0) + .1*0       )  ) + \\\n",
    "            .8*( 10+g*(.1*0 + .8*0         + .1*(10+g*0))  ) + \\\n",
    "            .1*(  0+g*(.1*0 + .8*(10 +g*0) + .1*0       )  )   \\\n",
    "            )\n",
    "v2c2 = 0+g*(.1*(10+g*(.1*0 + .8*0         + .1*(10+g*0) )  ) + \\\n",
    "            .8*( 0+g*(.1*0 + .8*(10 +g*0) + .1*0        )  ) + \\\n",
    "            .1*( 0+g*(.1*0 + .8*0         + .1*(10+g*0) )  )   \\\n",
    "            )\n",
    "v2c3 = 0+g*(.1*(0+g*(.1*0 + .8*(10 +g*0) + .1*0         )  ) + \\\n",
    "            .8*(0+g*(.1*0 + .8*0         + .1*(10+g*0)  )  )   \\\n",
    "            )\n",
    "v2c4 = 0+g*(.1*(0+g*(.1*0 + .8*0         + .1*(10+g*0)  )  )   )\n",
    "\n",
    "v2c, v2c1, v2c2, v2c3, v2c4\n"
   ]
  },
  {
   "cell_type": "markdown",
   "metadata": {
    "id": "KlvPtozSukdj"
   },
   "source": [
    "### Initial Conclusions\n",
    "\n",
    "This seems to be an intractible way to proceed.  What I was hoping to see was an algebraic method to describe the peaks as a linear combination of peaks discounted by the uncertainty parameters would fall out.  Such as $.6 * V_{peak} + .1 * V_{peak} + .1 * V_{peak}$, where $V_{peak}$ is the max value of the determistic peak.  I thought this would be apparent by factoring out the geometric series like we do for deterministic peaks.  Doesn't look like it's going to be that easy though.\n"
   ]
  },
  {
   "cell_type": "markdown",
   "metadata": {
    "id": "wNAZu0PGL0iu"
   },
   "source": [
    "# Probabilty of reachabilty\n",
    "\n",
    "\n",
    "What I'm thinking at the moment is that I could probably explain the stochastic value function by running a monte carlo rollout like process where I generate a probability $P( s_o | s_i )$ of arriving at each state $s_o \\in S$ starting from state $s_i \\in S$.  It might be that applying $P( s_o | s_i ) \\cdot V_{det}( s_o )$ would yeild the stochastic value function $V_{sto}$?  But seems like something's missing there, as the stochastic value function wouldn't depend on $s_o$.  So maybe something like $V_{sto}(s_i) = \\sum_{s \\in S} P( s | s_i ) \\cdot V_{det}( s )$.  That might make sense and could be easy to test in a small environment.\n",
    "\n",
    "Testing this hyptothesis:\n",
    "\n",
    "$V_{sto}(s_i) = \\sum_{s \\in S} P( s | s_i ) \\cdot V_{det}( s )$.  \n"
   ]
  },
  {
   "cell_type": "markdown",
   "metadata": {
    "id": "ZllOvv8rEnZ7"
   },
   "source": [
    "## Random Walk\n",
    "\n",
    "Test a random walk approach to generating $P( s| s_i )$."
   ]
  },
  {
   "cell_type": "code",
   "execution_count": 230,
   "metadata": {
    "id": "L7de6zHUzvv0"
   },
   "outputs": [],
   "source": [
    "V_sto = V_stos[-1]"
   ]
  },
  {
   "cell_type": "markdown",
   "metadata": {
    "id": "0dOkBQGI02Bp"
   },
   "source": [
    "How can we determine $P( s | s_i )$?\n",
    "\n",
    "We need to start from $s_i$ and run many Monte Carlo runs where we randomly select an action then apply the transition function, counting each state we reach.  We probably need to run many iterations and maybe need to apply some exploration policies such as epsilon-greedy or an Ornstein–Uhlenbeck process in order to get good exploration?  We don't want a random walk as we won't explore the extremes very well.  (And epsilon-greedy here probably isn't appropriate either.)\n",
    "\n",
    "Let's try out a simple random walk first:\n"
   ]
  },
  {
   "cell_type": "code",
   "execution_count": 231,
   "metadata": {
    "colab": {
     "base_uri": "https://localhost:8080/"
    },
    "id": "YS3_vYSB0Be3",
    "outputId": "695a1e88-1655-42df-f127-1df97ae8c53a"
   },
   "outputs": [
    {
     "ename": "KeyboardInterrupt",
     "evalue": "",
     "output_type": "error",
     "traceback": [
      "\u001b[0;31m---------------------------------------------------------------------------\u001b[0m",
      "\u001b[0;31mKeyboardInterrupt\u001b[0m                         Traceback (most recent call last)",
      "Input \u001b[0;32mIn [231]\u001b[0m, in \u001b[0;36m<cell line: 7>\u001b[0;34m()\u001b[0m\n\u001b[1;32m     25\u001b[0m prob \u001b[38;5;241m=\u001b[39m T[ s, a, : ]\n\u001b[1;32m     27\u001b[0m \u001b[38;5;66;03m#print( f'next state probability {prob}')\u001b[39;00m\n\u001b[1;32m     28\u001b[0m \n\u001b[1;32m     29\u001b[0m \u001b[38;5;66;03m# Use this probablity distribution to randomly determine which next state\u001b[39;00m\n\u001b[1;32m     30\u001b[0m \u001b[38;5;66;03m# sp we arrive at\u001b[39;00m\n\u001b[0;32m---> 32\u001b[0m sp \u001b[38;5;241m=\u001b[39m \u001b[43mnp\u001b[49m\u001b[38;5;241;43m.\u001b[39;49m\u001b[43mrandom\u001b[49m\u001b[38;5;241;43m.\u001b[39;49m\u001b[43mchoice\u001b[49m\u001b[43m(\u001b[49m\u001b[43m \u001b[49m\u001b[38;5;28;43mrange\u001b[39;49m\u001b[43m(\u001b[49m\u001b[38;5;28;43mlen\u001b[39;49m\u001b[43m(\u001b[49m\u001b[43mprob\u001b[49m\u001b[43m)\u001b[49m\u001b[43m)\u001b[49m\u001b[43m,\u001b[49m\u001b[43m \u001b[49m\u001b[43mp\u001b[49m\u001b[43m \u001b[49m\u001b[38;5;241;43m=\u001b[39;49m\u001b[43m \u001b[49m\u001b[43mprob\u001b[49m\u001b[43m \u001b[49m\u001b[43m)\u001b[49m\n\u001b[1;32m     34\u001b[0m \u001b[38;5;66;03m#print( f'next state {sp}')\u001b[39;00m\n\u001b[1;32m     37\u001b[0m s \u001b[38;5;241m=\u001b[39m sp\n",
      "File \u001b[0;32mmtrand.pyx:901\u001b[0m, in \u001b[0;36mnumpy.random.mtrand.RandomState.choice\u001b[0;34m()\u001b[0m\n",
      "\u001b[0;31mKeyboardInterrupt\u001b[0m: "
     ]
    }
   ],
   "source": [
    "# Choose an initial state\n",
    "s_i = 0\n",
    "\n",
    "# Perform a random walk and count the states we end up at.\n",
    "counts = np.zeros_like( V_sto )\n",
    "\n",
    "for runs in range(10000):\n",
    "  s = s_i\n",
    "  for i in range( 100 ):\n",
    "    # Choose an action randomly.  One trick here is we need to know how many\n",
    "    # actions are available from this state.  We can figure this out by determining\n",
    "    # the out-degree of this node in the graph.\n",
    "\n",
    "    out_degree = G.degree( s )\n",
    "\n",
    "    #print( f\"Out degree of {s} is {out_degree}\" )\n",
    "\n",
    "    # Select a uniform random action\n",
    "    a = np.random.randint( 0, out_degree )  # generate from 0 to out_degree - 1\n",
    "\n",
    "    #print( f'selected random action {a}')\n",
    "\n",
    "    # Extract the probability of transitioning to sp from this state for this\n",
    "    # action\n",
    "    prob = T[ s, a, : ]\n",
    "\n",
    "    #print( f'next state probability {prob}')\n",
    "\n",
    "    # Use this probablity distribution to randomly determine which next state\n",
    "    # sp we arrive at\n",
    "\n",
    "    sp = np.random.choice( range(len(prob)), p = prob )\n",
    "\n",
    "    #print( f'next state {sp}')\n",
    "\n",
    "\n",
    "    s = sp\n",
    "\n",
    "    counts[ sp ] += 1\n",
    "\n",
    "print( f'counts: {counts}')\n",
    "\n",
    "probs = counts/counts.sum()\n",
    "print( f'probabiliteis: {probs}')\n"
   ]
  },
  {
   "cell_type": "code",
   "execution_count": null,
   "metadata": {
    "colab": {
     "base_uri": "https://localhost:8080/"
    },
    "id": "g97N-jZh5K1f",
    "outputId": "e497e68c-f936-4ea7-aa5b-b8ca8fa3de14"
   },
   "outputs": [],
   "source": [
    "V_det, V_sto"
   ]
  },
  {
   "cell_type": "code",
   "execution_count": null,
   "metadata": {
    "colab": {
     "base_uri": "https://localhost:8080/"
    },
    "id": "bdlfhylp6Lg_",
    "outputId": "e192768a-a3a3-40cb-bdbd-9ec6c6200157"
   },
   "outputs": [],
   "source": [
    "V_det * probs "
   ]
  },
  {
   "cell_type": "code",
   "execution_count": null,
   "metadata": {
    "colab": {
     "base_uri": "https://localhost:8080/"
    },
    "id": "LCIt5TOb6VYC",
    "outputId": "05a8fb70-258c-4dc4-e019-fd6d65aa3c5f"
   },
   "outputs": [],
   "source": [
    "np.sum( V_det.max() * probs )"
   ]
  },
  {
   "cell_type": "code",
   "execution_count": null,
   "metadata": {
    "colab": {
     "base_uri": "https://localhost:8080/"
    },
    "id": "UXiHebWP6bCf",
    "outputId": "a3dbf928-61a9-4a6d-d10f-72fcfb132e63"
   },
   "outputs": [],
   "source": [
    "np.sum( V_det * probs ), V_sto[0]"
   ]
  },
  {
   "cell_type": "code",
   "execution_count": null,
   "metadata": {
    "id": "AKxg3U087hfm"
   },
   "outputs": [],
   "source": []
  },
  {
   "cell_type": "markdown",
   "metadata": {
    "id": "qq8CLhzVEukh"
   },
   "source": [
    "## Using Deterministic MDP Policy\n",
    "\n",
    "Trying using the determistic policy to generate $P( s | s_i )$."
   ]
  },
  {
   "cell_type": "markdown",
   "metadata": {
    "id": "mLRvPGhPWQTl"
   },
   "source": [
    "### Manually for a single state"
   ]
  },
  {
   "cell_type": "markdown",
   "metadata": {
    "id": "uS4eD9aQFdMJ"
   },
   "source": [
    "First generate the policy for the deterministic MDP.\n"
   ]
  },
  {
   "cell_type": "code",
   "execution_count": null,
   "metadata": {
    "colab": {
     "base_uri": "https://localhost:8080/"
    },
    "id": "FxDTnH67GKkQ",
    "outputId": "88364197-fc41-4828-be9a-ca0a5a3b8d0c"
   },
   "outputs": [],
   "source": [
    "\n",
    "policy_det = np.zeros_like( V_det, dtype=int )\n",
    "policy_det_nice = []\n",
    "\n",
    "for s in range(N):\n",
    "\n",
    "  # Choose an action randomly.  One trick here is we need to know how many\n",
    "  # actions are available from this state.  We can figure this out by determining\n",
    "  # the out-degree of this node in the graph.\n",
    "\n",
    "  out_degree = G.degree( s )\n",
    "\n",
    "  print( f\"Out degree of {s} is {out_degree}\" )\n",
    "\n",
    "  values = np.zeros( (out_degree) )\n",
    "  action_nice = []\n",
    "\n",
    "  for a in range(out_degree):\n",
    "\n",
    "    print( f'  action {a}')\n",
    "\n",
    "    # Extract the probability of transitioning to sp from this state for this\n",
    "    # action\n",
    "    prob = T[ s, a, : ]\n",
    "\n",
    "    # Use this probablity distribution to randomly determine which next state\n",
    "    # sp we arrive at\n",
    "\n",
    "    sp = np.argmax( prob )\n",
    "\n",
    "    print( f'    next state {sp}' ) #', probability {prob}')\n",
    "\n",
    "    value = V_det[sp]\n",
    "\n",
    "    print( f'    value at {sp} is {value}')\n",
    "\n",
    "    values[a] = value\n",
    "\n",
    "  # Best action\n",
    "  a_star = np.argmax( values )\n",
    "\n",
    "  print( f'  a_star {a_star}')\n",
    "\n",
    "  policy_det[s] = a_star\n",
    "\n",
    "print( f'policy {policy_det}' )"
   ]
  },
  {
   "cell_type": "code",
   "execution_count": null,
   "metadata": {
    "colab": {
     "base_uri": "https://localhost:8080/"
    },
    "id": "KrlapwgOFTgG",
    "outputId": "cbd82f93-bcd8-428f-c94f-83d1eeca70ae"
   },
   "outputs": [],
   "source": [
    "# Choose an initial state\n",
    "s_i = 0\n",
    "\n",
    "# Perform a random walk and count the states we end up at.\n",
    "counts = np.zeros_like( V_sto )\n",
    "\n",
    "for runs in range(100):\n",
    "  s = s_i\n",
    "  for i in range( 10 ):\n",
    "    # Select the action from the determistic policy.\n",
    "    a = policy_det[s]\n",
    "\n",
    "    #print( f'selected random action {a}')\n",
    "\n",
    "    # Extract the probability of transitioning to sp from this state for this\n",
    "    # action\n",
    "    prob = T[ s, a, : ]\n",
    "\n",
    "    #print( f'next state probability {prob}')\n",
    "\n",
    "    # Use this probablity distribution to randomly determine which next state\n",
    "    # sp we arrive at\n",
    "\n",
    "    sp = np.random.choice( range(len(prob)), p = prob )\n",
    "\n",
    "    #print( f'next state {sp}')\n",
    "\n",
    "\n",
    "    s = sp\n",
    "\n",
    "    counts[ sp ] += 1\n",
    "\n",
    "print( f'counts: {counts}')\n",
    "\n",
    "probs = counts/counts.sum()\n",
    "print( f'probabiliteis: {probs}')\n"
   ]
  },
  {
   "cell_type": "code",
   "execution_count": null,
   "metadata": {
    "id": "Hw42kFCkNSIG"
   },
   "outputs": [],
   "source": []
  },
  {
   "cell_type": "code",
   "execution_count": null,
   "metadata": {
    "colab": {
     "base_uri": "https://localhost:8080/"
    },
    "id": "2R6nN8XlNjc_",
    "outputId": "62cbed81-ef1b-45c1-b79b-370f648a3e16"
   },
   "outputs": [],
   "source": [
    "V_det, V_sto"
   ]
  },
  {
   "cell_type": "code",
   "execution_count": null,
   "metadata": {
    "colab": {
     "base_uri": "https://localhost:8080/"
    },
    "id": "Y10Io1-iNjdA",
    "outputId": "0e7e2163-5e30-45b8-b576-9be57eabedcc"
   },
   "outputs": [],
   "source": [
    "V_det * probs "
   ]
  },
  {
   "cell_type": "code",
   "execution_count": null,
   "metadata": {
    "colab": {
     "base_uri": "https://localhost:8080/"
    },
    "id": "1IbY6jC6Nl8h",
    "outputId": "12446807-f1f9-4320-ea4c-788dcd7221bd"
   },
   "outputs": [],
   "source": [
    "discounts = np.zeros_like( V_det )\n",
    "s_i = 0\n",
    "for s in range(N):\n",
    "   discounts[ s ] = gamma ** (s - s_i + 1)\n",
    "\n",
    "discounts\n",
    "\n"
   ]
  },
  {
   "cell_type": "code",
   "execution_count": null,
   "metadata": {
    "colab": {
     "base_uri": "https://localhost:8080/"
    },
    "id": "sVp0qsQ4OV98",
    "outputId": "b0e636ac-fa1a-41e0-f6cd-25c18843bf85"
   },
   "outputs": [],
   "source": [
    "V_det, V_det * discounts, V_det * discounts * probs, np.sum( V_det * discounts * probs ), V_sto[0]"
   ]
  },
  {
   "cell_type": "markdown",
   "metadata": {
    "id": "kIZELX8eWaNV"
   },
   "source": [
    "### Applying over every state"
   ]
  },
  {
   "cell_type": "markdown",
   "metadata": {
    "id": "8awClxNCO_IA"
   },
   "source": [
    "This seems pretty close.  Let's see how it looks over every state."
   ]
  },
  {
   "cell_type": "code",
   "execution_count": null,
   "metadata": {
    "id": "3y2XAOOVOZQv"
   },
   "outputs": [],
   "source": [
    "# Perform a random walk and count the states we end up at.\n",
    "counts = np.zeros( (N, N)  )\n",
    "probs  = np.zeros( (N, N)  )\n",
    "\n",
    "# Choose an initial state\n",
    "for s_i in range(N):\n",
    "\n",
    "  #print( f'****** s_i {s_i}')\n",
    "\n",
    "  for runs in range(100):\n",
    "    s = s_i\n",
    "    for i in range( 25 ):\n",
    "      # Select the action from the determistic policy.\n",
    "      a = policy_det[s]\n",
    "\n",
    "      #print( f'action {a}')\n",
    "\n",
    "      # Extract the probability of transitioning to sp from this state for this\n",
    "      # action\n",
    "      prob = T[ s, a, : ]\n",
    "\n",
    "      #print( f'next state probability {prob}')\n",
    "\n",
    "      # Use this probablity distribution to randomly determine which next state\n",
    "      # sp we arrive at\n",
    "\n",
    "      sp = np.random.choice( range(len(prob)), p = prob )\n",
    "\n",
    "      #print( f'next state {sp}')\n",
    "\n",
    "\n",
    "      s = sp\n",
    "\n",
    "      #print( f'counts shape {counts.shape}')\n",
    "\n",
    "      counts[ s_i, sp ] += 1\n",
    "\n",
    "  #print( f'counts: {counts[s_i,:]}')\n",
    "\n",
    "  probs[s_i,:] = counts[s_i,:]/counts[s_i,:].sum()\n",
    "\n",
    "#print( f'probabiliteis: {probs}')\n",
    "\n",
    "discounts = np.zeros( (N,N) )\n",
    "\n",
    "# This doesn't appear to be quite right\n",
    "for s_i in range(N):\n",
    "  for s in range(N):\n",
    "    discounts[ s_i, s ] = gamma ** ( abs(s - s_i + 1)  )  # HACK: Changing this around shifts the error in the plots below\n",
    "\n",
    "\n",
    "V_pred = np.zeros_like( V_sto )\n",
    "\n",
    "for s_i in range(N):\n",
    "  sum = np.sum( V_det * discounts[s_i] * probs[s_i] )\n",
    "  V_pred[ s_i ] = sum\n",
    "  \n",
    "  #print( f's_i {s_i}  calc\\'d {sum}  actual {V_sto[s_i]}' )\n",
    "\n"
   ]
  },
  {
   "cell_type": "code",
   "execution_count": null,
   "metadata": {
    "colab": {
     "base_uri": "https://localhost:8080/",
     "height": 625
    },
    "id": "FgXqIiLgRhuk",
    "outputId": "01d007e6-440b-4793-dda6-741753d4938c"
   },
   "outputs": [],
   "source": [
    "# How are we going to graph this?\n",
    "\n",
    "sz = 1000\n",
    "\n",
    "figsize = (10,10) \n",
    "\n",
    "#pos=nx.spring_layout(G,iterations=100)\n",
    "plt.figure(figsize=figsize)\n",
    "plt.title( \"Node assignment\" )\n",
    "\n",
    "x = np.arange( N )\n",
    "plt.plot( x, V_det, label='deterministic' )\n",
    "plt.plot( x, V_sto, label='stochastic' )\n",
    "plt.plot( x, V_pred, label='predicted' )\n",
    "\n",
    "\n",
    "plt.legend()"
   ]
  },
  {
   "cell_type": "markdown",
   "metadata": {
    "id": "T4R6bzer6F_P"
   },
   "source": [
    "We can see that it's pretty accurate on one side of the reward, but it's a bit off on the right hand side.  There's a place a couple of cells above where I call out an extra +1 I can insert into the code for generating the discount factors that will shift around whether this error is on the left hand side or right hand side of the peak.  It's not clear to my why this is happening.\n",
    "\n",
    "Playing with it made me realize that if I apply that +1 in some places but not others, I can get very close to the real value function, which I implement in the next section.  I would like to find a way to remove this."
   ]
  },
  {
   "cell_type": "markdown",
   "metadata": {
    "id": "-JDcSC2vWkjZ"
   },
   "source": [
    "## Hack I can't explain but is nearly exact\n",
    "\n",
    "If I insert a hack value into the discount factor distance calculation, I can get a pretty close approximation of the stochastic MDP.  If we ignore the hack for a moment, the way to understand what I'm doing here is:\n",
    "\n",
    "What this corresponds to is $V_{sto}(s_i) = \\sum_{s \\in S} \\Gamma(s_i, s ) \\cdot P( s | s_i, \\pi_{det}) \\cdot V_{det}( s )$, where $\\Gamma( s_i, s ) = \\gamma^{ \\delta( s_i, s ) }$, where $\\delta( s_i, s)$ is the distance between states $s_i$ and $s$ through the determistic MDP, and $P( s | s_i, \\pi_{det} )$ is the probability of reaching state $s$ starting from state $s_i$ following the policy resulting from solving the determistic version of the MDP, resulting in value function $V_{det}$ and policy $\\pi_{det}$. \n",
    "\n",
    "So this basically says that the value at the current state is the sum of the probabilities of reaching state $s$ following the determistic policy $\\pi_{det}$ multiplied by the discounted future value of reaching that state."
   ]
  },
  {
   "cell_type": "code",
   "execution_count": null,
   "metadata": {
    "colab": {
     "base_uri": "https://localhost:8080/",
     "height": 1000
    },
    "id": "WpHcnfGHT88i",
    "outputId": "0e270801-ac81-4029-d00a-f95d737ce8b4"
   },
   "outputs": [],
   "source": [
    "# Perform a random walk and count the states we end up at.\n",
    "counts = np.zeros( (N, N)  )\n",
    "probs  = np.zeros( (N, N)  )\n",
    "\n",
    "s_peak = np.argmax( V_det )\n",
    "\n",
    "# Choose an initial state\n",
    "for s_i in range(N):\n",
    "\n",
    "  print( f'****** s_i {s_i}')\n",
    "\n",
    "  counts[ s_i, s_peak ] += 1000\n",
    "\n",
    "  for run in range(1000):\n",
    "    #print( f's_i {s_i} run {run}')\n",
    "    s = s_i\n",
    "    peak_count = 0\n",
    "\n",
    "    for i in range( N*4 ):\n",
    "      # Select the action from the determistic policy.\n",
    "      a = policy_det[s]\n",
    "\n",
    "      #print( f'action {a}')\n",
    "\n",
    "      # Extract the probability of transitioning to sp from this state for this\n",
    "      # action\n",
    "      prob = T[ s, a, : ]\n",
    "\n",
    "      #print( f'next state probability {prob}')\n",
    "\n",
    "      # Use this probablity distribution to randomly determine which next state\n",
    "      # sp we arrive at\n",
    "\n",
    "      sp = np.random.choice( range(len(prob)), p = prob )\n",
    "\n",
    "      #print( f'next state {sp}')\n",
    "\n",
    "\n",
    "      s = sp\n",
    "\n",
    "      #print( f'counts shape {counts.shape}')\n",
    "\n",
    "      counts[ s_i, sp ] += 1\n",
    "\n",
    "      if s == s_peak:\n",
    "        peak_count += 1\n",
    "\n",
    "      if peak_count >= 1:\n",
    "        break\n",
    "\n",
    "  #print( f'counts: {counts[s_i,:]}')\n",
    "\n",
    "  probs[s_i,:] = counts[s_i,:]/counts[s_i,:].sum()\n",
    "\n",
    "#print( f'probabiliteis: {probs}')\n",
    "\n",
    "discounts = np.zeros( (N,N) )\n",
    "\n",
    "# This doesn't appear to be quite right\n",
    "for s_i in range(N):\n",
    "  for s in range(N):\n",
    "\n",
    "    ###################### HERE IS THE HACK\n",
    "    hack_offset = 0\n",
    "    if s_i < s_peak:\n",
    "      hack_offset = 1 # why is this needed?\n",
    "    elif s_i == s_peak:\n",
    "      hack_offset = 0  # disabled in this case\n",
    "    elif s_i > s_peak:\n",
    "      hack_offset = 1  # why is this needed?\n",
    "    discounts[ s_i, s ] = gamma ** ( abs(s - s_i ) + hack_offset  )\n",
    "    ###################### HERE IS THE HACK\n",
    "\n",
    "\n",
    "V_pred = np.zeros_like( V_sto )\n",
    "\n",
    "s_peak = np.argmax( V_det )\n",
    "\n",
    "for s_i in range(N):\n",
    "  sum = np.sum( V_det * discounts[s_i] * probs[s_i] )\n",
    "  V_pred[ s_i ] = sum\n",
    "\n",
    "  \n",
    "  #print( f's_i {s_i}  calc\\'d {sum}  actual {V_sto[s_i]}' )\n",
    "\n",
    "# How are we going to graph this?\n",
    "\n",
    "sz = 1000\n",
    "\n",
    "figsize = (10,10) \n",
    "\n",
    "#pos=nx.spring_layout(G,iterations=100)\n",
    "plt.figure(figsize=figsize)\n",
    "plt.title( \"Node assignment\" )\n",
    "\n",
    "x = np.arange( N )\n",
    "plt.plot( x, V_det, label='deterministic' )\n",
    "plt.plot( x, V_sto, label='stochastic' )\n",
    "plt.plot( x, V_pred, label='predicted' )\n",
    "\n",
    "\n",
    "plt.legend()"
   ]
  },
  {
   "cell_type": "markdown",
   "metadata": {
    "id": "5sS2pYk0US53"
   },
   "source": [
    "## Initial Conclusions\n",
    "\n",
    "This appears to be very close to stochastic MDP, and it also makes sense intuitively why this method would work.  There will be some challenges to make it tractable though.  It would be very expensive to compute the Probability of Reachability for every state in a large MDP.  Is there a way to compute this exactly with some closed form method?  Or given a certain type of transition function (e.g., Gaussian uncertainty) can this be computed more easily to make it tractable using Gaussian uncertainty propagation like Kalman filters?\n",
    "\n",
    "It's very exciting to find a method that works at all for any case.  I wasn't sure I'd be able to get this far during my PhD time frame.\n",
    "\n"
   ]
  },
  {
   "cell_type": "markdown",
   "metadata": {
    "id": "KjWWk_U9xwMj"
   },
   "source": [
    "## Reexamining the hack"
   ]
  },
  {
   "cell_type": "markdown",
   "metadata": {
    "id": "oqpgpQJ44uY-"
   },
   "source": [
    "One concern that remains -- why did I need to insert the hack above?  Makes me wonder if I'm coming to a bad conclusion due to confirmation bias.  \"I was able to match the curve with this hack, therefore I must have figured it out.\"  Need to go back and understand why this is happening."
   ]
  },
  {
   "cell_type": "markdown",
   "metadata": {
    "id": "LiFWWwcpwlCm"
   },
   "source": [
    "# Third Try\n"
   ]
  },
  {
   "cell_type": "markdown",
   "metadata": {
    "id": "XTzy0UNa3pGV"
   },
   "source": [
    "## Smaller world"
   ]
  },
  {
   "cell_type": "code",
   "execution_count": null,
   "metadata": {
    "colab": {
     "base_uri": "https://localhost:8080/",
     "height": 629
    },
    "id": "ygR-C9uOyUYq",
    "outputId": "e387800d-2d43-40fe-a2ab-a6fc98ac4d6e"
   },
   "outputs": [],
   "source": [
    "# Generate a 1D grid world using networkx to do it.\n",
    "G = nx.generators.random_graphs.random_lobster( 5, .0, .1, seed=5)\n",
    "\n",
    "#pos=nx.spring_layout(G,iterations=100)\n",
    "\n",
    "nodes = np.array( list(G.nodes) )\n",
    "\n",
    "N = len(nodes)\n",
    "o = np.ones( N )\n",
    "\n",
    "xscale = 50\n",
    "pos={}\n",
    "for i in range(N):\n",
    "  pos[i] = np.array([ i * xscale, 0 ])\n",
    "\n",
    "\n",
    "sz = 700\n",
    "\n",
    "figsize = (10,10) \n",
    "\n",
    "plt.figure(figsize=figsize)\n",
    "plt.title( \"Node assignment\" )\n",
    "\n",
    "edge_colors= np.c_[ [ .8 * o, .8 * o, .9 * o, .7 * o ] ].T\n",
    "nx.draw_networkx(G, pos,  node_size=sz, node_color=(.8, .8, .9, 1.0), edge_color=edge_colors, with_labels=True)\n"
   ]
  },
  {
   "cell_type": "code",
   "execution_count": null,
   "metadata": {
    "colab": {
     "base_uri": "https://localhost:8080/"
    },
    "id": "iX2Jx8jXyWSA",
    "outputId": "b30d5803-e8d6-4b7d-a2b6-aa8ee82e054d"
   },
   "outputs": [],
   "source": [
    "# Instead generate a dictionary with key of the node and value of a list of \n",
    "# outgoing nodes\n",
    "edges = {}\n",
    "for edge in list(G.edges):\n",
    "  #print( edge, type(edge) )\n",
    "  src, dst = edge\n",
    "\n",
    "  # Generate from src to dst\n",
    "  try:\n",
    "    edges[src] += [ dst ]\n",
    "  except KeyError:\n",
    "    edges[src] = [ dst ]\n",
    "\n",
    "  # And since this is a undirected graph generate the reverse transition\n",
    "  try:\n",
    "    edges[dst] += [ src ]\n",
    "  except KeyError:\n",
    "    edges[dst] = [ src ]\n",
    "\n",
    "# Determine the maximum number of outgoing transitions from any node\n",
    "max_out_degree = -1\n",
    "for src, outgoing in edges.items():\n",
    "  max_out_degree = max( max_out_degree, len(outgoing) )\n",
    "\n",
    "print( 'edges: ', edges )\n",
    "print( 'max_out_degree: ', max_out_degree )\n",
    "\n"
   ]
  },
  {
   "cell_type": "code",
   "execution_count": null,
   "metadata": {
    "colab": {
     "base_uri": "https://localhost:8080/"
    },
    "id": "dSyYtfpeyhN7",
    "outputId": "e4ea44fc-316a-477f-fb26-d017193da538"
   },
   "outputs": [],
   "source": [
    "# Let's create a reward function defined over the graph\n",
    "\n",
    "R = np.zeros( (N) )\n",
    "\n",
    "# Put a reward at a random node in the graph.  I picked node\n",
    "# a node arbitrarily and put a reward at that location.\n",
    "R[int(N/2)] = 10\n",
    "\n",
    "# define bellman residual threshold\n",
    "epsilon = .00001\n",
    "\n",
    "# discount factor\n",
    "gamma = 0.9\n",
    "\n",
    "\n",
    "print( \"Solving MDP\" )\n",
    "V = np.zeros( (N) )\n",
    "T_det = T = gen_deterministic_transition_function( N, 2 )\n",
    "V_det = numba_value_iteration_st( N, V, T, R, epsilon, gamma )\n",
    "\n",
    "V = np.zeros( (N) )\n",
    "T_sto = T = gen_stochastic_transition_function( N, 2 )\n",
    "V_sto = numba_value_iteration_st( N, V, T, R, epsilon, gamma )"
   ]
  },
  {
   "cell_type": "code",
   "execution_count": null,
   "metadata": {
    "colab": {
     "base_uri": "https://localhost:8080/",
     "height": 625
    },
    "id": "sBgpDreYyrkG",
    "outputId": "4f637c12-bf66-4085-89a4-bd5cd74ea3cb"
   },
   "outputs": [],
   "source": [
    "# How are we going to graph this?\n",
    "\n",
    "sz = 1000\n",
    "\n",
    "figsize = (10,10) \n",
    "\n",
    "#pos=nx.spring_layout(G,iterations=100)\n",
    "plt.figure(figsize=figsize)\n",
    "plt.title( \"Node assignment\" )\n",
    "\n",
    "x = np.arange( N )\n",
    "plt.plot( x, V_det, label='deterministic' )\n",
    "plt.plot( x, V_sto, label='stochastic' )\n",
    "\n",
    "\n",
    "# Also plot a scaled version of the deterministic value function to \n",
    "# see how well it matches the stochastic version.  At the moment\n",
    "# I determine this by determining the ratio between maximum values\n",
    "# of the determinstic and stochastic case, but I don't yet know \n",
    "# why it's this particular value.  \n",
    "scale = V_sto.max() / V_det.max() \n",
    "\n",
    "plt.plot( x, scale * V_det, label='scale=%.3f'% scale )\n",
    "plt.legend()"
   ]
  },
  {
   "cell_type": "code",
   "execution_count": null,
   "metadata": {
    "colab": {
     "base_uri": "https://localhost:8080/"
    },
    "id": "SO1jzQYU0Ufr",
    "outputId": "6ce1b86d-a45d-44a8-9743-d3094c243d21"
   },
   "outputs": [],
   "source": [
    "\n",
    "policy_det = np.zeros_like( V_det, dtype=int )\n",
    "policy_det_nice = []\n",
    "\n",
    "for s in range(N):\n",
    "\n",
    "  # Choose an action randomly.  One trick here is we need to know how many\n",
    "  # actions are available from this state.  We can figure this out by determining\n",
    "  # the out-degree of this node in the graph.\n",
    "\n",
    "  out_degree = G.degree( s )\n",
    "\n",
    "  print( f\"Out degree of {s} is {out_degree}\" )\n",
    "\n",
    "  values = np.zeros( (out_degree) )\n",
    "  action_nice = []\n",
    "\n",
    "  for a in range(out_degree):\n",
    "\n",
    "    print( f'  action {a}')\n",
    "\n",
    "    # Extract the probability of transitioning to sp from this state for this\n",
    "    # action\n",
    "    prob = T[ s, a, : ]\n",
    "\n",
    "    # Use this probablity distribution to randomly determine which next state\n",
    "    # sp we arrive at\n",
    "\n",
    "    sp = np.argmax( prob )\n",
    "\n",
    "    print( f'    next state {sp}' ) #', probability {prob}')\n",
    "\n",
    "    value = V_det[sp]\n",
    "\n",
    "    print( f'    value at {sp} is {value}')\n",
    "\n",
    "    values[a] = value\n",
    "\n",
    "  # Best action\n",
    "  a_star = np.argmax( values )\n",
    "\n",
    "  print( f'  a_star {a_star}')\n",
    "\n",
    "  policy_det[s] = a_star\n",
    "\n",
    "print( f'policy {policy_det}' )"
   ]
  },
  {
   "cell_type": "code",
   "execution_count": null,
   "metadata": {
    "colab": {
     "base_uri": "https://localhost:8080/",
     "height": 1000
    },
    "id": "T4zn4Gc1ywiP",
    "outputId": "117fdc03-1965-4b47-c183-9792d5a8b137"
   },
   "outputs": [],
   "source": [
    "print(N)\n",
    "# Perform a random walk and count the states we end up at.\n",
    "counts = np.zeros( (N, N)  )\n",
    "probs  = np.zeros( (N, N)  )\n",
    "\n",
    "s_peak = np.argmax( V_det )\n",
    "\n",
    "print( f'peak at {s_peak}' )\n",
    "\n",
    "# Choose an initial state\n",
    "for s_i in range(N):\n",
    "\n",
    "  #print( f'****** s_i {s_i}')\n",
    "\n",
    "  for run in range(1000):\n",
    "    #print( f's_i {s_i} run {run}')\n",
    "    s = s_i\n",
    "    peak_count = 0\n",
    "\n",
    "    for i in range( N*4 ):\n",
    "      # Select the action from the determistic policy.\n",
    "      a = policy_det[s]\n",
    "\n",
    "      #print( f'action {a}')\n",
    "\n",
    "      # Extract the probability of transitioning to sp from this state for this\n",
    "      # action\n",
    "      prob = T[ s, a, : ]\n",
    "\n",
    "      #print( f'next state probability {prob}')\n",
    "\n",
    "      # Use this probablity distribution to randomly determine which next state\n",
    "      # sp we arrive at\n",
    "\n",
    "      sp = np.random.choice( range(len(prob)), p = prob )\n",
    "\n",
    "      #print( f'next state {sp}')\n",
    "\n",
    "\n",
    "      s = sp\n",
    "\n",
    "      #print( f'counts shape {counts.shape}')\n",
    "\n",
    "      counts[ s_i, sp ] += 1\n",
    "\n",
    "      if sp == s_peak:\n",
    "        peak_count += 1\n",
    "\n",
    "      if peak_count >= 1:\n",
    "        break\n",
    "\n",
    "  print( f'counts: \\n{counts[s_i,:]}')\n",
    "\n",
    "  probs[s_i,:] = counts[s_i,:]/counts[s_i,:].sum()\n",
    "\n",
    "print( f'probabilities: \\n{probs}')\n",
    "\n",
    "discounts = np.zeros( (N,N) )\n",
    "\n",
    "# This doesn't appear to be quite right\n",
    "for s_i in range(N):\n",
    "  for s in range(N):\n",
    "\n",
    "    ###################### HERE IS THE HACK\n",
    "    hack_offset = 0\n",
    "    if s_i < s_peak:\n",
    "      hack_offset = 1 # why is this needed?\n",
    "    elif s_i == s_peak:\n",
    "      hack_offset = 0  # disabled in this case\n",
    "    elif s_i > s_peak:\n",
    "      hack_offset = 1  # disabled in this case\n",
    "    discounts[ s_i, s ] = gamma ** ( abs(s - s_i ) + hack_offset  )\n",
    "    ###################### HERE IS THE HACK\n",
    "\n",
    "print( 'discounts: \\n', discounts )\n",
    "\n",
    "V_pred = np.zeros_like( V_sto )\n",
    "\n",
    "s_peak = np.argmax( V_det )\n",
    "\n",
    "for s_i in range(N):\n",
    "  sum = np.sum( V_det * discounts[s_i] * probs[s_i] )\n",
    "  V_pred[ s_i ] = sum\n",
    "\n",
    "  \n",
    "  #print( f's_i {s_i}  calc\\'d {sum}  actual {V_sto[s_i]}' )\n",
    "\n",
    "# How are we going to graph this?\n",
    "\n",
    "sz = 1000\n",
    "\n",
    "figsize = (10,10) \n",
    "\n",
    "#pos=nx.spring_layout(G,iterations=100)\n",
    "plt.figure(figsize=figsize)\n",
    "plt.title( \"Node assignment\" )\n",
    "\n",
    "x = np.arange( N )\n",
    "plt.plot( x, V_det, label='deterministic' )\n",
    "plt.plot( x, V_sto, label='stochastic' )\n",
    "plt.plot( x, V_pred, label='predicted' )\n",
    "\n",
    "\n",
    "plt.legend()"
   ]
  },
  {
   "cell_type": "markdown",
   "metadata": {
    "id": "CY6tZz9b3u60"
   },
   "source": [
    "### I see the problem"
   ]
  },
  {
   "cell_type": "markdown",
   "metadata": {
    "id": "pVrkX5ECy-kc"
   },
   "source": [
    "Ahh, I see what's going on now.  The deterministic policy once we reach the peak causes us to go left."
   ]
  },
  {
   "cell_type": "code",
   "execution_count": null,
   "metadata": {
    "colab": {
     "base_uri": "https://localhost:8080/"
    },
    "id": "pYHXbcpx1czC",
    "outputId": "6604004d-300d-4eb6-92fa-a190f4cc8fb2"
   },
   "outputs": [],
   "source": [
    "policy_det"
   ]
  },
  {
   "cell_type": "markdown",
   "metadata": {
    "id": "0-wFsZ1Q1eEH"
   },
   "source": [
    "When I follow the deterministic policy and record counts of states that I visit, it counts the state with the peak, but it also counts this extra state that's part of the minimum cycle. "
   ]
  },
  {
   "cell_type": "code",
   "execution_count": null,
   "metadata": {
    "colab": {
     "base_uri": "https://localhost:8080/",
     "height": 1000
    },
    "id": "vcvWiZWh1p2k",
    "outputId": "16d02bcc-3f3a-447f-ab56-4a2d605f14a2"
   },
   "outputs": [],
   "source": [
    "figsize = (10,10) \n",
    "\n",
    "#pos=nx.spring_layout(G,iterations=100)\n",
    "plt.figure(figsize=figsize)\n",
    "\n",
    "x = np.arange( N )\n",
    "plt.plot( x, counts[0], label='counts' )\n",
    "\n",
    "plt.legend()\n",
    "\n",
    "figsize = (10,10) \n",
    "\n",
    "#pos=nx.spring_layout(G,iterations=100)\n",
    "plt.figure(figsize=figsize)\n",
    "\n",
    "x = np.arange( N )\n",
    "plt.plot( x, probs[0], label='probabilities' )\n",
    "\n",
    "\n",
    "plt.legend()"
   ]
  },
  {
   "cell_type": "markdown",
   "metadata": {
    "id": "9_ALiMok1qR7"
   },
   "source": [
    " So that's throwing off the estimation of the probability of reachability.  The reason the hack worked is it basically just ignores the fact that the minimum cycle exists.  So maybe instead I should try to do a run until we reach the state with the peak and see what happens?\n"
   ]
  },
  {
   "cell_type": "markdown",
   "metadata": {
    "id": "FJSyP8bX3h1b"
   },
   "source": [
    "## Terminate at peak\n",
    "\n",
    "We're going to do our simulation runs but stop once we reach the peak state."
   ]
  },
  {
   "cell_type": "code",
   "execution_count": null,
   "metadata": {
    "colab": {
     "base_uri": "https://localhost:8080/",
     "height": 1000
    },
    "id": "ix7rqx_d3UqV",
    "outputId": "642e971e-40aa-4b95-ef55-9fe5c02fe820"
   },
   "outputs": [],
   "source": [
    "print(N)\n",
    "# Perform a random walk and count the states we end up at.\n",
    "counts = np.zeros( (N, N)  )\n",
    "probs  = np.zeros( (N, N)  )\n",
    "\n",
    "s_peak = np.argmax( V_det )\n",
    "\n",
    "print( f'Peak is at {s_peak}')\n",
    "\n",
    "# Choose an initial state\n",
    "for s_i in range(N):\n",
    "\n",
    "  print( f'****** s_i {s_i}')\n",
    "  peak_count = 0\n",
    "\n",
    "  ##### HACK HERE TOO #####\n",
    "  # if I artificially plant a large number of counts here to simulate \n",
    "  # going to this state infinitely often, I can alter the value function.\n",
    "  counts[s_i, s_peak] += 1000\n",
    "  #####\n",
    "\n",
    "  for run in range(100):\n",
    "    print( f's_i {s_i} run {run}')\n",
    "    s = s_i\n",
    "    for i in range( N*2 ):\n",
    "      # Select the action from the determistic policy.\n",
    "      a = policy_det[s]\n",
    "\n",
    "      print( f'action {a}')\n",
    "\n",
    "      # Extract the probability of transitioning to sp from this state for this\n",
    "      # action\n",
    "      prob = T[ s, a, : ]\n",
    "\n",
    "      print( f'next state probability {prob}')\n",
    "\n",
    "      # Use this probablity distribution to randomly determine which next state\n",
    "      # sp we arrive at\n",
    "\n",
    "      sp = np.random.choice( range(len(prob)), p = prob )\n",
    "\n",
    "      print( f'next state {sp}')\n",
    "\n",
    "\n",
    "      s = sp\n",
    "\n",
    "      #print( f'counts shape {counts.shape}')\n",
    "\n",
    "      counts[ s_i, sp ] += 1\n",
    "\n",
    "      if s == s_peak:\n",
    "        peak_count += 1\n",
    "\n",
    "      if peak_count >= 1:\n",
    "        break\n",
    "\n",
    "  print( f'counts: {counts[s_i,:]}')\n",
    "\n",
    "  probs[s_i,:] = counts[s_i,:]/counts[s_i,:].sum()\n",
    "\n",
    "#print( f'probabiliteis: {probs}')\n",
    "\n",
    "discounts = np.zeros( (N,N) )\n",
    "\n",
    "# This doesn't appear to be quite right\n",
    "for s_i in range(N):\n",
    "  for s in range(N):\n",
    "\n",
    "    ###################### HERE IS THE HACK\n",
    "    hack_offset = 0\n",
    "    if s_i < s_peak:\n",
    "      hack_offset = 1 # why is this needed?\n",
    "    elif s_i == s_peak:\n",
    "      hack_offset = 1  # disabled in this case\n",
    "    elif s_i > s_peak:\n",
    "      hack_offset = 1  # disabled in this case\n",
    "    discounts[ s_i, s ] = gamma ** ( abs(s - s_i ) + hack_offset  )\n",
    "    ###################### HERE IS THE HACK\n",
    "\n",
    "\n",
    "V_pred = np.zeros_like( V_sto )\n",
    "\n",
    "s_peak = np.argmax( V_det )\n",
    "\n",
    "for s_i in range(N):\n",
    "  sum = np.sum( V_det * discounts[s_i] * probs[s_i] )\n",
    "  V_pred[ s_i ] = sum\n",
    "\n",
    "  \n",
    "  #print( f's_i {s_i}  calc\\'d {sum}  actual {V_sto[s_i]}' )\n",
    "\n",
    "# How are we going to graph this?\n",
    "\n",
    "sz = 1000\n",
    "\n",
    "figsize = (10,10) \n",
    "\n",
    "#pos=nx.spring_layout(G,iterations=100)\n",
    "plt.figure(figsize=figsize)\n",
    "\n",
    "x = np.arange( N )\n",
    "plt.plot( x, counts[0], label='counts' )\n",
    "\n",
    "plt.legend()\n",
    "\n",
    "figsize = (10,10) \n",
    "\n",
    "#pos=nx.spring_layout(G,iterations=100)\n",
    "plt.figure(figsize=figsize)\n",
    "\n",
    "x = np.arange( N )\n",
    "plt.plot( x, probs[0], label='probabilities' )\n",
    "\n",
    "\n",
    "plt.legend()\n",
    "\n",
    "figsize = (10,10) \n",
    "\n",
    "#pos=nx.spring_layout(G,iterations=100)\n",
    "plt.figure(figsize=figsize)\n",
    "plt.title( \"Node assignment\" )\n",
    "\n",
    "x = np.arange( N )\n",
    "plt.plot( x, V_det, label='deterministic' )\n",
    "plt.plot( x, V_sto, label='stochastic' )\n",
    "plt.plot( x, V_pred, label='predicted' )\n",
    "\n",
    "\n",
    "plt.legend()"
   ]
  },
  {
   "cell_type": "markdown",
   "metadata": {
    "id": "3wRdGxeLi7nB"
   },
   "source": [
    "# Gaussian\n",
    "\n",
    "Try to use a real gaussian to generate the probabilities.\n",
    "\n"
   ]
  },
  {
   "cell_type": "markdown",
   "metadata": {
    "id": "jj_4rMInm-ZH"
   },
   "source": [
    "## Recompute Solution\n",
    "\n"
   ]
  },
  {
   "cell_type": "code",
   "execution_count": null,
   "metadata": {
    "colab": {
     "base_uri": "https://localhost:8080/",
     "height": 629
    },
    "id": "iovVAcEWnKS4",
    "outputId": "e42a25c0-92de-461e-aa50-568b654c936d"
   },
   "outputs": [],
   "source": [
    "# Generate a 1D grid world using networkx to do it.\n",
    "G = nx.generators.random_graphs.random_lobster( 10, .0, .1, seed=5)\n",
    "\n",
    "#pos=nx.spring_layout(G,iterations=100)\n",
    "\n",
    "nodes = np.array( list(G.nodes) )\n",
    "\n",
    "N = len(nodes)\n",
    "o = np.ones( N )\n",
    "\n",
    "xscale = 50\n",
    "pos={}\n",
    "for i in range(N):\n",
    "  pos[i] = np.array([ i * xscale, 0 ])\n",
    "\n",
    "\n",
    "sz = 700\n",
    "\n",
    "figsize = (10,10) \n",
    "\n",
    "plt.figure(figsize=figsize)\n",
    "plt.title( \"Node assignment\" )\n",
    "\n",
    "edge_colors= np.c_[ [ .8 * o, .8 * o, .9 * o, .7 * o ] ].T\n",
    "nx.draw_networkx(G, pos,  node_size=sz, node_color=(.8, .8, .9, 1.0), edge_color=edge_colors, with_labels=True)\n"
   ]
  },
  {
   "cell_type": "markdown",
   "metadata": {
    "id": "eupe3inxrp0z"
   },
   "source": [
    "Let's recompute our solution for this 1D grid world."
   ]
  },
  {
   "cell_type": "code",
   "execution_count": null,
   "metadata": {
    "id": "O8ojT7V4qVIT"
   },
   "outputs": [],
   "source": []
  },
  {
   "cell_type": "markdown",
   "metadata": {
    "id": "Ky8L_MuAnSmZ"
   },
   "source": []
  },
  {
   "cell_type": "code",
   "execution_count": null,
   "metadata": {
    "colab": {
     "base_uri": "https://localhost:8080/"
    },
    "id": "UIddKRJcr3C2",
    "outputId": "cba4664e-f098-4a21-ce06-b2f8973be3a1"
   },
   "outputs": [],
   "source": [
    "# Instead generate a dictionary with key of the node and value of a list of \n",
    "# outgoing nodes\n",
    "edges = {}\n",
    "for edge in list(G.edges):\n",
    "  #print( edge, type(edge) )\n",
    "  src, dst = edge\n",
    "\n",
    "  # Generate from src to dst\n",
    "  try:\n",
    "    edges[src] += [ dst ]\n",
    "  except KeyError:\n",
    "    edges[src] = [ dst ]\n",
    "\n",
    "  # And since this is a undirected graph generate the reverse transition\n",
    "  try:\n",
    "    edges[dst] += [ src ]\n",
    "  except KeyError:\n",
    "    edges[dst] = [ src ]\n",
    "\n",
    "# Determine the maximum number of outgoing transitions from any node\n",
    "max_out_degree = -1\n",
    "for src, outgoing in edges.items():\n",
    "  max_out_degree = max( max_out_degree, len(outgoing) )\n",
    "\n",
    "print( 'edges: ', edges )\n",
    "print( 'max_out_degree: ', max_out_degree )\n",
    "\n"
   ]
  },
  {
   "cell_type": "code",
   "execution_count": null,
   "metadata": {
    "colab": {
     "base_uri": "https://localhost:8080/"
    },
    "id": "8W_EfXaEr3DI",
    "outputId": "a97cdbd1-fe45-422e-bb4e-e6184acbe415"
   },
   "outputs": [],
   "source": [
    "# Let's create a reward function defined over the graph\n",
    "\n",
    "R = np.zeros( (N) )\n",
    "\n",
    "# Put a reward at a random node in the graph.  I picked node\n",
    "# a node arbitrarily and put a reward at that location.\n",
    "R[int(N/2)] = 10\n",
    "\n",
    "# define bellman residual threshold\n",
    "epsilon = .00001\n",
    "\n",
    "# discount factor\n",
    "gamma = 0.9\n",
    "\n",
    "\n",
    "print( \"Solving MDP\" )\n",
    "V = np.zeros( (N) )\n",
    "T_det = T = gen_deterministic_transition_function( N, 2 )\n",
    "V_det = numba_value_iteration_st( N, V, T, R, epsilon, gamma )\n",
    "\n",
    "V = np.zeros( (N) )\n",
    "T_sto = T = gen_stochastic_transition_function( N, 2 )\n",
    "V_sto = numba_value_iteration_st( N, V, T, R, epsilon, gamma )"
   ]
  },
  {
   "cell_type": "code",
   "execution_count": null,
   "metadata": {
    "colab": {
     "base_uri": "https://localhost:8080/",
     "height": 625
    },
    "id": "h4sXMNczr3DI",
    "outputId": "d0f5b064-4020-4198-8a82-be5125ebea31"
   },
   "outputs": [],
   "source": [
    "# How are we going to graph this?\n",
    "\n",
    "sz = 1000\n",
    "\n",
    "figsize = (10,10) \n",
    "\n",
    "#pos=nx.spring_layout(G,iterations=100)\n",
    "plt.figure(figsize=figsize)\n",
    "plt.title( \"Node assignment\" )\n",
    "\n",
    "x = np.arange( N )\n",
    "plt.plot( x, V_det, label='deterministic' )\n",
    "plt.plot( x, V_sto, label='stochastic' )\n",
    "\n",
    "\n",
    "# Also plot a scaled version of the deterministic value function to \n",
    "# see how well it matches the stochastic version.  At the moment\n",
    "# I determine this by determining the ratio between maximum values\n",
    "# of the determinstic and stochastic case, but I don't yet know \n",
    "# why it's this particular value.  \n",
    "scale = V_sto.max() / V_det.max() \n",
    "\n",
    "plt.plot( x, scale * V_det, label='scale=%.3f'% scale )\n",
    "plt.legend()"
   ]
  },
  {
   "cell_type": "code",
   "execution_count": null,
   "metadata": {
    "colab": {
     "base_uri": "https://localhost:8080/"
    },
    "id": "ycY6tIvQr3DJ",
    "outputId": "7530f066-3fba-4028-beff-d8fbbd9d22fd"
   },
   "outputs": [],
   "source": [
    "\n",
    "policy_det = np.zeros_like( V_det, dtype=int )\n",
    "policy_det_nice = []\n",
    "\n",
    "for s in range(N):\n",
    "\n",
    "  # Choose an action randomly.  One trick here is we need to know how many\n",
    "  # actions are available from this state.  We can figure this out by determining\n",
    "  # the out-degree of this node in the graph.\n",
    "\n",
    "  out_degree = G.degree( s )\n",
    "\n",
    "  print( f\"Out degree of {s} is {out_degree}\" )\n",
    "\n",
    "  values = np.zeros( (out_degree) )\n",
    "  action_nice = []\n",
    "\n",
    "  for a in range(out_degree):\n",
    "\n",
    "    print( f'  action {a}')\n",
    "\n",
    "    # Extract the probability of transitioning to sp from this state for this\n",
    "    # action\n",
    "    prob = T[ s, a, : ]\n",
    "\n",
    "    # Use this probablity distribution to randomly determine which next state\n",
    "    # sp we arrive at\n",
    "\n",
    "    sp = np.argmax( prob )\n",
    "\n",
    "    print( f'    next state {sp}' ) #', probability {prob}')\n",
    "\n",
    "    value = V_det[sp]\n",
    "\n",
    "    print( f'    value at {sp} is {value}')\n",
    "\n",
    "    values[a] = value\n",
    "\n",
    "  # Best action\n",
    "  a_star = np.argmax( values )\n",
    "\n",
    "  print( f'  a_star {a_star}')\n",
    "\n",
    "  policy_det[s] = a_star\n",
    "\n",
    "print( f'policy {policy_det}' )"
   ]
  },
  {
   "cell_type": "code",
   "execution_count": null,
   "metadata": {
    "colab": {
     "base_uri": "https://localhost:8080/",
     "height": 1000
    },
    "id": "8XDOp_wcr3DO",
    "outputId": "9d1b9a51-b4b4-4179-ed88-a99dc218fd8d"
   },
   "outputs": [],
   "source": [
    "print(N)\n",
    "# Perform a random walk and count the states we end up at.\n",
    "counts = np.zeros( (N, N)  )\n",
    "probs  = np.zeros( (N, N)  )\n",
    "\n",
    "s_peak = np.argmax( V_det )\n",
    "\n",
    "print( f'peak at {s_peak}' )\n",
    "\n",
    "# Choose an initial state\n",
    "for s_i in range(N):\n",
    "\n",
    "  #print( f'****** s_i {s_i}')\n",
    "\n",
    "  for run in range(1000):\n",
    "    #print( f's_i {s_i} run {run}')\n",
    "    s = s_i\n",
    "    peak_count = 0\n",
    "\n",
    "    for i in range( N*4 ):\n",
    "      # Select the action from the determistic policy.\n",
    "      a = policy_det[s]\n",
    "\n",
    "      #print( f'action {a}')\n",
    "\n",
    "      # Extract the probability of transitioning to sp from this state for this\n",
    "      # action\n",
    "      prob = T[ s, a, : ]\n",
    "\n",
    "      #print( f'next state probability {prob}')\n",
    "\n",
    "      # Use this probablity distribution to randomly determine which next state\n",
    "      # sp we arrive at\n",
    "\n",
    "      sp = np.random.choice( range(len(prob)), p = prob )\n",
    "\n",
    "      #print( f'next state {sp}')\n",
    "\n",
    "\n",
    "      s = sp\n",
    "\n",
    "      #print( f'counts shape {counts.shape}')\n",
    "\n",
    "      counts[ s_i, sp ] += 1\n",
    "\n",
    "      if sp == s_peak:\n",
    "        peak_count += 1\n",
    "\n",
    "      if peak_count >= 1:\n",
    "        break\n",
    "\n",
    "  print( f'counts: \\n{counts[s_i,:]}')\n",
    "\n",
    "  probs[s_i,:] = counts[s_i,:]/counts[s_i,:].sum()\n",
    "\n",
    "print( f'probabilities: \\n{probs}')\n",
    "\n",
    "discounts = np.zeros( (N,N) )\n",
    "\n",
    "# This doesn't appear to be quite right\n",
    "for s_i in range(N):\n",
    "  for s in range(N):\n",
    "\n",
    "    ###################### HERE IS THE HACK\n",
    "    hack_offset = 0\n",
    "    if s_i < s_peak:\n",
    "      hack_offset = 1 # why is this needed?\n",
    "    elif s_i == s_peak:\n",
    "      hack_offset = 0  # disabled in this case\n",
    "    elif s_i > s_peak:\n",
    "      hack_offset = 1  # disabled in this case\n",
    "    discounts[ s_i, s ] = gamma ** ( abs(s - s_i ) + hack_offset  )\n",
    "    ###################### HERE IS THE HACK\n",
    "\n",
    "print( 'discounts: \\n', discounts )\n",
    "\n",
    "V_pred = np.zeros_like( V_sto )\n",
    "\n",
    "s_peak = np.argmax( V_det )\n",
    "\n",
    "for s_i in range(N):\n",
    "  sum = np.sum( V_det * discounts[s_i] * probs[s_i] )\n",
    "  V_pred[ s_i ] = sum\n",
    "\n",
    "  \n",
    "  #print( f's_i {s_i}  calc\\'d {sum}  actual {V_sto[s_i]}' )\n",
    "\n",
    "# How are we going to graph this?\n",
    "\n",
    "sz = 1000\n",
    "\n",
    "figsize = (10,10) \n",
    "\n",
    "#pos=nx.spring_layout(G,iterations=100)\n",
    "plt.figure(figsize=figsize)\n",
    "plt.title( \"Node assignment\" )\n",
    "\n",
    "x = np.arange( N )\n",
    "plt.plot( x, V_det, label='deterministic' )\n",
    "plt.plot( x, V_sto, label='stochastic' )\n",
    "plt.plot( x, V_pred, label='predicted' )\n",
    "\n",
    "\n",
    "plt.legend()"
   ]
  },
  {
   "cell_type": "markdown",
   "metadata": {
    "id": "D9XlDfEAr32g"
   },
   "source": [
    "## Gaussian parameters"
   ]
  },
  {
   "cell_type": "markdown",
   "metadata": {
    "id": "-qCC1N2oraSP"
   },
   "source": [
    "Our transition function uncertainty is a pretty close fit to a normal distribution with a sigma of 0.5 (or variance 0.25)."
   ]
  },
  {
   "cell_type": "code",
   "execution_count": null,
   "metadata": {
    "colab": {
     "base_uri": "https://localhost:8080/",
     "height": 299
    },
    "id": "CkxnHwWVn8rC",
    "outputId": "3695c253-6820-487c-a7a2-a4ae267322e6"
   },
   "outputs": [],
   "source": [
    "import numpy as np\n",
    "from scipy.stats import norm\n",
    "import matplotlib.pyplot as plt\n",
    "\n",
    "\n",
    "# Generate some data for this demonstration.\n",
    "data = np.zeros( (N) )\n",
    "s_peak = int(N/2)\n",
    "data[s_peak] = .8\n",
    "data[s_peak-1] = .1\n",
    "data[s_peak+1] = .1\n",
    "\n",
    "print( data ) \n",
    "# Fit a normal distribution to the data:\n",
    "mu, std = s_peak, .5 \n",
    "\n",
    "# Plot the histogram.\n",
    "\n",
    "#plt.hist(data, bins=25, density=True, alpha=0.6, color='g')\n",
    "\n",
    "\n",
    "plt.plot( data, color=[0,.7,0,.7], marker='o', linewidth=3 )\n",
    "\n",
    "# Plot the PDF.\n",
    "xmin, xmax = plt.xlim()\n",
    "x = np.linspace(xmin, xmax, 100)\n",
    "p = norm.pdf(x, mu, std)\n",
    "plt.plot(x, p, color=[0,0,0,.7], linewidth=2)\n",
    "\n",
    "title = \"Fit results: std = %.2f\" % (std)\n",
    "plt.title(title)\n",
    "\n",
    "\n",
    "plt.show()"
   ]
  },
  {
   "cell_type": "markdown",
   "metadata": {
    "id": "GKL12T5TsoBI"
   },
   "source": [
    "We can now take transitions thorugh the value function by propagating uncertainty using the same machinery we would use for Kalman filters.  \n",
    "\n",
    "Let's assume that we start at state 2 and that we follow the deterministic policy for 4 steps (until we reach the peak at state 6).  Our prior is that we have a probability of 1 being at state 2 and a probability everywhere else."
   ]
  },
  {
   "cell_type": "code",
   "execution_count": null,
   "metadata": {
    "colab": {
     "base_uri": "https://localhost:8080/"
    },
    "id": "pMfdF7s5ugnk",
    "outputId": "5b2943e4-fe5d-42ea-bcb8-cb7493ae46e2"
   },
   "outputs": [],
   "source": [
    "state = np.zeros( (N) )\n",
    "state[2] = 1.0\n",
    "\n",
    "!pip install attrdict\n",
    "from attrdict import AttrDict as ad\n",
    "\n",
    "def gaussian( mean, var ):\n",
    "  return ad( { 'mean': mean, 'var': var } )\n",
    "\n",
    "state = gaussian( 2.0, .001 )\n"
   ]
  },
  {
   "cell_type": "markdown",
   "metadata": {
    "id": "kyQGWi7TwuWK"
   },
   "source": [
    "If we follow the deterministic policy, we will move to the right towards state 3.  Our transition function for going right can then be described as a gaussian with mean 1 and variance 0.25 (std dev of 0.5)."
   ]
  },
  {
   "cell_type": "code",
   "execution_count": null,
   "metadata": {
    "id": "ChQkteR9xHYS"
   },
   "outputs": [],
   "source": [
    "\n",
    "transition = gaussian( 1.0, .25 )"
   ]
  },
  {
   "cell_type": "code",
   "execution_count": null,
   "metadata": {
    "id": "jW4z_sfAvPdv"
   },
   "outputs": [],
   "source": [
    "def predict(pos, movement):\n",
    "    return gaussian(pos.mean + movement.mean, pos.var + movement.var)\n",
    "    \n",
    "def gaussian_multiply(g1, g2):\n",
    "    mean = (g1.var * g2.mean + g2.var * g1.mean) / (g1.var + g2.var)\n",
    "    variance = (g1.var * g2.var) / (g1.var + g2.var)\n",
    "    return gaussian(mean, variance)\n",
    "\n",
    "def update(prior, likelihood):\n",
    "    posterior = gaussian_multiply(likelihood, prior)\n",
    "    return posterior"
   ]
  },
  {
   "cell_type": "markdown",
   "metadata": {
    "id": "uyX36gV1v4Ti"
   },
   "source": [
    "Lets perform that process step prediction"
   ]
  },
  {
   "cell_type": "code",
   "execution_count": null,
   "metadata": {
    "id": "ZfT_nQz7xN1p"
   },
   "outputs": [],
   "source": [
    "prior = predict( state, transition )"
   ]
  },
  {
   "cell_type": "code",
   "execution_count": null,
   "metadata": {
    "id": "Z4kXehN7xTVQ"
   },
   "outputs": [],
   "source": [
    "def plot_gaussian( gaussian, **kwargs ):\n",
    "  # Plot the PDF.\n",
    "  xmin, xmax = 0, N\n",
    "  x = np.linspace(xmin, xmax, 100)\n",
    "  p = norm.pdf(x, gaussian.mean, math.sqrt(gaussian.var) )\n",
    "  plt.plot(x, p, **kwargs)"
   ]
  },
  {
   "cell_type": "code",
   "execution_count": null,
   "metadata": {
    "colab": {
     "base_uri": "https://localhost:8080/",
     "height": 283
    },
    "id": "SI5P6zwsx_3G",
    "outputId": "5f592f37-9279-43c5-d97c-a156559dc86f"
   },
   "outputs": [],
   "source": [
    "plot_gaussian( state, label='state' )\n",
    "plot_gaussian( transition, label='transition function' )\n",
    "plot_gaussian( prior, label='prediction' )\n",
    "plt.legend()\n"
   ]
  },
  {
   "cell_type": "markdown",
   "metadata": {
    "id": "zpftXLuhyCRl"
   },
   "source": [
    "Lets take a few successive steps and show the resulting distribution"
   ]
  },
  {
   "cell_type": "code",
   "execution_count": null,
   "metadata": {
    "colab": {
     "base_uri": "https://localhost:8080/",
     "height": 283
    },
    "id": "XXMTvaDKz8A5",
    "outputId": "ce20997f-1d49-43c5-84b6-1850cc05f769"
   },
   "outputs": [],
   "source": [
    "predictions = []\n",
    "\n",
    "plot_gaussian( state, label='state' )\n",
    "\n",
    "for i in range(4):\n",
    "  if len(predictions) == 0:\n",
    "    # Predict from the starting state\n",
    "    pred = predict( state, transition )\n",
    "    predictions.append( pred )\n",
    "  else:\n",
    "    # Use the last prediction as our starting state for this prediction\n",
    "    pred = predict( predictions[-1], transition )\n",
    "    predictions.append( pred )\n",
    "\n",
    "  plot_gaussian( pred, label=f't={i+1}' )\n",
    "plt.legend()\n",
    "\n"
   ]
  },
  {
   "cell_type": "markdown",
   "metadata": {
    "id": "aZ-rWGwz7Sfc"
   },
   "source": [
    "## Gaussian transition from deterministic policy"
   ]
  },
  {
   "cell_type": "markdown",
   "metadata": {
    "id": "aF16Sxpc0RRU"
   },
   "source": [
    "Lets hook this up to the determinstic policy and let it run until it reaches the peak from each state and examine the resulting distributions."
   ]
  },
  {
   "cell_type": "code",
   "execution_count": null,
   "metadata": {
    "colab": {
     "base_uri": "https://localhost:8080/",
     "height": 283
    },
    "id": "zvWAluNS1Uc4",
    "outputId": "b1d0764a-23c4-4da4-e174-fc673bdd49bd"
   },
   "outputs": [],
   "source": [
    "# Perform a random walk and count the states we end up at.\n",
    "\n",
    "s_peak = np.argmax( V_det )\n",
    "\n",
    "print( f'peak at {s_peak}' )\n",
    "\n",
    "def dbg(*args):\n",
    "  #print(*args)\n",
    "  return\n",
    "\n",
    "plt.figure()\n",
    "#plt.title( f's_i:  {s_i}')\n",
    "\n",
    "reachabilities = []\n",
    "\n",
    "\n",
    "# Choose an initial state\n",
    "for s_i in range(N):\n",
    "\n",
    "  dbg( f'****** s_i {s_i}')\n",
    "\n",
    "  for run in range(1):\n",
    "    #print( f's_i {s_i} run {run}')\n",
    "    s = s_i\n",
    "    peak_count = 0\n",
    "\n",
    "    # Set up our initial state as a gaussian with very little uncertainty\n",
    "    state = gaussian( s_i, 0.001 )\n",
    "\n",
    "    predictions = []\n",
    "\n",
    "    for i in range( N ):\n",
    "      dbg( f'state {s}')\n",
    "\n",
    "      # Select the action from the determistic policy.\n",
    "      a = policy_det[s]\n",
    "\n",
    "      dbg( f'action {a}')\n",
    "\n",
    "      # Extract the probability of transitioning to sp from this state for this\n",
    "      # action\n",
    "      prob = T[ s, a, : ]\n",
    "      \n",
    "      dbg( f'next state probability {prob}')\n",
    "\n",
    "      # Rephrase that transition as a gaussian transition going either left \n",
    "      # or right.  Recall that we need to phrase this as a movement relative\n",
    "      # to the current state.\n",
    "      t_mean = np.argmax( prob )\n",
    "      transition = gaussian( t_mean - s, 0.25 )\n",
    "\n",
    "      dbg( f'gaussian version {transition}')\n",
    "\n",
    "      if len(predictions) == 0:\n",
    "        pred = predict( state, transition )\n",
    "      else:\n",
    "        pred = predict( predictions[-1], transition )\n",
    "\n",
    "      predictions.append( pred )\n",
    "\n",
    "      # From the prediciton, we need to determine which state we are in based\n",
    "      # off which state the mean most closely falls within.\n",
    "      sp = int( pred.mean + .5 )  # round to nearest int\n",
    "\n",
    "      dbg( f'sp {sp}')\n",
    "\n",
    "      if sp == s_peak:\n",
    "        peak_count += 1\n",
    "\n",
    "      # Break out of loop if we reach the peak of the deterministic value function\n",
    "      if peak_count >= 1:\n",
    "        break\n",
    "\n",
    "      # Get the next iteration of the loop ready\n",
    "      s = sp\n",
    "\n",
    "\n",
    "\n",
    "  #plot_gaussian( state, label=f'state {s_i}' )\n",
    "\n",
    "  for i in range(len(predictions)-1):\n",
    "      #plot_gaussian( predictions[i], label=f't={i+1}' )\n",
    "      pass\n",
    "\n",
    "  plot_gaussian( predictions[-1], label=f's_i of {s_i}' )\n",
    "\n",
    "  reachabilities.append( predictions[ -1 ] )\n",
    "\n",
    "  plt.legend()"
   ]
  },
  {
   "cell_type": "markdown",
   "metadata": {
    "id": "k8dKWZhc4qqj"
   },
   "source": [
    "## Using gaussians as reachability probability\n",
    "\n",
    "Need to figure out how I'll use this gaussian curve to generate probabilities that I can apply to each state.  I think I need to integrate the curve over each state to obtain a probabiity at each state $s$ from the density function range $(s-0.5, s+0.5)$.  So basically I need a histogram of the probabiity density function."
   ]
  },
  {
   "cell_type": "markdown",
   "metadata": {
    "id": "wUzGXZrBEzmy"
   },
   "source": [
    "### Area under gaussians"
   ]
  },
  {
   "cell_type": "markdown",
   "metadata": {
    "id": "0KVs73AV_7rG"
   },
   "source": [
    "To integrate from -inf to z under a standard normal distribution with 0 mean and variance 1, the formula is:\n",
    "\n",
    "$Phi(z) = 0.5 + 0.5 * erf(z / \\sqrt(2))$\n",
    "\n",
    "Where $erf( \\cdot )$ is the error function."
   ]
  },
  {
   "cell_type": "code",
   "execution_count": null,
   "metadata": {
    "colab": {
     "base_uri": "https://localhost:8080/"
    },
    "id": "G7Ubxm-y7ngU",
    "outputId": "745be790-3ede-494c-a79f-5ba76e5f3b96"
   },
   "outputs": [],
   "source": [
    "# Calculate the probability from -inf to 0 of the standard normal distribution. \n",
    "# It will come out to a probability of 0.5.\n",
    "Phi = 0.5 + 0.5 * math.erf(0 / math.sqrt(2))\n",
    "Phi"
   ]
  },
  {
   "cell_type": "code",
   "execution_count": null,
   "metadata": {
    "id": "3t3zzw27_qe4"
   },
   "outputs": [],
   "source": [
    "def phi( z ):\n",
    "  return 0.5 + 0.5 * math.erf(z / math.sqrt(2))"
   ]
  },
  {
   "cell_type": "code",
   "execution_count": null,
   "metadata": {
    "colab": {
     "base_uri": "https://localhost:8080/"
    },
    "id": "xbIvWEPp_zgw",
    "outputId": "b07ce230-8152-4ac5-cc5d-007442ebb327"
   },
   "outputs": [],
   "source": [
    "# Now compute the probability of standard deviations\n",
    "for devs in [1, 2, 3]:\n",
    "  print( f'probability under {devs} standard deviations: {phi( 1.0 * devs ) - phi( -( 1.0 * devs ) )}' )"
   ]
  },
  {
   "cell_type": "code",
   "execution_count": null,
   "metadata": {
    "colab": {
     "base_uri": "https://localhost:8080/"
    },
    "id": "jjaL9IGsA7E8",
    "outputId": "1e84bcb7-490b-45e3-eac7-7069d5c06b3a"
   },
   "outputs": [],
   "source": [
    "# Now to perform the same calculation on a general gaussian with arbitrary \n",
    "# mean and standard deviation\n",
    "\n",
    "g1 = gaussian( 2.0, 3.0 )\n",
    "\n",
    "for devs in [1, 2, 3]:\n",
    "  beg = g1.mean - devs * math.sqrt(g1.var)\n",
    "  end = g1.mean + devs * math.sqrt(g1.var)\n",
    "\n",
    "  txbeg = (beg - g1.mean) / math.sqrt( g1.var )\n",
    "  txend = (end - g1.mean) / math.sqrt( g1.var )\n",
    "\n",
    "  print( f'probability under {devs} standard deviations [{beg}, {end}] -> [{txbeg, txend}]: {phi( txend ) - phi( txbeg )}' )"
   ]
  },
  {
   "cell_type": "code",
   "execution_count": null,
   "metadata": {
    "id": "XOXOAZ4jBlLk"
   },
   "outputs": [],
   "source": [
    "def int_gaussian( g, x1, x2 ):\n",
    "  tx_x1 = (x1 - g.mean) / math.sqrt( g.var )\n",
    "  tx_x2 = (x2 - g.mean) / math.sqrt( g.var )\n",
    "\n",
    "  return phi( tx_x2 ) - phi( tx_x1 )\n"
   ]
  },
  {
   "cell_type": "code",
   "execution_count": null,
   "metadata": {
    "colab": {
     "base_uri": "https://localhost:8080/"
    },
    "id": "Pm2V9RIuEGDL",
    "outputId": "3c81fcf6-1e05-4c4b-8442-13e593284e9e"
   },
   "outputs": [],
   "source": [
    "# Now to perform the same calculation on a general gaussian with arbitrary \n",
    "# mean and standard deviation\n",
    "\n",
    "g1 = gaussian( 2.0, 3.0 )\n",
    "\n",
    "for devs in [1, 2, 3]:\n",
    "  beg = g1.mean - devs * math.sqrt(g1.var)\n",
    "  end = g1.mean + devs * math.sqrt(g1.var)\n",
    "\n",
    "  print( f'probability under {devs} standard deviations [{beg}, {end}] -> [{txbeg, txend}]: {int_gaussian( g1, beg, end )}' )"
   ]
  },
  {
   "cell_type": "markdown",
   "metadata": {
    "id": "U1jy9iowEOlZ"
   },
   "source": [
    "### Computing probability bins\n",
    "\n",
    "Now that we have the machinery to compute integrals of gaussians, lets compute probabilities by computing bins for each discrete state in our 1D grid world."
   ]
  },
  {
   "cell_type": "code",
   "execution_count": null,
   "metadata": {
    "id": "y_-TSjx6E6Pe"
   },
   "outputs": [],
   "source": [
    "# We saved off the probabilty of reachabilty into the reachabilities[] variable up above.\n",
    "\n",
    "disc_reach = []\n",
    "\n",
    "\n",
    "\n",
    "for s_i in range(N):\n",
    "    # Get the continuous representation of reachability from state s_i as\n",
    "    # a gaussian\n",
    "    g_cont = reachabilities[s_i]\n",
    "\n",
    "    # We want to generate a discretized version of this\n",
    "    disc = np.zeros( (N) )\n",
    "  \n",
    "    # Compute area under the gaussian for each state's bin\n",
    "    for s in range(N):\n",
    "      disc[s] = int_gaussian( g_cont, s - 0.5, s + 0.5 )\n",
    "\n",
    "    disc_reach.append( disc )\n",
    "\n",
    "\n"
   ]
  },
  {
   "cell_type": "code",
   "execution_count": null,
   "metadata": {
    "colab": {
     "base_uri": "https://localhost:8080/",
     "height": 283
    },
    "id": "JMmSmUAvFaQD",
    "outputId": "68c66efb-d3af-4660-fa2c-31cba00872df"
   },
   "outputs": [],
   "source": [
    "plot_gaussian( reachabilities[6], label=f's_i of {s_i}' )\n",
    "plt.legend()\n",
    "\n",
    "plt.bar( range(N), disc_reach[6] )"
   ]
  },
  {
   "cell_type": "markdown",
   "metadata": {
    "id": "rb7hmmIfLa4p"
   },
   "source": [
    "$V_{sto}(s_i) = \\sum_{s \\in S} \\Gamma(s_i, s ) \\cdot P( s | s_i, \\pi_{det}) \\cdot V_{det}( s )$, where $\\Gamma( s_i, s ) = \\gamma^{ \\delta( s_i, s ) }$, where $\\delta( s_i, s)$ is the distance between states $s_i$ and $s$ through the determistic MDP, and $P( s | s_i, \\pi_{det} )$ is the probability of reaching state $s$ starting from state $s_i$ following the policy resulting from solving the determistic version of the MDP, resulting in value function $V_{det}$ and policy $\\pi_{det}$. \n",
    "\n"
   ]
  },
  {
   "cell_type": "code",
   "execution_count": null,
   "metadata": {
    "colab": {
     "base_uri": "https://localhost:8080/",
     "height": 625
    },
    "id": "efsaToNlGk_7",
    "outputId": "3e889042-90b6-47ac-9b3b-6be5ebc07e61"
   },
   "outputs": [],
   "source": [
    "\n",
    "discounts = np.zeros( (N,N) )\n",
    "\n",
    "# This doesn't appear to be quite right\n",
    "for s_i in range(N):\n",
    "  for s in range(N):\n",
    "\n",
    "    ###################### HERE IS THE HACK\n",
    "    hack_offset = 0\n",
    "    if s_i < s_peak:\n",
    "      hack_offset = 0 # why is this needed?\n",
    "    elif s_i == s_peak:\n",
    "      hack_offset = 0  # disabled in this case\n",
    "    elif s_i > s_peak:\n",
    "      hack_offset = 0  # why is this needed?\n",
    "    discounts[ s_i, s ] = gamma ** ( abs(s - s_i ) + hack_offset  )\n",
    "    ###################### HERE IS THE HACK\n",
    "\n",
    "\n",
    "V_pred = np.zeros_like( V_sto )\n",
    "\n",
    "s_peak = np.argmax( V_det )\n",
    "\n",
    "#for s_i in range(N):\n",
    "  #sum = np.sum( V_det * discounts[s_i] * disc_reach[s_i] )\n",
    "  #sum = np.sum( V_det * disc_reach[s_i] )\n",
    "  #V_pred[ s_i ] = sum\n",
    "\n",
    "  \n",
    "  #print( f's_i {s_i}  calc\\'d {sum}  actual {V_sto[s_i]}' )\n",
    "\n",
    "for s_i in range(N):\n",
    "  sum = np.sum( V_det * discounts[s_i] * disc_reach[s_i] )\n",
    "  V_pred[ s_i ] = sum\n",
    "\n",
    "\n",
    "# How are we going to graph this?\n",
    "\n",
    "sz = 1000\n",
    "\n",
    "figsize = (10,10) \n",
    "\n",
    "#pos=nx.spring_layout(G,iterations=100)\n",
    "plt.figure(figsize=figsize)\n",
    "plt.title( \"Prediction using gaussian uncertainty propagation\" )\n",
    "\n",
    "x = np.arange( N )\n",
    "plt.plot( x, V_det, label='deterministic' )\n",
    "plt.plot( x, V_sto, label='stochastic' )\n",
    "plt.plot( x, V_pred, label='predicted (via gaussians)' )\n",
    "\n",
    "\n",
    "plt.legend()"
   ]
  },
  {
   "cell_type": "markdown",
   "metadata": {
    "id": "mTVFcDTQHUOF"
   },
   "source": [
    "Maybe instead I just need to compute the probability of reaching the peak, then exponential decay from there."
   ]
  },
  {
   "cell_type": "code",
   "execution_count": null,
   "metadata": {
    "colab": {
     "base_uri": "https://localhost:8080/",
     "height": 625
    },
    "id": "4p4McCQKNcQP",
    "outputId": "c40c0a3f-b06b-4dee-b887-98b095dff7eb"
   },
   "outputs": [],
   "source": [
    "s_peak = int(N/2)\n",
    "\n",
    "\n",
    "\n",
    "\n",
    "discounts = np.zeros( (N,N) )\n",
    "\n",
    "# This doesn't appear to be quite right\n",
    "for s_i in range(N):\n",
    "  for s in range(N):\n",
    "\n",
    "    ###################### HERE IS THE HACK\n",
    "    hack_offset = 0\n",
    "    if s_i < s_peak:\n",
    "      hack_offset = 0 # why is this needed?\n",
    "    elif s_i == s_peak:\n",
    "      hack_offset = 0  # disabled in this case\n",
    "    elif s_i > s_peak:\n",
    "      hack_offset = 0  # why is this needed?\n",
    "    discounts[ s_i, s ] = gamma ** ( abs(s - s_i ) + hack_offset  )\n",
    "    ###################### HERE IS THE HACK\n",
    "\n",
    "\n",
    "V_pred = np.zeros_like( V_sto )\n",
    "\n",
    "s_peak = np.argmax( V_det )\n",
    "\n",
    "#for s_i in range(N):\n",
    "  #sum = np.sum( V_det * discounts[s_i] * disc_reach[s_i] )\n",
    "  #sum = np.sum( V_det * disc_reach[s_i] )\n",
    "  #V_pred[ s_i ] = sum\n",
    "\n",
    "  \n",
    "  #print( f's_i {s_i}  calc\\'d {sum}  actual {V_sto[s_i]}' )\n",
    "\n",
    "\n",
    "if False:  # This didn't work\n",
    "  for s_i in range(N):\n",
    "    # What's the probability of reaching the state where the peak is at?\n",
    "    reach = disc_reach[ s_i ][ s_peak ]  \n",
    "\n",
    "    if s_i == 6:  reach = .8\n",
    "    print( f'prob of reaching {s_peak} from {s_i} is {reach}')\n",
    "\n",
    "    V_pred[ s_i ] = V_det[s_peak] * discounts[s_i, s_peak] * reach\n",
    "    V_pred[ s_i ] = np.sum( V_det * discounts[s_i] * disc_reach[s_i] )\n",
    "\n",
    "if True: # This kind of works magically\n",
    "  # Compute the most value we can possibly acheive in this stochastic MDP\n",
    "  # based off the \"lost value\" that occurs due to the stochastic transition.\n",
    "  \n",
    "  V_sto_max = np.sum( V_det * discounts[s_peak] * disc_reach[s_peak] )\n",
    "\n",
    "  # Treat that as if it were a new determistic value, and then exponentially\n",
    "  # decay it as if it were a deterministic MDP.\n",
    "  for s_i in range(N):\n",
    "    V_pred[ s_i ] = V_sto_max * discounts[s_i, s_peak] \n",
    "\n",
    "# How are we going to graph this?\n",
    "\n",
    "sz = 1000\n",
    "\n",
    "figsize = (10,10) \n",
    "\n",
    "#pos=nx.spring_layout(G,iterations=100)\n",
    "plt.figure(figsize=figsize)\n",
    "plt.title( \"Prediction using gaussian uncertainty propagation\" )\n",
    "\n",
    "x = np.arange( N )\n",
    "plt.plot( x, V_det, label='deterministic' )\n",
    "plt.plot( x, V_sto, label='stochastic' )\n",
    "plt.plot( x, V_pred, label='predicted (via gaussian max)' )\n",
    "\n",
    "\n",
    "plt.legend()"
   ]
  },
  {
   "cell_type": "code",
   "execution_count": null,
   "metadata": {
    "colab": {
     "base_uri": "https://localhost:8080/"
    },
    "id": "VVbz-O63XjRh",
    "outputId": "01a92b87-186b-4605-f8f8-10f2c4665f1c"
   },
   "outputs": [],
   "source": [
    "reachabilities"
   ]
  },
  {
   "cell_type": "markdown",
   "metadata": {
    "id": "FkTMX87DXnYZ"
   },
   "source": [
    "## Tentative Conclusions\n",
    "\n",
    "If this method is the right approach, what it implies is that uncertainty is used to determine how much peak value is lost, but doesn't affect the shape of the propagation outward from the reward.\n",
    "\n",
    "We might use this fact then to compute a \"lossy\" reward and then use normal FastMDP to compute the value function.\n",
    "\n",
    "Need to expand this out to understand if this scales to more complex rewards."
   ]
  },
  {
   "cell_type": "markdown",
   "metadata": {
    "id": "dgFVFevCdHmo"
   },
   "source": [
    "# 2D Grid World with Gaussian Transition Function\n"
   ]
  },
  {
   "cell_type": "markdown",
   "metadata": {
    "id": "nW-vO19xDzEH"
   },
   "source": [
    "## Preliminaries"
   ]
  },
  {
   "cell_type": "code",
   "execution_count": null,
   "metadata": {
    "colab": {
     "base_uri": "https://localhost:8080/"
    },
    "id": "HsWQLJg7Dhag",
    "outputId": "8f8a2355-69b4-4a35-e31e-db1de05d2568"
   },
   "outputs": [],
   "source": [
    "\n",
    "\n",
    "import numpy as np\n",
    "import operator\n",
    "\n",
    "\n",
    "import matplotlib.pyplot as plt\n",
    "\n",
    "\n",
    "import IPython.display as dp\n",
    "import matplotlib.patches as patches\n",
    "import matplotlib.gridspec as gridspec \n",
    "\n",
    "import time\n",
    "\n",
    "import numba as nb\n",
    "\n",
    "from timeit import default_timer as timer\n",
    "\n",
    "import networkx as nx\n",
    "\n",
    "!pip install attrdict\n",
    "from attrdict import AttrDict as ad\n",
    "\n",
    "\n",
    "# Plotting view\n",
    "el=40\n",
    "az=30\n"
   ]
  },
  {
   "cell_type": "code",
   "execution_count": null,
   "metadata": {
    "id": "RjozU_ItDYMG"
   },
   "outputs": [],
   "source": [
    "#%load_ext autoreload\n",
    "#%autoreload 2\n",
    "\n",
    "#import os\n",
    "#os.environ[\"NUMBA_ENABLE_CUDASIM\"] = \"\"\n",
    "#del os.environ[\"NUMBA_ENABLE_CUDASIM\"]\n",
    "\n",
    "import numpy as np\n",
    "import math\n",
    "\n",
    "import numba\n",
    "from numba import cuda\n",
    "\n",
    "@cuda.jit\n",
    "def bellman_update_st(xmax, V_i, V_o, T_gpu, R_gpu, residual_gpu, gamma):\n",
    "    \n",
    "    num_actions = T_gpu.shape[1]  # assumes 1-d state space definition\n",
    "\n",
    "    x = cuda.grid( 1 )\n",
    "\n",
    "    #print( \"pos %d -> x %d, y %d\" % (pos, x, y ) ) \n",
    "    if x >= xmax:\n",
    "      return\n",
    "\n",
    "\n",
    "    # immediate reward\n",
    "    r = R_gpu[ x ]\n",
    "\n",
    "    # bellman update for stochastic mdp\n",
    "\n",
    "    # first we have to compute the future expected value of taking\n",
    "    # an action from this state.  We will keep track of the best\n",
    "    # value we find in max_V.\n",
    "\n",
    "    max_V = -np.inf\n",
    "\n",
    "    # There is some additional parallelism we could take advantage of in here\n",
    "    # if we'd like to kick off additional threads in parallel.  This will\n",
    "    # get tricky because we'll need to either use atomic sum operations\n",
    "    # or we'll need to build a pipeline of kernels to perform a reduction.\n",
    "    # For now, performing the loop below on each thread, which will make\n",
    "    # the algorithm slower than it could be on the GPU.\n",
    "    for a in range(num_actions):\n",
    "\n",
    "      # We have to sum up over all s' the expected future values\n",
    "      V_sum = 0\n",
    "\n",
    "      for xn in range(xmax):\n",
    "        # probability of transitioning to the next state given\n",
    "        # the current state and action\n",
    "        P_n = T_gpu[ x, a, xn ]\n",
    "\n",
    "        # value of next state\n",
    "        V_n = V_i[ xn ]\n",
    "\n",
    "        # expected future value of this transition\n",
    "        V_sum += P_n * ( r + gamma * V_n )\n",
    "      \n",
    "      max_V = max( max_V, V_sum )\n",
    "\n",
    "    # residual \n",
    "    res = abs(max_V - V_i[ x ])\n",
    "\n",
    "    # update the value \n",
    "    V_o[ x ] = max_V\n",
    "\n",
    "    # atomically update the residual\n",
    "    cuda.atomic.max( residual_gpu, 0, res ) \n",
    "    \n",
    "\n",
    "\n",
    "def numba_value_iteration_st(N, V, T, R, epsilon, gamma):\n",
    "    # Move data to GPU so we can do two operations on it\n",
    "    V_gpu_a = cuda.to_device(V)\n",
    "    V_gpu_b = cuda.to_device(V)\n",
    "    T_gpu = cuda.to_device(T)\n",
    "    R_gpu = cuda.to_device(R)\n",
    "\n",
    "    num_actions = T.shape[1]\n",
    "\n",
    "    residual = np.array( [ -np.inf ], dtype=V.dtype )\n",
    "\n",
    "    start = timer()    \n",
    "\n",
    "    count = 0\n",
    "    while count == 0 or ( residual[0] > epsilon ):  # and count < 100 ):\n",
    "\n",
    "      # Set up a ping-pong between the two value function buffers\n",
    "      # so that V_i (input) is fixed during the iteration and\n",
    "      # V_o (output) is updated at each iteration.\n",
    "      if count % 2 == 0:\n",
    "        V_i = V_gpu_a\n",
    "        V_o = V_gpu_b\n",
    "      else:\n",
    "        V_i = V_gpu_b\n",
    "        V_o = V_gpu_a\n",
    "\n",
    "      # reset residual for next run\n",
    "      residual[0] = -np.inf\n",
    "    \n",
    "      residual_gpu = cuda.to_device( residual )\n",
    "\n",
    "      end1 = timer()\n",
    "\n",
    "      num_threads = N\n",
    "      threadsperblock = 256\n",
    "      blockspergrid_x = math.ceil(N / threadsperblock)\n",
    "      blockspergrid = blockspergrid_x     \n",
    "\n",
    "      ### Perform Bellman upate\n",
    "      bellman_update_st[blockspergrid,threadsperblock](N, V_i, V_o, T_gpu, R_gpu, residual_gpu, gamma)\n",
    "\n",
    "      end2 = timer()\n",
    "\n",
    "      residual = residual_gpu.copy_to_host()\n",
    "\n",
    "      end3 = timer()\n",
    "\n",
    "      #print( \"count %d: %f - %f secs (%f + %f + %f)\" % (count, residual[0], end3 - start, end1 - start, end2-end1, end3-end2) )\n",
    "      start = end3\n",
    "\n",
    "      #np.save( 'val_iter/hist_%d.npy' % count, V_gpu.copy_to_host() )\n",
    "\n",
    "      count += 1 \n",
    "\n",
    "\n",
    "    return V_o.copy_to_host()\n",
    "\n"
   ]
  },
  {
   "cell_type": "markdown",
   "metadata": {
    "id": "hQumKnHuD3AR"
   },
   "source": [
    "## 2D grid world"
   ]
  },
  {
   "cell_type": "markdown",
   "metadata": {
    "id": "OqJr4Hgd3P2z"
   },
   "source": [
    "Let's adapt what we've done above into a 2D grid world"
   ]
  },
  {
   "cell_type": "code",
   "execution_count": null,
   "metadata": {
    "colab": {
     "base_uri": "https://localhost:8080/",
     "height": 613
    },
    "id": "UW8SMG0A4lzS",
    "outputId": "71097c5e-fc0f-4ce6-b8a1-d718e5f8e3cb"
   },
   "outputs": [],
   "source": [
    "dim = 10\n",
    "sz = 1000\n",
    "\n",
    "# Generate a 1D grid world using networkx to do it.\n",
    "G = nx.generators.lattice.grid_2d_graph( dim, dim )\n",
    "\n",
    "#pos=nx.spring_layout(G,iterations=200)\n",
    "\n",
    "scale = 500\n",
    "pos={}\n",
    "for i in range(dim):\n",
    "  for j in range(dim):\n",
    "    pos[(i,j)] = (i*scale, j*scale)\n",
    "\n",
    "nodes = np.array( list(G.nodes) )\n",
    "\n",
    "N = len(nodes)\n",
    "o = np.ones( N )\n",
    "edge_colors= np.c_[ [ .8 * o, .8 * o, .9 * o, .7 * o ] ].T\n",
    "\n",
    "figsize = (10,10) \n",
    "\n",
    "plt.figure(figsize=figsize)\n",
    "\n",
    "nx.draw_networkx(G, pos,  node_size=sz, node_color=(.8, .8, .9, 1.0), edge_color=edge_colors, with_labels=True)\n"
   ]
  },
  {
   "cell_type": "code",
   "execution_count": null,
   "metadata": {
    "colab": {
     "base_uri": "https://localhost:8080/"
    },
    "id": "7jt7K4e73zhl",
    "outputId": "1624c5dd-4f7e-435d-ada5-82dd1d152c41"
   },
   "outputs": [],
   "source": [
    "# Instead generate a dictionary with key of the node and value of a list of \n",
    "# outgoing nodes\n",
    "edges = {}\n",
    "for edge in list(G.edges):\n",
    "  #print( edge, type(edge) )\n",
    "  src, dst = edge\n",
    "\n",
    "  # Generate from src to dst\n",
    "  try:\n",
    "    edges[src] += [ dst ]\n",
    "  except KeyError:\n",
    "    edges[src] = [ dst ]\n",
    "\n",
    "  # And since this is a undirected graph generate the reverse transition\n",
    "  try:\n",
    "    edges[dst] += [ src ]\n",
    "  except KeyError:\n",
    "    edges[dst] = [ src ]\n",
    "\n",
    "# Determine the maximum number of outgoing transitions from any node\n",
    "max_out_degree = -1\n",
    "for src, outgoing in edges.items():\n",
    "  max_out_degree = max( max_out_degree, len(outgoing) )\n",
    "\n",
    "print( 'edges: ', edges )\n",
    "print( 'max_out_degree: ', max_out_degree )\n",
    "\n",
    "def neighbors( s ):\n",
    "  node = state_to_node( s ) \n",
    "\n",
    "  return edges[ node ]\n",
    "\n",
    "def node_to_state( node ):\n",
    "  return node[0] * dim + node[1]\n",
    "\n",
    "def state_to_node( s ):\n",
    "  x = s // dim\n",
    "  y = s  % dim\n",
    "  node = (x, y)\n",
    "  return node"
   ]
  },
  {
   "cell_type": "markdown",
   "metadata": {
    "id": "VyHackBiD7jD"
   },
   "source": [
    "## 2D Transition Functions"
   ]
  },
  {
   "cell_type": "code",
   "execution_count": null,
   "metadata": {
    "id": "KIQSV-126RpI"
   },
   "outputs": [],
   "source": [
    "\n",
    "# Generate a transition function for our 2D world\n",
    "\n",
    "def gen_deterministic_transition_function(N, max_out_degree):\n",
    "\n",
    "  T = np.zeros( (N, max_out_degree, N)  )\n",
    "\n",
    "  print( \"Building transition function\" )\n",
    "  \n",
    "  for s in range(N):\n",
    "\n",
    "    nbrs = neighbors( s )\n",
    "\n",
    "    # Each neighbor is reached by an action\n",
    "    for a, nbr in enumerate(nbrs):\n",
    "\n",
    "      # In a deterministic MDP there is no uncertainty in the transition.\n",
    "      # When we take action a, we always arrive at nbr.\n",
    "      sp = node_to_state( nbr )\n",
    "\n",
    "      T[ s, a, sp ] = 1.0\n",
    "\n",
    "  return T\n",
    "  \n",
    "def gen_stochastic_transition_function(N, max_out_degree, bleed=0.1):\n",
    "\n",
    "  T = np.zeros( (N, max_out_degree, N)  )\n",
    "\n",
    "  print( \"Building transition function\" )\n",
    "  \n",
    "  for s in range(N):\n",
    "\n",
    "    nbrs = neighbors( s )\n",
    "\n",
    "    # Each neighbor is reached by an action\n",
    "    for a, nbr in enumerate(nbrs):\n",
    "\n",
    "      # In a stochastic MDP there is some uncertainty in the transition.\n",
    "      # When we take action a, we won't always arrive at nbr, but may instead\n",
    "      # arrive at another state.  \n",
    "\n",
    "      # We want to approximate a gaussian uncertainty distribution.  When we \n",
    "      # attempt an action a which would normally arrive at nbr, we will instead\n",
    "      # have a small probability of transitioning to one of the neighbors of\n",
    "      # \n",
    "      sp = node_to_state( nbr )\n",
    "\n",
    "      nbr_nbrs = neighbors( sp )\n",
    "\n",
    "      assert bleed * len( nbr_nbrs ) < 1.0, \"bleed is too high\"\n",
    "\n",
    "      prob_left = 1.0\n",
    "      for nbr_nbr in nbr_nbrs:\n",
    "        sn = node_to_state( nbr_nbr )\n",
    "        T[ s, a, sn ] = bleed\n",
    "        prob_left -= bleed\n",
    "      \n",
    "      assert prob_left > 0.0\n",
    "      T[ s, a, sp ] = prob_left\n",
    "\n",
    "  return T\n",
    "  "
   ]
  },
  {
   "cell_type": "markdown",
   "metadata": {
    "id": "oqzv7DyTD-w-"
   },
   "source": [
    "## Solve with Value Iteration"
   ]
  },
  {
   "cell_type": "code",
   "execution_count": null,
   "metadata": {
    "colab": {
     "base_uri": "https://localhost:8080/"
    },
    "id": "msAmNRcE3zhm",
    "outputId": "5d439954-0115-403e-a026-483ef2cfa3d3"
   },
   "outputs": [],
   "source": [
    "%pdb off\n",
    "# Let's create a reward function defined over the graph\n",
    "\n",
    "R = np.zeros( (N) )\n",
    "\n",
    "# Put a reward at a random node in the graph.  I picked node\n",
    "# a node arbitrarily and put a reward at that location.\n",
    "R[ node_to_state( (4, 4) ) ] = 10\n",
    "\n",
    "# define bellman residual threshold\n",
    "epsilon = .00001\n",
    "\n",
    "# discount factor\n",
    "gamma = 0.9\n",
    "\n",
    "\n",
    "print( \"Solving MDP\" )\n",
    "V = np.zeros( (N) )\n",
    "T_det = T = gen_deterministic_transition_function( N, max_out_degree )\n",
    "V_det = numba_value_iteration_st( N, V, T, R, epsilon, gamma )\n",
    "\n",
    "V = np.zeros( (N) )\n",
    "T_sto = T = gen_stochastic_transition_function( N, max_out_degree )\n",
    "V_sto = numba_value_iteration_st( N, V, T, R, epsilon, gamma )"
   ]
  },
  {
   "cell_type": "code",
   "execution_count": null,
   "metadata": {
    "id": "5tNMXf493zhm"
   },
   "outputs": [],
   "source": [
    "def plot_it( V_o, dim , title = None ):\n",
    "\n",
    "  V_o = V_o.reshape( (dim,dim) )\n",
    "\n",
    "  fig = plt.figure(figsize=(12,6), constrained_layout=False)\n",
    "  gs = fig.add_gridspec(1,2)\n",
    "\n",
    "  #plt.imshow( R, cmap=\"Reds\" )\n",
    "  #plt.colorbar()\n",
    "\n",
    "  #plt.figure()\n",
    "  #plt.imshow( V )\n",
    "  #plt.colorbar()\n",
    "\n",
    "  ax = fig.add_subplot(gs[0, 0])\n",
    "  if title:\n",
    "    fig.suptitle( title, fontsize=16 )\n",
    "\n",
    "  plt.title( 'Value function, V')\n",
    "  p = plt.imshow( V_o, cmap=\"coolwarm\" )\n",
    "  plt.colorbar(p)\n",
    "\n",
    "\n",
    "  from mpl_toolkits.mplot3d import Axes3D\n",
    "\n",
    "  X = np.arange(0, V_o.shape[0], 1.0)\n",
    "  Y = np.arange(0, V_o.shape[1], 1.0)\n",
    "  X, Y = np.meshgrid(X, Y)\n",
    "\n",
    "  Z = V_o\n",
    "\n",
    "  print( X.shape, V_o.shape )\n",
    "\n",
    "\n",
    "  ax = fig.add_subplot(gs[0, 1], projection='3d')\n",
    "  plt.title( 'Value function, V')\n",
    "  #plt.imshow( V_o, cmap=\"jet\" )\n",
    "\n",
    "\n",
    "\n",
    "  ax.view_init(elev=el, azim=az)\n",
    "  ax.plot_surface(X, Y, Z, cmap='coolwarm',\n",
    "                        linewidth=0, antialiased=False)\n",
    "  plt.colorbar(p)\n",
    "\n",
    "\n",
    "      \n",
    "\n"
   ]
  },
  {
   "cell_type": "code",
   "execution_count": null,
   "metadata": {
    "colab": {
     "base_uri": "https://localhost:8080/",
     "height": 835
    },
    "id": "_NHPcVJ9FIFf",
    "outputId": "0e7e88be-08d8-47a3-e856-d09587b84986"
   },
   "outputs": [],
   "source": [
    "%pdb off\n",
    "\n",
    "plot_it( V_det, dim, title='Deterministic' )\n",
    "plot_it( V_sto, dim, title='Stochastic' )"
   ]
  },
  {
   "cell_type": "markdown",
   "metadata": {
    "id": "J7IYkwC0EEfO"
   },
   "source": [
    "## Optimal Deterministic Policy"
   ]
  },
  {
   "cell_type": "code",
   "execution_count": null,
   "metadata": {
    "colab": {
     "base_uri": "https://localhost:8080/"
    },
    "id": "0vdJW8Iy3zhn",
    "outputId": "08c5e779-e276-44f4-bab6-92d1913af67f"
   },
   "outputs": [],
   "source": [
    "\n",
    "policy_det = np.zeros_like( V_det, dtype=int )\n",
    "policy_det_nice = []\n",
    "\n",
    "for s in range(N):\n",
    "\n",
    "  # Choose an action randomly.  One trick here is we need to know how many\n",
    "  # actions are available from this state.  We can figure this out by determining\n",
    "  # the out-degree of this node in the graph.\n",
    "\n",
    "  node = state_to_node( s )\n",
    "\n",
    "  out_degree = G.degree( node )\n",
    "\n",
    "  #print( f\"Out degree of {s} is {out_degree}\" )\n",
    "\n",
    "  values = np.zeros( (out_degree) )\n",
    "  action_nice = []\n",
    "\n",
    "  for a in range(out_degree):\n",
    "\n",
    "    #print( f'  action {a}')\n",
    "\n",
    "    # Extract the probability of transitioning to sp from this state for this\n",
    "    # action\n",
    "    prob = T[ s, a, : ]\n",
    "\n",
    "    # Use this probablity distribution to randomly determine which next state\n",
    "    # sp we arrive at\n",
    "\n",
    "    sp = np.argmax( prob )\n",
    "\n",
    "    #print( f'    next state {sp}' ) #', probability {prob}')\n",
    "\n",
    "    value = V_det[sp]\n",
    "\n",
    "    #print( f'    value at {sp} is {value}')\n",
    "\n",
    "    values[a] = value\n",
    "\n",
    "  # Best action\n",
    "  a_star = np.argmax( values )\n",
    "\n",
    "  #print( f'  a_star {a_star}')\n",
    "\n",
    "  policy_det[s] = a_star\n",
    "\n",
    "print( f'policy {policy_det}' )"
   ]
  },
  {
   "cell_type": "code",
   "execution_count": null,
   "metadata": {
    "colab": {
     "base_uri": "https://localhost:8080/",
     "height": 476
    },
    "id": "nwz2SEDQGs7N",
    "outputId": "e17ec1ce-6a37-4f9b-ac57-3adbe8854dda"
   },
   "outputs": [],
   "source": [
    "\n",
    "def plot_policy( V, pi, dim ):\n",
    "\n",
    "  V = V.reshape( (dim,dim) )\n",
    "\n",
    "  fig = plt.figure(figsize=(18,18), constrained_layout=False)\n",
    "  gs = fig.add_gridspec(2,2)\n",
    "\n",
    "  #plt.imshow( R, cmap=\"Reds\" )\n",
    "  #plt.colorbar()\n",
    "\n",
    "  #plt.figure()\n",
    "  #plt.imshow( V )\n",
    "  #plt.colorbar()\n",
    "\n",
    "  ax = fig.add_subplot(gs[0, 0])\n",
    "  plt.title( 'Policy, pi')\n",
    "  p = plt.imshow( V, cmap=\"coolwarm\" )\n",
    "  plt.colorbar(p)\n",
    "\n",
    "  N = len(pi)\n",
    "  for s in range(N):\n",
    "\n",
    "    node = state_to_node( s )\n",
    "\n",
    "    a = pi[ s ]\n",
    "\n",
    "    nbrs = neighbors( s )\n",
    "\n",
    "    sp_node = nbrs[ a ] \n",
    "\n",
    "    #print( f'{node}->{sp_node}')\n",
    "    x, y = node\n",
    "    x2, y2 = sp_node\n",
    "\n",
    "    sx = x + .3 * (x2 - x)\n",
    "    ex = x + .8 * (x2 - x)\n",
    "    sy = y + .3 * (y2 - y)\n",
    "    ey = y + .8 * (y2 - y)\n",
    "\n",
    "    plt.annotate('', xy=(ex, ey), xycoords='data',\n",
    "             xytext=(sx, sy), textcoords='data',\n",
    "             arrowprops=dict(arrowstyle=\"->\"), color='g')\n",
    "    plt.annotate(f'{x},{y}', xy=(x2, y2), xycoords='data',\n",
    "             xytext=(x-.2, y+.07), textcoords='data',\n",
    "             color='g')\n",
    "\n",
    "plot_policy( V_det, policy_det, dim )\n",
    "\n",
    "\n"
   ]
  },
  {
   "cell_type": "markdown",
   "metadata": {
    "id": "R8iqlNo7ELad"
   },
   "source": [
    "## 2D Gaussian Transition Uncertainty"
   ]
  },
  {
   "cell_type": "markdown",
   "metadata": {
    "id": "8sBEAbw_EZOb"
   },
   "source": [
    "### Gaussian Fitting"
   ]
  },
  {
   "cell_type": "code",
   "execution_count": null,
   "metadata": {
    "colab": {
     "base_uri": "https://localhost:8080/",
     "height": 402
    },
    "id": "rj6M-2BbI31L",
    "outputId": "00c0addf-0d2d-4938-8343-dc4a05489b8b"
   },
   "outputs": [],
   "source": [
    "# Plot the uncertainty of our transition function so we can fit a multivariate \n",
    "# gaussian to it.\n",
    "\n",
    "from mpl_toolkits.mplot3d import Axes3D\n",
    "fig = plt.figure(figsize=(12,6), constrained_layout=False)\n",
    "gs = fig.add_gridspec(1,2)\n",
    "\n",
    "prob = np.zeros( (dim,dim) )\n",
    "prob[ 4, 4 ] = .6\n",
    "prob[ 4, 3 ] = .1\n",
    "prob[ 4, 5 ] = .1\n",
    "prob[ 3, 4 ] = .1\n",
    "prob[ 5, 4 ] = .1\n",
    "\n",
    "V_o = prob\n",
    "X = np.arange(0, V_o.shape[0], 1.0)\n",
    "Y = np.arange(0, V_o.shape[1], 1.0)\n",
    "X, Y = np.meshgrid(X, Y)\n",
    "\n",
    "Z = V_o\n",
    "\n",
    "print( X.shape, V_o.shape )\n",
    "\n",
    "ax = fig.add_subplot(gs[0, 0], projection='3d')\n",
    "plt.title( 'Transition uncertainty')\n",
    "#plt.imshow( V_o, cmap=\"jet\" )\n",
    "\n",
    "\n",
    "ax.view_init(elev=el, azim=az)\n",
    "p = ax.plot_surface(X, Y, Z, cmap='coolwarm',\n",
    "                      linewidth=0, antialiased=False)\n",
    "plt.colorbar(p)\n",
    "\n",
    "\n",
    "ax = fig.add_subplot(gs[0, 1], projection='3d')\n",
    "X = np.arange(0, V_o.shape[0], 1.0)\n",
    "Y = np.arange(0, V_o.shape[1], 1.0)\n",
    "X, Y = np.meshgrid(X, Y)\n",
    "\n",
    "from scipy.stats import multivariate_normal\n",
    "gaussian = multivariate_normal([4, 4], [[.25, 0], [0, 0.25]])\n",
    "\n",
    "pos = np.dstack((X, Y))\n",
    "ax.view_init(elev=el, azim=az)\n",
    "p = ax.plot_surface( X, Y, gaussian.pdf( pos ), cmap='coolwarm',\n",
    "                      linewidth=0, antialiased=False )\n",
    "plt.colorbar(p)"
   ]
  },
  {
   "cell_type": "markdown",
   "metadata": {
    "id": "oxkFNCrgEffI"
   },
   "source": [
    "### Gaussian Prediction\n",
    "\n",
    "Kalman filter's predict step"
   ]
  },
  {
   "cell_type": "code",
   "execution_count": null,
   "metadata": {
    "id": "bNFNQkp8PTZq"
   },
   "outputs": [],
   "source": [
    "state = np.zeros( (N) )\n",
    "state[2] = 1.0\n",
    "\n",
    "\n",
    "\n",
    "def gaussian( mean, covar ):\n",
    "  return ad( { 'mean': np.array( mean ), 'covar': np.array( covar ) } )\n",
    "\n",
    "state = gaussian( [2.0,2.0], [ [.001,0], [0,.001] ] )"
   ]
  },
  {
   "cell_type": "code",
   "execution_count": null,
   "metadata": {
    "id": "Nrxh-wCrTOZ9"
   },
   "outputs": [],
   "source": [
    "def predict(pos, movement):\n",
    "    new_mean = []\n",
    "    new_covar = []\n",
    "    for dim in range(len(pos.mean)):\n",
    "      new_mean.append( pos.mean[dim] + movement.mean[dim] )\n",
    "      new_covar.append( pos.covar[dim] + movement.covar[dim] )\n",
    "    \n",
    "    pred = gaussian(new_mean, new_covar )\n",
    "    #print( f'prediction is {pred}')\n",
    "    return pred"
   ]
  },
  {
   "cell_type": "code",
   "execution_count": null,
   "metadata": {
    "id": "ro0oduMHULbB"
   },
   "outputs": [],
   "source": [
    "def plot_mv_gaussian( g, **kwargs):\n",
    "\n",
    "  X = np.arange(0, V_o.shape[0], .1)\n",
    "  Y = np.arange(0, V_o.shape[1], .1)\n",
    "  X, Y = np.meshgrid(X, Y)\n",
    "\n",
    "  from scipy.stats import multivariate_normal\n",
    "  gaussian = multivariate_normal(g.mean, g.covar )\n",
    "\n",
    "  pos = np.dstack((X, Y))\n",
    "  ax.view_init(elev=el, azim=az)\n",
    "  p = ax.plot_surface( X, Y, gaussian.pdf( pos ), cmap='coolwarm',\n",
    "                        linewidth=0, antialiased=False, **kwargs )\n",
    "  "
   ]
  },
  {
   "cell_type": "code",
   "execution_count": null,
   "metadata": {
    "colab": {
     "base_uri": "https://localhost:8080/",
     "height": 1000
    },
    "id": "6V92E1DiTaRx",
    "outputId": "79d48df4-218f-4f63-e2fb-a47f472cae88"
   },
   "outputs": [],
   "source": [
    "%pdb off \n",
    "\n",
    "fig = plt.figure( figsize=(6,6*5) )\n",
    "gs = fig.add_gridspec(5,1)\n",
    "ax = fig.add_subplot(gs[0, 0], projection='3d')\n",
    "\n",
    "state = gaussian( [2.0,2.0], [ [.001,0], [0,.001] ] )\n",
    "\n",
    "transition = gaussian( [1.0,1.0], [ [.25,0], [0,.25] ] )\n",
    "\n",
    "plot_mv_gaussian( state, label='state' )\n",
    "\n",
    "predictions = []\n",
    "for i in range(4):\n",
    "  ax = fig.add_subplot(gs[i+1, 0], projection='3d')\n",
    "  ax.set_zlim( 0, 1 )\n",
    "  if len(predictions) == 0:\n",
    "    # Predict from the starting state\n",
    "    pred = predict( state, transition )\n",
    "    predictions.append( pred )\n",
    "  else:\n",
    "    # Use the last prediction as our starting state for this prediction\n",
    "    pred = predict( predictions[-1], transition )\n",
    "    predictions.append( pred )\n",
    "\n",
    "  plot_mv_gaussian( pred, label=f't={i+1}' )\n",
    "\n",
    "#plt.colorbar()\n",
    "#plt.legend()\n"
   ]
  },
  {
   "cell_type": "markdown",
   "metadata": {
    "id": "DXFiCTb1EvuO"
   },
   "source": [
    "### Follow Deterministic Policy"
   ]
  },
  {
   "cell_type": "code",
   "execution_count": null,
   "metadata": {
    "colab": {
     "base_uri": "https://localhost:8080/",
     "height": 1000
    },
    "id": "kpQLv52bUy-z",
    "outputId": "abff2b33-b7eb-4fb4-88f3-d42761d9494b"
   },
   "outputs": [],
   "source": [
    "%pdb off\n",
    "\n",
    "# Follow deterministic policy and count the states we end up at.\n",
    "\n",
    "s_peak = np.argmax( V_det )\n",
    "\n",
    "print( f'peak at {s_peak}' )\n",
    "\n",
    "def dbg(*args):\n",
    "  #print(*args)\n",
    "  return\n",
    "\n",
    "plt.figure()\n",
    "#plt.title( f's_i:  {s_i}')\n",
    "\n",
    "reachabilities = []\n",
    "\n",
    "\n",
    "# Choose an initial state\n",
    "for s_i in range(N):\n",
    "\n",
    "  dbg( f'****** s_i {s_i}')\n",
    "\n",
    "  s_i_node = state_to_node( s_i )\n",
    "\n",
    "  for run in range(1):  # how many runs to average over?\n",
    "    #print( f's_i {s_i} run {run}')\n",
    "    s = s_i\n",
    "    peak_count = 0\n",
    "\n",
    "    node = state_to_node( s )\n",
    "\n",
    "    # Set up our initial state as a gaussian with very little uncertainty\n",
    "    state = gaussian( node, [ [0.001,0],[0,.001] ] )\n",
    "\n",
    "    predictions = []\n",
    "\n",
    "    for i in range( N ):  # how many steps to take in world?\n",
    "      dbg( f'state {s}')\n",
    "      s_node = state_to_node( s )\n",
    "\n",
    "      # Select the action from the determistic policy.\n",
    "      a = policy_det[s]\n",
    "\n",
    "      dbg( f'action {a}')\n",
    "\n",
    "      # Extract the probability of transitioning to sp from this state for this\n",
    "      # action\n",
    "      prob = T[ s, a, : ]\n",
    "      \n",
    "      dbg( f'next state probability {prob}')\n",
    "\n",
    "      # Rephrase that transition as a gaussian transition going either left \n",
    "      # or right.  Recall that we need to phrase this as a movement relative\n",
    "      # to the current state.\n",
    "      t_sp = np.argmax( prob )\n",
    "      t_node = state_to_node( t_sp )\n",
    "\n",
    "      t_move = np.array( t_node ) - np.array( s_node )\n",
    "\n",
    "      transition = gaussian( t_move, [ [0.25,0],[0,.25] ] )\n",
    "\n",
    "      dbg( f'gaussian version {transition}')\n",
    "\n",
    "      if len(predictions) == 0:\n",
    "        pred = predict( state, transition )\n",
    "      else:\n",
    "        pred = predict( predictions[-1], transition )\n",
    "\n",
    "      predictions.append( pred )\n",
    "\n",
    "      # From the prediciton, we need to determine which state we are in based\n",
    "      # off which state the mean most closely falls within.\n",
    "      sp_node = [ int( pred.mean[0] + .5 ), int( pred.mean[1] + .5 ) ]  # round to nearest int\n",
    "      sp = node_to_state( sp_node )\n",
    "\n",
    "\n",
    "      dbg( f'sp {sp}')\n",
    "\n",
    "      if sp == s_peak:\n",
    "        peak_count += 1\n",
    "\n",
    "      # Break out of loop if we reach the peak of the deterministic value function\n",
    "      if peak_count >= 2:\n",
    "        # For debug, lets attach the number of steps it took us to reach the\n",
    "        # peak\n",
    "        predictions[-1]['num_steps'] = i\n",
    "        break\n",
    "\n",
    "      # Get the next iteration of the loop ready\n",
    "      s = sp\n",
    "\n",
    "\n",
    "\n",
    "  #plot_gaussian( state, label=f'state {s_i}' )\n",
    "  if s_i_node[0] == 0:\n",
    "    # Plot one row\n",
    "\n",
    "    for i in range(len(predictions)-1):\n",
    "        #plot_gaussian( predictions[i], label=f't={i+1}' )\n",
    "        pass\n",
    "\n",
    "    fig = plt.figure( figsize=(6,6) )\n",
    "    gs = fig.add_gridspec(1,1)\n",
    "    ax = fig.add_subplot(gs[0, 0], projection='3d')\n",
    "\n",
    "    plot_mv_gaussian( predictions[-1], label=f's_i of {s_i}' )\n",
    "\n",
    "  reachabilities.append( predictions[ -1 ] )\n",
    "\n",
    "  #plt.legend()"
   ]
  },
  {
   "cell_type": "code",
   "execution_count": null,
   "metadata": {
    "colab": {
     "base_uri": "https://localhost:8080/"
    },
    "id": "-NAHVz-4dldX",
    "outputId": "25f398d9-8ebd-467f-e86b-bddc00b0bd08"
   },
   "outputs": [],
   "source": [
    "reachabilities\n"
   ]
  },
  {
   "cell_type": "markdown",
   "metadata": {
    "id": "asJNalMWFzLQ"
   },
   "source": [
    "### Area Under Multivariate Gaussian"
   ]
  },
  {
   "cell_type": "code",
   "execution_count": null,
   "metadata": {
    "id": "NVjohKzynejD"
   },
   "outputs": [],
   "source": [
    "# Here's what we were doing for a univariate gaussian earlier.  Need to adapt\n",
    "# this to multivariate.\n",
    "\n",
    "if False:\n",
    "  g1 = gaussian( 2.0, 3.0 )\n",
    "\n",
    "  for devs in [1, 2, 3]:\n",
    "    beg = g1.mean - devs * math.sqrt(g1.var)\n",
    "    end = g1.mean + devs * math.sqrt(g1.var)\n",
    "\n",
    "    txbeg = (beg - g1.mean) / math.sqrt( g1.var )\n",
    "    txend = (end - g1.mean) / math.sqrt( g1.var )\n",
    "\n",
    "    print( f'probability under {devs} standard deviations [{beg}, {end}] -> [{txbeg, txend}]: {phi( txend ) - phi( txbeg )}' )"
   ]
  },
  {
   "cell_type": "markdown",
   "metadata": {
    "id": "pOvTbulOKf99"
   },
   "source": [
    "For a gaussian with mean $\\mu = 0$ and standard deviation $\\sigma > 0$, the probability that a value $|x|$ lies within a range $\\alpha$ of the mean is:\n",
    "\n",
    "$$ Prob( |x| < \\alpha ) = erf( \\frac{ \\alpha }{ \\sqrt(2) \\cdot \\sigma } ) $$.\n",
    "\n",
    "If we instead wish to know the probability from $-\\infty$ to $x$ it is calculated as:\n",
    "\n",
    "$$ \\Phi( x, \\alpha ) \\equiv Prob( x < \\alpha ) = 0.5 + 0.5 * erf(  \\frac{ \\alpha }{ \\sqrt(2) \\cdot \\sigma } ) $$ because at $x = 0$, the probability is 0.5 and from that we need to add to that the probability that $x$ lies $\\alpha$ away from the mean $\\mu$, which is half the probabilty that $|x|$ lies $\\alpha$ away from the mean $\\mu$."
   ]
  },
  {
   "cell_type": "markdown",
   "metadata": {
    "id": "N_s8jNIbnqgk"
   },
   "source": [
    "From https://apps.dtic.mil/dtic/tr/fulltext/u2/401722.pdf, I found that for a multi-variate gaussian with means $\\mu$ of 0 and standard deviation $\\sigma$ the same in all dimensions, the integral is (see Eq 6):\n",
    "\n",
    "$$ Prob( |x_1| < \\alpha_1, |x_2| < \\alpha_2, \\cdots, |x_n| < \\alpha_n ) = erf( \\frac{ \\alpha_1 }{ \\sigma \\cdot \\sqrt(2) } ) \\cdot erf( \\frac{ \\alpha_2 }{ \\sigma \\cdot \\sqrt(2) } ) \\cdots erf( \\frac{ \\alpha_n }{ \\sigma \\cdot \\sqrt(2) } )  $$\n",
    "\n",
    "This luckily is the case I am concerned with, as I wish to integrate from grid points $(x_1, y_1), (x_2, y_2)$ where $x_2 > x_1$ and $y_2 > y_1$, where I want to integrate over the rectangle defined by $(x_1, y_1), (x_2, y_2)$."
   ]
  },
  {
   "cell_type": "markdown",
   "metadata": {
    "id": "-Xvn8QzjL892"
   },
   "source": [
    "To construct the 2D equivalent of the $\\Phi( x, \\alpha)$ function, as the dimensions are independent, the 2D $\\Phi( x_1, x_2, \\alpha_1, \\alpha_2 )$ is just the product of the 1D $\\Phi( \\cdot)$ functions along each dimension:\n",
    "\n",
    "$$ \n",
    "\\Phi_2( x_1, x_2, \\alpha_1, \\alpha_2 ) = \\Phi( x_1, \\alpha_1 ) \\cdot \\Phi( x_2, \\alpha_2 )$$."
   ]
  },
  {
   "cell_type": "code",
   "execution_count": null,
   "metadata": {
    "id": "J4ZucH1_ptL2"
   },
   "outputs": [],
   "source": [
    "# Error function \n",
    "\n",
    "# 1 dimensional integration from -inf to z under 1d normal distribution\n",
    "def phi( z ):\n",
    "  return 0.5 + 0.5 * math.erf(z / math.sqrt(2))\n",
    "\n",
    "\n"
   ]
  },
  {
   "cell_type": "markdown",
   "metadata": {
    "id": "gSwcCRGJ6Z6k"
   },
   "source": [
    "### Multivariate Gaussian Probability Bins"
   ]
  },
  {
   "cell_type": "markdown",
   "metadata": {
    "id": "4x2yOGuGSyBp"
   },
   "source": [
    "Let's make a function that takes an arbitrary gaussian, converts it to the standard normal form, and determined the probabilities of lying between $(x_1, x_2)$ along the first dimension and $(y_1, y_2)$ along the second dimension."
   ]
  },
  {
   "cell_type": "code",
   "execution_count": null,
   "metadata": {
    "id": "clJ66l4MnejV"
   },
   "outputs": [],
   "source": [
    "\n",
    "\n",
    "def int_mv_gaussian( g, x1, x2, y1, y2 ):\n",
    "\n",
    "  assert x2 >= x1\n",
    "  assert y2 >= y1\n",
    "\n",
    "  # assumes covariance off-axis values are 0.  won't work if there\n",
    "  # is corrleation betwen x and y.\n",
    "  #print( f'gaussian: {g}' )\n",
    "  #print( f'x range: {x1} ... {x2}')\n",
    "  #print( f'y range: {y1} ... {y2}')\n",
    "\n",
    "  tx_x1 = (x1 - g.mean[0]) / math.sqrt( g.covar[0,0] )\n",
    "  tx_x2 = (x2 - g.mean[0]) / math.sqrt( g.covar[0,0] )\n",
    "\n",
    "  #print( f'normalized x range: {tx_x1} ... {tx_x2}')\n",
    "\n",
    "  tx_y1 = (y1 - g.mean[1]) / math.sqrt( g.covar[1,1] )\n",
    "  tx_y2 = (y2 - g.mean[1]) / math.sqrt( g.covar[1,1] )\n",
    "\n",
    "  #print( f'normalized y range: {tx_y1} ... {tx_y2}')\n",
    "\n",
    "  p1 = phi( tx_x2 ) - phi( tx_x1 )\n",
    "  p2 = phi( tx_y2 ) - phi( tx_y1 )\n",
    "\n",
    "  #print( f'p1( {tx_x1}, {tx_x2} ): {p1}')\n",
    "  #print( f'p2( {tx_y1}, {tx_y2} ): {p2}')\n",
    "\n",
    "  prob = p2 * p1\n",
    "\n",
    "  #print( f'prob: {prob}')\n",
    "\n",
    "  return prob\n"
   ]
  },
  {
   "cell_type": "code",
   "execution_count": null,
   "metadata": {
    "colab": {
     "base_uri": "https://localhost:8080/"
    },
    "id": "SM5lMrN8cp2m",
    "outputId": "a56e16d2-feb9-4f70-d5cc-248d7184a49f"
   },
   "outputs": [],
   "source": [
    "g = gaussian( [0,0], [[1.0,0], [0,1.0]] )\n",
    "int_mv_gaussian( g, 0, 1, -np.inf, np.inf ) # should be around .34"
   ]
  },
  {
   "cell_type": "code",
   "execution_count": null,
   "metadata": {
    "colab": {
     "base_uri": "https://localhost:8080/"
    },
    "id": "dzEzY04crw3w",
    "outputId": "2a392778-cf4a-4f89-a379-59ca16fd6236"
   },
   "outputs": [],
   "source": [
    "# Generate some test cases to find any obvious problems.\n",
    "\n",
    "%pdb off \n",
    "\n",
    "# Test on a standard normal distribution\n",
    "g = gaussian( [0,0], [[1.0,0], [0,1.0]] )\n",
    "\n",
    "assert int_mv_gaussian( g, -np.inf, np.inf, -np.inf, np.inf ) == 1.0\n",
    "assert int_mv_gaussian( g, -np.inf, 0, -np.inf, 0 ) == 0.25\n",
    "assert int_mv_gaussian( g, -np.inf, np.inf, -np.inf, 0 ) == 0.5\n",
    "assert int_mv_gaussian( g, 0, np.inf, -np.inf, 0 ) == 0.25\n",
    "\n",
    "# Test on a standard normal distribution with shifted mean\n",
    "g = gaussian( [1,1], [[1.0,0], [0,1.0]] )\n",
    "\n",
    "assert int_mv_gaussian( g, -np.inf, np.inf, -np.inf, np.inf ) == 1.0\n",
    "assert int_mv_gaussian( g, -np.inf, 1, -np.inf, 1 ) == 0.25\n",
    "assert int_mv_gaussian( g, -np.inf, np.inf, -np.inf, 1 ) == 0.5\n",
    "\n",
    "# Test on a standard normal distribution with shifted variance\n",
    "g = gaussian( [0,0], [[2.0,0], [0,2.0]] )\n",
    "\n",
    "assert int_mv_gaussian( g, -np.inf, np.inf, -np.inf, np.inf ) == 1.0\n",
    "assert int_mv_gaussian( g, -np.inf, 0, -np.inf, 0 ) == 0.25\n",
    "assert int_mv_gaussian( g, -np.inf, np.inf, -np.inf, 0 ) == 0.5\n",
    "\n",
    "# Test on a standard normal distribution with shifted mean and variance\n",
    "g = gaussian( [3,3], [[2.0,0], [0,2.0]] )\n",
    "\n",
    "assert int_mv_gaussian( g, -np.inf, np.inf, -np.inf, np.inf ) == 1.0\n",
    "assert int_mv_gaussian( g, -np.inf, 3, -np.inf, 3 ) == 0.25\n",
    "assert int_mv_gaussian( g, -np.inf, np.inf, -np.inf, 3 ) == 0.5\n",
    "\n"
   ]
  },
  {
   "cell_type": "code",
   "execution_count": null,
   "metadata": {
    "colab": {
     "base_uri": "https://localhost:8080/",
     "height": 297
    },
    "id": "_gNd_lA6Zgtt",
    "outputId": "dae6dda3-49c1-488d-905b-0ba56ea87601"
   },
   "outputs": [],
   "source": [
    "g = gaussian( [5,5], [[1.0,0], [0,1.0]] )\n",
    "\n",
    "# Plot the function over a range of inputs.  Should resemble a sigmoid function \n",
    "# which starts at 0 and grows to 1 as x goes from 0 to 10 here.  As our mean is\n",
    "# at 5, we should be at 0.5 for alpha2 == 5.\n",
    "\n",
    "for alpha2 in range( 0, 10 ):\n",
    "  x = []\n",
    "  v = []\n",
    "  for alpha1 in range( 10 ):\n",
    "    x.append( alpha1 )\n",
    "    v.append(  int_mv_gaussian( g, -np.inf, alpha1, -np.inf, alpha2 ) )\n",
    "\n",
    "  plt.xlabel( 'alpha1')\n",
    "  plt.ylabel( '$Prob( x_1  < \\alpha_1, x_2 < \\alpha_2 )$')\n",
    "  plt.plot( x, v, label=f'alpha2: {alpha2}')\n",
    "plt.legend()"
   ]
  },
  {
   "cell_type": "code",
   "execution_count": null,
   "metadata": {
    "colab": {
     "base_uri": "https://localhost:8080/",
     "height": 299
    },
    "id": "av8lwYVfb34e",
    "outputId": "6a17e83d-1ad1-4cd6-b507-a4a80e339e58"
   },
   "outputs": [],
   "source": [
    "# Show probability bins around each value.  Should resemble a normal \n",
    "# distribution, but won't be smooth.\n",
    "\n",
    "g = gaussian( [5,5], [[1.0,0], [0,1.0]] )\n",
    "\n",
    "for alpha2 in [ 5 ]:\n",
    "  x = []\n",
    "  v = []\n",
    "  for alpha1 in range( 10 ):\n",
    "    x.append( alpha1 )\n",
    "    v.append(  int_mv_gaussian( g, alpha1 - .5, alpha1 + 0.5, -np.inf, alpha2 ) )\n",
    "\n",
    "  plt.xlabel( 'alpha1')\n",
    "  plt.ylabel( '$Prob( x_1  < \\alpha_1, x_2 < \\alpha_2 )$')\n",
    "  plt.plot( x, v, label=f'alpha2: {alpha2}')\n",
    "plt.legend()"
   ]
  },
  {
   "cell_type": "code",
   "execution_count": null,
   "metadata": {
    "id": "oa66GzUU6ypk"
   },
   "outputs": [],
   "source": [
    "# Create a function that will discretize a gaussian, returning the probability\n",
    "# bins for each integer value.\n",
    "\n",
    "def discretize_gaussian( g_cont ):\n",
    "  # We want to generate a discretized version of this\n",
    "  disc = np.zeros( (N) )\n",
    "\n",
    "  s_i_node = state_to_node( 0 )\n",
    "\n",
    "  # Compute area under the gaussian for each state's bin\n",
    "  for s in range(N):\n",
    "\n",
    "    s_node = state_to_node( s )\n",
    "\n",
    "    disc[s] = int_mv_gaussian( g_cont, s_node[0] - 0.5, s_node[0] + 0.5, s_node[1] - 0.5, s_node[1] + 0.5 )\n",
    "\n",
    "  return disc"
   ]
  },
  {
   "cell_type": "code",
   "execution_count": null,
   "metadata": {
    "colab": {
     "base_uri": "https://localhost:8080/",
     "height": 1000
    },
    "id": "VFM1R7Hqr7tR",
    "outputId": "d39fe920-98e9-41ef-f006-22c7a38a9707"
   },
   "outputs": [],
   "source": [
    "# Double check with plots that the discretized bins resemble the gaussian they \n",
    "# are generated from.\n",
    "\n",
    "%pdb off\n",
    "\n",
    "\n",
    "def plot_mv_surf( prob_bins, dim, **kwargs):\n",
    "\n",
    "  X = np.arange(0, dim, 1)\n",
    "  Y = np.arange(0, dim, 1)\n",
    "  X, Y = np.meshgrid(X, Y)\n",
    "\n",
    "  ax.view_init(elev=el, azim=az)\n",
    "  p = ax.plot_surface( X, Y, prob_bins, cmap='coolwarm',\n",
    "                        linewidth=0, antialiased=False, **kwargs )\n",
    "\n",
    "def plot_mv_bar( prob_bins, dim, **kwargs):\n",
    "\n",
    "  X = np.arange(0, dim, 1)\n",
    "  Y = np.arange(0, dim, 1)\n",
    "  X, Y = np.meshgrid(X, Y)\n",
    "\n",
    "  print( f'X: {X.shape}, Y: {Y.shape}, dim: {dim}, prob_bins: {prob_bins.shape}')\n",
    "\n",
    "  top = prob_bins\n",
    "  bottom = np.zeros_like(top)\n",
    "  width = depth = 1\n",
    "\n",
    "  ax.view_init(elev=el, azim=az)\n",
    "  p = ax.bar3d( X.ravel(), Y.ravel(), bottom.ravel(), width, depth, top.ravel(), shade=True, cmap='coolwarm' )\n",
    "\n",
    "\n",
    "g = gaussian( [5,5], [[1.0,0], [0,1.0]] )\n",
    "\n",
    "g_disc = discretize_gaussian( g )\n",
    "\n",
    "print( f'g_disc: {g_disc.shape}')\n",
    "fig = plt.figure( figsize=(6,6) )\n",
    "gs = fig.add_gridspec(1,1)\n",
    "ax = fig.add_subplot(gs[0, 0], projection='3d')\n",
    "\n",
    "plot_mv_gaussian( g, label=f's_i of {s_i}' )\n",
    "#plt.legend()\n",
    "\n",
    "fig = plt.figure( figsize=(6,6) )\n",
    "gs = fig.add_gridspec(1,1)\n",
    "ax = fig.add_subplot(gs[0, 0], projection='3d')\n",
    "plot_mv_bar( g_disc.reshape( (dim,dim) ) , dim, color='r' )\n",
    "\n",
    "fig = plt.figure( figsize=(6,6) )\n",
    "gs = fig.add_gridspec(1,1)\n",
    "ax = fig.add_subplot(gs[0, 0], projection='3d')\n",
    "plot_mv_surf( g_disc.reshape( (dim,dim) ) , dim, color='r' )"
   ]
  },
  {
   "cell_type": "markdown",
   "metadata": {
    "id": "CeHYVpT4sltW"
   },
   "source": [
    "### Computing Reachability"
   ]
  },
  {
   "cell_type": "code",
   "execution_count": null,
   "metadata": {
    "id": "GbAaLDJvr7tB"
   },
   "outputs": [],
   "source": [
    "# We saved off the probabilty of reachabilty into the reachabilities[] variable \n",
    "# up above as a continuous gaussian.  Lets convert those continuous gaussian\n",
    "# representations into discretized bins.  What we need is the abilty to \n",
    "# understand what the probability is of reaching state s starting from state s_i\n",
    "# while following the deterministic policy.\n",
    "\n",
    "disc_reach = []\n",
    "\n",
    "\n",
    "\n",
    "for s_i in range(N):\n",
    "    # Get the continuous representation of reachability from state s_i as\n",
    "    # a gaussian\n",
    "    g_cont = reachabilities[s_i]\n",
    "\n",
    "    # We want to generate a discretized version of this\n",
    "    disc = np.zeros( (N) )\n",
    "\n",
    "    s_i_node = state_to_node( s_i )\n",
    "  \n",
    "    # Compute area under the gaussian for each state's bin\n",
    "    for s in range(N):\n",
    "\n",
    "      s_node = state_to_node( s )\n",
    "\n",
    "      disc[s] = int_mv_gaussian( g_cont, s_node[0] - 0.5, s_node[0] + 0.5, s_node[1] - 0.5, s_node[1] + 0.5 )\n",
    "\n",
    "    disc_reach.append( disc )\n",
    "\n",
    "\n"
   ]
  },
  {
   "cell_type": "code",
   "execution_count": null,
   "metadata": {
    "colab": {
     "base_uri": "https://localhost:8080/"
    },
    "id": "2tBN7JAf9VJ1",
    "outputId": "cd89529a-83d2-4beb-bcf1-dd74d627dd40"
   },
   "outputs": [],
   "source": [
    "reachabilities, len(reachabilities)"
   ]
  },
  {
   "cell_type": "code",
   "execution_count": null,
   "metadata": {
    "colab": {
     "base_uri": "https://localhost:8080/",
     "height": 1000
    },
    "id": "-D4_LUffYqTp",
    "outputId": "a5fddb2d-3bed-4708-da26-d45078eb8209"
   },
   "outputs": [],
   "source": [
    "%pdb off\n",
    "# THis is currently broken\n",
    "\n",
    "\n",
    "\n",
    "discounts = np.zeros( (N,N) )\n",
    "\n",
    "def node_dist( n1, n2 ):\n",
    "  # manhattan distance\n",
    "  d = np.sum( np.abs( np.array( n1 ) - np.array( n2 ) ) )\n",
    "\n",
    "  return d\n",
    "\n",
    "# This doesn't appear to be quite right\n",
    "for s_i in range(N):\n",
    "  for s in range(N):\n",
    "\n",
    "    node_s_i = state_to_node( s_i )\n",
    "    node_s   = state_to_node( s )\n",
    "\n",
    "    dist = node_dist( node_s_i, node_s )\n",
    "\n",
    "    discounts[ s_i, s ] = gamma ** dist\n",
    "\n",
    "\n",
    "V_pred = np.zeros_like( V_sto )\n",
    "\n",
    "s_peak = np.argmax( V_det )\n",
    "\n",
    "if False:\n",
    "  for s_i in range(N):\n",
    "    sum = np.sum( V_det * discounts[s_i] * disc_reach[s_i] )\n",
    "    #sum = np.sum( V_det * disc_reach[s_i] )\n",
    "    V_pred[ s_i ] = sum\n",
    "\n",
    "    \n",
    "    print( f's_i {s_i}  calc\\'d {sum}  actual {V_sto[s_i]}' )\n",
    "\n",
    "\n",
    "if False:  # This didn't work\n",
    "  for s_i in range(N):\n",
    "    # What's the probability of reaching the state where the peak is at?\n",
    "    reach = disc_reach[ s_i ][ s_peak ]  \n",
    "\n",
    "    if s_i == 6:  reach = .8\n",
    "    print( f'prob of reaching {s_peak} from {s_i} is {reach}')\n",
    "\n",
    "    V_pred[ s_i ] = V_det[s_peak] * discounts[s_i, s_peak] * reach\n",
    "    V_pred[ s_i ] = np.sum( V_det * discounts[s_i] * disc_reach[s_i] )\n",
    "\n",
    "if True: # This kind of works magically\n",
    "  # Compute the most value we can possibly acheive in this stochastic MDP\n",
    "  # based off the \"lost value\" that occurs due to the stochastic transition.\n",
    "  \n",
    "  V_sto_max = np.sum( V_det * discounts[s_peak] * disc_reach[s_peak] )\n",
    "\n",
    "  # Treat that as if it were a new determistic value, and then exponentially\n",
    "  # decay it as if it were a deterministic MDP.\n",
    "  for s_i in range(N):\n",
    "    V_pred[ s_i ] = V_sto_max * discounts[s_i, s_peak] \n",
    "\n",
    "# How are we going to graph this?\n",
    "\n",
    "sz = 1000\n",
    "\n",
    "#pos=nx.spring_layout(G,iterations=100)\n",
    "fig = plt.figure( figsize=(12,6) )\n",
    "gs = fig.add_gridspec(1,2)\n",
    "ax = fig.add_subplot(gs[0, 0], projection='3d')\n",
    "ax.view_init(elev=el, azim=az)\n",
    "\n",
    "s = np.arange( N )\n",
    "n = state_to_node( s )\n",
    "\n",
    "X = n[0].reshape( (dim,dim) )\n",
    "Y = n[1].reshape( (dim,dim) )\n",
    "Z = V_det.reshape( (dim,dim) )\n",
    "\n",
    "plt.title( f'Deterministic (max={Z.max()})' )\n",
    "\n",
    "p = ax.plot_surface( X, Y, Z, cmap='coolwarm',\n",
    "                      linewidth=0, antialiased=False, label='deterministic')\n",
    "\n",
    "ax = fig.add_subplot(gs[0, 1])\n",
    "\n",
    "ax.plot( Y[4], Z[4, :] )\n",
    "plt.grid()\n",
    "\n",
    "fig = plt.figure( figsize=(12,6) )\n",
    "gs = fig.add_gridspec(1,2)\n",
    "ax = fig.add_subplot(gs[0, 0], projection='3d')\n",
    "ax.view_init(elev=el, azim=az)\n",
    "\n",
    "Z = V_sto.reshape( (dim,dim) )\n",
    "\n",
    "plt.title( f'Stochastic (max={Z.max()})' )\n",
    "p = ax.plot_surface( X, Y, Z, cmap='coolwarm',\n",
    "                      linewidth=0, antialiased=False, label='deterministic')\n",
    "\n",
    "ax = fig.add_subplot(gs[0, 1])\n",
    "\n",
    "ax.plot( Y[4], Z[4, :] )\n",
    "plt.grid()\n",
    "\n",
    "fig = plt.figure( figsize=(12,6) )\n",
    "gs = fig.add_gridspec(1,2)\n",
    "ax = fig.add_subplot(gs[0, 0], projection='3d')\n",
    "ax.view_init(elev=el, azim=az)\n",
    "\n",
    "Z = V_pred.reshape( (dim,dim) )\n",
    "plt.title( f'Predicted (max={Z.max()})' )\n",
    "\n",
    "p = ax.plot_surface( X, Y, Z, cmap='coolwarm',\n",
    "                      linewidth=0, antialiased=False, label='deterministic')\n",
    "\n",
    "ax = fig.add_subplot(gs[0, 1])\n",
    "\n",
    "ax.plot( Y[4], Z[4, :] )\n",
    "plt.grid()\n"
   ]
  },
  {
   "cell_type": "markdown",
   "metadata": {
    "id": "n3JFia1f55O2"
   },
   "source": [
    "## Initial Conclusions\n",
    "\n",
    "This is looking pretty close.  Should spend some time making sure the reachability and distance computations look correct.  Maybe there's too much probability assigned to reaching the goal state for some reason.\n",
    "\n",
    "One thing I had to do here was alter the reachabilities computation to reach the peak twice.  If I only went to once, the predicted value was too high (around 42).  This makes me feel a little hand wavy as I don't have a principled way to explain why that would be required.  It is probably similar effect to adding a gamma.\n",
    "\n",
    "So at this point where we're at is it seems like there might still be something to the idea of how much lost value is caused by the stochastic transition function as a basis for predicting the stochastic MDP peak.\n",
    "\n",
    "Another thing we need to do is go back and recode the transition function to be the actual gaussian probability bins and see if that makes things match up a bit more."
   ]
  },
  {
   "cell_type": "code",
   "execution_count": null,
   "metadata": {
    "id": "u84GqoDU77-S"
   },
   "outputs": [],
   "source": []
  },
  {
   "cell_type": "markdown",
   "metadata": {
    "id": "vZXmgpTq_Pgg"
   },
   "source": [
    "## Solve MDP with True Gaussian Transition Function\n",
    "\n",
    "Here we need to figure out how to capture the gaussian bins from above into a transition matrix that we can solve with value iteration to see what effect that has on the stochastic value function and whether our solution matches more correctly.  Maybe it is an artifact of the transition function we've been using with bleed being a truncated gaussian and that affecting the stochastic value function.\n"
   ]
  },
  {
   "cell_type": "markdown",
   "metadata": {
    "id": "vuvU-g-rAYvz"
   },
   "source": [
    "### Build up the Transition function from Gaussian Predictions"
   ]
  },
  {
   "cell_type": "code",
   "execution_count": null,
   "metadata": {
    "id": "Bq5_H8ia2Mgv"
   },
   "outputs": [],
   "source": [
    "# Here's the determinsitc transition function we've been using above for\n",
    "# our 2D world\n",
    "\n",
    "def gen_deterministic_transition_function(N, max_out_degree):\n",
    "\n",
    "  T = np.zeros( (N, max_out_degree, N)  )\n",
    "\n",
    "  print( \"Building transition function\" )\n",
    "  \n",
    "  for s in range(N):\n",
    "\n",
    "    nbrs = neighbors( s )\n",
    "\n",
    "    # Each neighbor is reached by an action\n",
    "    for a, nbr in enumerate(nbrs):\n",
    "\n",
    "      # In a deterministic MDP there is no uncertainty in the transition.\n",
    "      # When we take action a, we always arrive at nbr.\n",
    "      sp = node_to_state( nbr )\n",
    "\n",
    "      T[ s, a, sp ] = 1.0\n",
    "\n",
    "  return T\n",
    "\n"
   ]
  },
  {
   "cell_type": "code",
   "execution_count": null,
   "metadata": {
    "id": "-bX3Z3MJ2Znq"
   },
   "outputs": [],
   "source": [
    "\n",
    "# Here was the stochastic transition function that implements a truncated\n",
    "# gaussian.  We want to adapt this to more fully match a gaussian.\n",
    "\n",
    "if False:\n",
    "  def gen_stochastic_transition_function(N, max_out_degree, bleed=0.1):\n",
    "\n",
    "    T = np.zeros( (N, max_out_degree, N)  )\n",
    "\n",
    "    print( \"Building transition function\" )\n",
    "    \n",
    "    for s in range(N):\n",
    "\n",
    "      nbrs = neighbors( s )\n",
    "\n",
    "      # Each neighbor is reached by an action\n",
    "      for a, nbr in enumerate(nbrs):\n",
    "\n",
    "        # In a stochastic MDP there is some uncertainty in the transition.\n",
    "        # When we take action a, we won't always arrive at nbr, but may instead\n",
    "        # arrive at another state.  \n",
    "\n",
    "        # We want to approximate a gaussian uncertainty distribution.  When we \n",
    "        # attempt an action a which would normally arrive at nbr, we will instead\n",
    "        # have a small probability of transitioning to one of the neighbors of\n",
    "        # \n",
    "        sp = node_to_state( nbr )\n",
    "\n",
    "        nbr_nbrs = neighbors( sp )\n",
    "\n",
    "        assert bleed * len( nbr_nbrs ) < 1.0, \"bleed is too high\"\n",
    "\n",
    "        prob_left = 1.0\n",
    "        for nbr_nbr in nbr_nbrs:\n",
    "          sn = node_to_state( nbr_nbr )\n",
    "          T[ s, a, sn ] = bleed\n",
    "          prob_left -= bleed\n",
    "        \n",
    "        assert prob_left > 0.0\n",
    "        T[ s, a, sp ] = prob_left\n",
    "\n",
    "    return T"
   ]
  },
  {
   "cell_type": "code",
   "execution_count": null,
   "metadata": {
    "id": "_sg1WjUGAXFw"
   },
   "outputs": [],
   "source": [
    "\n",
    "def gaussian( mean, covar ):\n",
    "  return ad( { 'mean': np.array( mean ), 'covar': np.array( covar ) } )\n",
    "\n",
    "def predict(pos, movement):\n",
    "    new_mean = []\n",
    "    new_covar = []\n",
    "    for dim in range(len(pos.mean)):\n",
    "      new_mean.append( pos.mean[dim] + movement.mean[dim] )\n",
    "      new_covar.append( pos.covar[dim] + movement.covar[dim] )\n",
    "    \n",
    "    pred = gaussian(new_mean, new_covar )\n",
    "    #print( f'prediction is {pred}')\n",
    "    return pred\n",
    "    "
   ]
  },
  {
   "cell_type": "code",
   "execution_count": null,
   "metadata": {
    "id": "2KAWBR6AA8yk"
   },
   "outputs": [],
   "source": [
    "# our actions are up, down, left, right\n",
    "\n",
    "up = gaussian( [ 0.0, 1.0], [ [.25,0], [0,.25] ] )\n",
    "dn = gaussian( [ 0.0,-1.0], [ [.25,0], [0,.25] ] )\n",
    "lt = gaussian( [-1.0, 0.0], [ [.25,0], [0,.25] ] )\n",
    "rt = gaussian( [ 1.0, 0.0], [ [.25,0], [0,.25] ] )\n",
    "\n",
    "actions = [ up, dn, lt, rt ]\n",
    "\n"
   ]
  },
  {
   "cell_type": "code",
   "execution_count": null,
   "metadata": {
    "id": "rXmYvRcy3FFX"
   },
   "outputs": [],
   "source": [
    "\n",
    "# 1 dimensional integration from -inf to z under 1d normal distribution\n",
    "def phi( z ):\n",
    "  return 0.5 + 0.5 * math.erf(z / math.sqrt(2))\n"
   ]
  },
  {
   "cell_type": "code",
   "execution_count": null,
   "metadata": {
    "id": "p_KL6GhN28OP"
   },
   "outputs": [],
   "source": [
    "# integral of a multivariate 2D gaussian from x1 to x2 along one dimension and \n",
    "# from y1 to y2 along the other.  assumes spherical uncertainty.\n",
    "def int_mv_gaussian( g, x1, x2, y1, y2 ):\n",
    "\n",
    "  assert x2 >= x1\n",
    "  assert y2 >= y1\n",
    "\n",
    "  # assumes covariance off-axis values are 0.  won't work if there\n",
    "  # is corrleation betwen x and y.\n",
    "  #print( f'gaussian: {g}' )\n",
    "  #print( f'x range: {x1} ... {x2}')\n",
    "  #print( f'y range: {y1} ... {y2}')\n",
    "\n",
    "  tx_x1 = (x1 - g.mean[0]) / math.sqrt( g.covar[0,0] )\n",
    "  tx_x2 = (x2 - g.mean[0]) / math.sqrt( g.covar[0,0] )\n",
    "\n",
    "  #print( f'normalized x range: {tx_x1} ... {tx_x2}')\n",
    "\n",
    "  tx_y1 = (y1 - g.mean[1]) / math.sqrt( g.covar[1,1] )\n",
    "  tx_y2 = (y2 - g.mean[1]) / math.sqrt( g.covar[1,1] )\n",
    "\n",
    "  #print( f'normalized y range: {tx_y1} ... {tx_y2}')\n",
    "\n",
    "  p1 = phi( tx_x2 ) - phi( tx_x1 )\n",
    "  p2 = phi( tx_y2 ) - phi( tx_y1 )\n",
    "\n",
    "  #print( f'p1( {tx_x1}, {tx_x2} ): {p1}')\n",
    "  #print( f'p2( {tx_y1}, {tx_y2} ): {p2}')\n",
    "\n",
    "  prob = p2 * p1\n",
    "\n",
    "  #print( f'prob: {prob}')\n",
    "\n",
    "  return prob"
   ]
  },
  {
   "cell_type": "code",
   "execution_count": null,
   "metadata": {
    "id": "f3pYkK8p3l4C"
   },
   "outputs": [],
   "source": [
    "# Create a function that will discretize a gaussian, returning the probability\n",
    "# bins for each integer value.\n",
    "\n",
    "def discretize_gaussian( g_cont ):\n",
    "  # We want to generate a discretized version of this\n",
    "  disc = np.zeros( (N) )\n",
    "\n",
    "  # Compute area under the gaussian for each state's bin\n",
    "  for s in range(N):\n",
    "\n",
    "    s_node = state_to_node( s )\n",
    "\n",
    "    disc[s] = int_mv_gaussian( g_cont, s_node[0] - 0.5, s_node[0] + 0.5, s_node[1] - 0.5, s_node[1] + 0.5 )\n",
    "\n",
    "  return disc"
   ]
  },
  {
   "cell_type": "code",
   "execution_count": null,
   "metadata": {
    "id": "pcmyJ3sk2rpT"
   },
   "outputs": [],
   "source": [
    "\n",
    "def gen_stochastic_transition_function_g(N, actions):\n",
    "\n",
    "  T = np.zeros( (N, max_out_degree, N)  )\n",
    "\n",
    "  print( \"Building transition function\" )\n",
    "  \n",
    "  for s in range(N):\n",
    "\n",
    "    s_node = state_to_node( s )\n",
    "\n",
    "    # Represent the current state as a gaussian with very little uncertainty\n",
    "    s_gaussian = gaussian( s_node, [ [.0001, 0], [ 0, .0001 ] ] )\n",
    "\n",
    "    # Take each action\n",
    "    for a, act in enumerate(actions):\n",
    "\n",
    "      # In a stochastic MDP there is some uncertainty in the transition.\n",
    "      # When we take action a, we won't always arrive at an intended state, but \n",
    "      # may instead arrive at another state.  \n",
    "\n",
    "      # We want to approximate a gaussian uncertainty distribution.  Using\n",
    "      # s_gaussian as our representation of our position, perform the predict\n",
    "      # step using the gaussian action as our movement in the prediction.\n",
    "      sp_gaussian = predict( s_gaussian, act )\n",
    "\n",
    "      # This resulting gaussian sp_gaussian is a continuous representation of\n",
    "      # the next state.  Let's divide it into bins and use those bins to\n",
    "      # populate our transition matrix T.  Let's adopt the convention that \n",
    "      # any probability bins that would fall outside our discrete MDP state\n",
    "      # space will be truncated.  That is, once we have all of our bins computed,\n",
    "      # we will need to normalize the bins so that their total probabilities sum\n",
    "      # to 1.0.  First compute the bins:\n",
    "\n",
    "      bins = discretize_gaussian( sp_gaussian )\n",
    "\n",
    "      # Now normalize the probabilities.\n",
    "      total_probability = np.sum( bins )\n",
    "      bins = bins / total_probability\n",
    "\n",
    "      assert np.abs( np.sum( bins ) - 1.0 ) < .0001, \"Probabiity normalization failed\"\n",
    "\n",
    "      # Now populate the transition function with the bins\n",
    "      for sn in range(N):\n",
    "        sn_node = state_to_node( sn )\n",
    "\n",
    "        T[ s, a, sn ] = bins[ sn ]\n",
    "\n",
    "  return T"
   ]
  },
  {
   "cell_type": "code",
   "execution_count": null,
   "metadata": {
    "colab": {
     "base_uri": "https://localhost:8080/"
    },
    "id": "n6Yk-EO67xpN",
    "outputId": "0413ee02-1b34-4c78-9787-ca73110d9a90"
   },
   "outputs": [],
   "source": [
    "%pdb off\n",
    "# Let's create a reward function defined over the graph\n",
    "\n",
    "R = np.zeros( (N) )\n",
    "\n",
    "# Put a reward at a random node in the graph.  I picked node\n",
    "# a node arbitrarily and put a reward at that location.\n",
    "R[ node_to_state( (4, 4) ) ] = 10\n",
    "\n",
    "# define bellman residual threshold\n",
    "epsilon = .00001\n",
    "\n",
    "# discount factor\n",
    "gamma = 0.9\n",
    "\n",
    "\n",
    "print( \"Solving MDP\" )\n",
    "#V = np.zeros( (N) )\n",
    "#T_det = T = gen_deterministic_transition_function( N, max_out_degree )\n",
    "#V_det = numba_value_iteration_st( N, V, T, R, epsilon, gamma )\n",
    "\n",
    "V = np.zeros( (N) )\n",
    "T_sto_g = T = gen_stochastic_transition_function_g( N, actions )\n",
    "V_sto_g = numba_value_iteration_st( N, V, T, R, epsilon, gamma )"
   ]
  },
  {
   "cell_type": "code",
   "execution_count": null,
   "metadata": {
    "colab": {
     "base_uri": "https://localhost:8080/",
     "height": 1000
    },
    "id": "rEDYz4U78IBE",
    "outputId": "3b0b5103-a8b9-487f-ba86-2d1baca9b387"
   },
   "outputs": [],
   "source": [
    "plot_it( V_det, dim )\n",
    "plot_it( V_sto, dim )\n",
    "plot_it( V_sto_g, dim )\n"
   ]
  },
  {
   "cell_type": "markdown",
   "metadata": {
    "id": "ait1Y1zH80gD"
   },
   "source": [
    "#### Conclusions"
   ]
  },
  {
   "cell_type": "markdown",
   "metadata": {
    "id": "qAwAtAua80KT"
   },
   "source": [
    "Well that's not what I expected.  If anything the true gaussian distribution only emphasized the exaggeration of the peak.  Let's quickly test out some different variances."
   ]
  },
  {
   "cell_type": "markdown",
   "metadata": {
    "id": "VDrqBsHI9Hhz"
   },
   "source": [
    "### Different variances\n"
   ]
  },
  {
   "cell_type": "code",
   "execution_count": null,
   "metadata": {
    "id": "bpPowI419NLQ"
   },
   "outputs": [],
   "source": [
    "def generate_actions( step=1.0, variance=0.25 ):\n",
    "  # our actions are up, down, left, right\n",
    "\n",
    "  up = gaussian( [  0.0, step], [ [variance,0], [0,variance] ] )\n",
    "  dn = gaussian( [  0.0,-step], [ [variance,0], [0,variance] ] )\n",
    "  lt = gaussian( [-step,  0.0], [ [variance,0], [0,variance] ] )\n",
    "  rt = gaussian( [ step,  0.0], [ [variance,0], [0,variance] ] )\n",
    "\n",
    "  actions = [ up, dn, lt, rt ]\n",
    "\n",
    "  return actions"
   ]
  },
  {
   "cell_type": "code",
   "execution_count": null,
   "metadata": {
    "colab": {
     "base_uri": "https://localhost:8080/",
     "height": 1000
    },
    "id": "fzKntguU9ZgD",
    "outputId": "5b3e40b4-6e37-49d0-8492-a72b256c836f"
   },
   "outputs": [],
   "source": [
    "\n",
    "# Let's create a reward function defined over the graph\n",
    "\n",
    "R = np.zeros( (N) )\n",
    "\n",
    "# Put a reward at a random node in the graph.  I picked node\n",
    "# a node arbitrarily and put a reward at that location.\n",
    "R[ node_to_state( (4, 4) ) ] = 10\n",
    "\n",
    "# define bellman residual threshold\n",
    "epsilon = .00001\n",
    "\n",
    "# discount factor\n",
    "gamma = 0.9\n",
    "\n",
    "\n",
    "print( \"Solving MDP\" )\n",
    "#V = np.zeros( (N) )\n",
    "T_det = T = gen_deterministic_transition_function( N, max_out_degree )\n",
    "V_det = numba_value_iteration_st( N, V, T, R, epsilon, gamma )\n",
    "plot_it( V_det, dim, f'Deterministic' )\n",
    "\n",
    "for stddev in [ 2, 1, .5, .25, .1 ]:\n",
    "  V = np.zeros( (N) )\n",
    "  variance = stddev**2\n",
    "  actions = generate_actions( 1, variance )\n",
    "  T_sto_g = T = gen_stochastic_transition_function_g( N, actions )\n",
    "  V_sto_g = numba_value_iteration_st( N, V, T, R, epsilon, gamma )\n",
    "\n",
    "  plot_it( V_sto_g, dim, f'Stddev: {stddev}' )"
   ]
  },
  {
   "cell_type": "code",
   "execution_count": null,
   "metadata": {
    "id": "dW-heucP-UJA"
   },
   "outputs": [],
   "source": []
  },
  {
   "cell_type": "markdown",
   "metadata": {
    "id": "6wHqVbhgBtrA"
   },
   "source": [
    "### Bigger worlds"
   ]
  },
  {
   "cell_type": "code",
   "execution_count": null,
   "metadata": {
    "colab": {
     "base_uri": "https://localhost:8080/",
     "height": 613
    },
    "id": "jjw3nqtkBv3N",
    "outputId": "88cd2d58-eb33-4ae1-a871-9bcbbbfb62e6"
   },
   "outputs": [],
   "source": [
    "dim = 15\n",
    "sz = 1000\n",
    "\n",
    "# Generate a 1D grid world using networkx to do it.\n",
    "G = nx.generators.lattice.grid_2d_graph( dim, dim )\n",
    "\n",
    "#pos=nx.spring_layout(G,iterations=200)\n",
    "\n",
    "scale = 500\n",
    "pos={}\n",
    "for i in range(dim):\n",
    "  for j in range(dim):\n",
    "    pos[(i,j)] = (i*scale, j*scale)\n",
    "\n",
    "nodes = np.array( list(G.nodes) )\n",
    "\n",
    "N = len(nodes)\n",
    "o = np.ones( N )\n",
    "edge_colors= np.c_[ [ .8 * o, .8 * o, .9 * o, .7 * o ] ].T\n",
    "\n",
    "figsize = (10,10) \n",
    "\n",
    "plt.figure(figsize=figsize)\n",
    "\n",
    "nx.draw_networkx(G, pos,  node_size=sz, node_color=(.8, .8, .9, 1.0), edge_color=edge_colors, with_labels=True)\n"
   ]
  },
  {
   "cell_type": "code",
   "execution_count": null,
   "metadata": {
    "colab": {
     "base_uri": "https://localhost:8080/"
    },
    "id": "CG0azDJDCNvW",
    "outputId": "7af5762b-3fbd-4552-dad2-64d27bfac83d"
   },
   "outputs": [],
   "source": [
    "# Instead generate a dictionary with key of the node and value of a list of \n",
    "# outgoing nodes\n",
    "edges = {}\n",
    "for edge in list(G.edges):\n",
    "  #print( edge, type(edge) )\n",
    "  src, dst = edge\n",
    "\n",
    "  # Generate from src to dst\n",
    "  try:\n",
    "    edges[src] += [ dst ]\n",
    "  except KeyError:\n",
    "    edges[src] = [ dst ]\n",
    "\n",
    "  # And since this is a undirected graph generate the reverse transition\n",
    "  try:\n",
    "    edges[dst] += [ src ]\n",
    "  except KeyError:\n",
    "    edges[dst] = [ src ]\n",
    "\n",
    "# Determine the maximum number of outgoing transitions from any node\n",
    "max_out_degree = -1\n",
    "for src, outgoing in edges.items():\n",
    "  max_out_degree = max( max_out_degree, len(outgoing) )\n",
    "\n",
    "print( 'edges: ', edges )\n",
    "print( 'max_out_degree: ', max_out_degree )\n",
    "\n",
    "def neighbors( s ):\n",
    "  node = state_to_node( s ) \n",
    "\n",
    "  return edges[ node ]\n",
    "\n",
    "def node_to_state( node ):\n",
    "  return node[0] * dim + node[1]\n",
    "\n",
    "def state_to_node( s ):\n",
    "  x = s // dim\n",
    "  y = s  % dim\n",
    "  node = (x, y)\n",
    "  return node"
   ]
  },
  {
   "cell_type": "code",
   "execution_count": null,
   "metadata": {
    "id": "fDJDqaBbCaQc"
   },
   "outputs": [],
   "source": [
    "def plot_it( V_o, dim , center, title = None ):\n",
    "\n",
    "  V_o = V_o.reshape( (dim,dim) )\n",
    "\n",
    "  fig = plt.figure(figsize=(16,4), constrained_layout=False)\n",
    "  gs = fig.add_gridspec(1,4)\n",
    "\n",
    "  #plt.imshow( R, cmap=\"Reds\" )\n",
    "  #plt.colorbar()\n",
    "\n",
    "  #plt.figure()\n",
    "  #plt.imshow( V )\n",
    "  #plt.colorbar()\n",
    "\n",
    "  ax = fig.add_subplot(gs[0, 0])\n",
    "  if title:\n",
    "    fig.suptitle( title, fontsize=16 )\n",
    "\n",
    "  plt.title( 'Value function, V')\n",
    "  p = plt.imshow( V_o, cmap=\"coolwarm\" )\n",
    "  plt.colorbar(p)\n",
    "\n",
    "\n",
    "  from mpl_toolkits.mplot3d import Axes3D\n",
    "\n",
    "  X = np.arange(0, V_o.shape[0], 1.0)\n",
    "  Y = np.arange(0, V_o.shape[1], 1.0)\n",
    "  X, Y = np.meshgrid(X, Y)\n",
    "\n",
    "  Z = V_o\n",
    "\n",
    "  print( X.shape, V_o.shape )\n",
    "\n",
    "\n",
    "  ax = fig.add_subplot(gs[0, 1], projection='3d')\n",
    "  plt.title( 'Value function, V')\n",
    "  #plt.imshow( V_o, cmap=\"jet\" )\n",
    "\n",
    "\n",
    "\n",
    "  ax.view_init(elev=el, azim=az)\n",
    "  ax.plot_surface(X, Y, Z, cmap='coolwarm',\n",
    "                        linewidth=0, antialiased=False)\n",
    "  plt.colorbar(p)\n",
    "\n",
    "  ax = fig.add_subplot(gs[0, 2])\n",
    "  plt.title( 'Fall-off profile')\n",
    "\n",
    "  # Starting at the center, go outwards along one axis and plot the\n",
    "  # relationship of the next point to the current point.  Maybe a pattern will \n",
    "  # emerge.\n",
    "\n",
    "  cx, cy = state_to_node( center )\n",
    "  strip = V_o[ cx, cy:]\n",
    "\n",
    "  relate = strip[ 1: ] / strip[ :-1 ]\n",
    "\n",
    "  plt.plot( strip )\n",
    "\n",
    "  ax = fig.add_subplot(gs[0, 3])\n",
    "  plt.title( 'Fall-off relationship')\n",
    "  plt.ylim( (0, 1) )\n",
    "  #plt.xticks( ticks= list(range(0,dim-1)), labels=[ str(i) for i in range(1,dim) ] )\n",
    "  plt.plot( relate )\n",
    "\n",
    "  return strip, relate\n",
    "\n",
    "      \n",
    "\n"
   ]
  },
  {
   "cell_type": "code",
   "execution_count": null,
   "metadata": {
    "colab": {
     "base_uri": "https://localhost:8080/",
     "height": 1000
    },
    "id": "W6JBq8zUB4V3",
    "outputId": "2296ee69-c89a-4076-d625-32990cd44a5f"
   },
   "outputs": [],
   "source": [
    "\n",
    "# Let's create a reward function defined over the graph\n",
    "scale = 1\n",
    "\n",
    "R = np.zeros( (dim,dim) )\n",
    "\n",
    "c = int(dim/2)\n",
    "center = node_to_state( ( c, c ) ) \n",
    "print( f'center: {center}')\n",
    "\n",
    "# Put a reward at a random node in the graph.  I picked node\n",
    "# a node arbitrarily and put a reward at that location.\n",
    "R[ c:c+scale, c:c+scale ] = 10\n",
    "\n",
    "R = R.ravel()\n",
    "\n",
    "# define bellman residual threshold\n",
    "epsilon = .00001\n",
    "\n",
    "# discount factor\n",
    "gamma = 0.9\n",
    "\n",
    "\n",
    "print( \"Solving MDP\" )\n",
    "\n",
    "\n",
    "for stddev in [ 4, 2, 1.5, 1, .75, .5, .25]:\n",
    "  V = np.zeros( (N) )\n",
    "\n",
    "  step = 1.0 * scale\n",
    "  variance = (stddev * scale)**2\n",
    "  actions = generate_actions( step, variance )\n",
    "  T_sto_g = T = gen_stochastic_transition_function_g( N, actions )\n",
    "  V_sto_g = numba_value_iteration_st( N, V, T, R, epsilon, gamma )\n",
    "\n",
    "  plot_it( V_sto_g, dim, center, f'Stddev: {stddev}' )\n",
    "\n",
    "V = np.zeros( (N) )\n",
    "T_det = T = gen_deterministic_transition_function( N, max_out_degree )\n",
    "V_det = numba_value_iteration_st( N, V, T, R, epsilon, gamma )\n",
    "plot_it( V_det.reshape( (dim,dim) ), dim, center, f'Deterministic' )\n",
    "\n",
    "\n",
    "V = np.zeros( (N) )\n",
    "#T_det = T = gen_deterministic_transition_function( N, max_out_degree )\n",
    "#V_det = numba_value_iteration_st( N, V, T, R, epsilon, gamma )\n",
    "g = gaussian( [  c, c], [ [4,0], [0,4] ] )\n",
    "bins = discretize_gaussian( g )\n",
    "plot_it( bins.reshape( (dim,dim) ), dim, center, f'Gaussian' )\n"
   ]
  },
  {
   "cell_type": "code",
   "execution_count": null,
   "metadata": {
    "colab": {
     "base_uri": "https://localhost:8080/"
    },
    "id": "J2d62Ml-CEls",
    "outputId": "7d7bce96-9535-4ccc-ba94-0625b3f55295"
   },
   "outputs": [],
   "source": [
    "center"
   ]
  },
  {
   "cell_type": "markdown",
   "metadata": {
    "id": "cPsDt3gwbhsB"
   },
   "source": [
    "#### Can we reconstruct the profile?"
   ]
  },
  {
   "cell_type": "code",
   "execution_count": null,
   "metadata": {
    "colab": {
     "base_uri": "https://localhost:8080/",
     "height": 329
    },
    "id": "GlVE-9SQbs5i",
    "outputId": "83a84b04-f7b3-436e-bffe-1fdc82491f94"
   },
   "outputs": [],
   "source": [
    "for stddev in [ 1.0 ]:\n",
    "  V = np.zeros( (N) )\n",
    "\n",
    "  step = 1.0 * scale\n",
    "  variance = (stddev * scale)**2\n",
    "  actions = generate_actions( step, variance )\n",
    "  T_sto_g = T = gen_stochastic_transition_function_g( N, actions )\n",
    "  V_sto_g = numba_value_iteration_st( N, V, T, R, epsilon, gamma )\n",
    "\n",
    "  strip, relate = plot_it( V_sto_g, dim, center, f'Stddev: {stddev}' )"
   ]
  },
  {
   "cell_type": "markdown",
   "metadata": {
    "id": "TiJN2k62Yc9G"
   },
   "source": [
    "##### Can we compute the peak max?"
   ]
  },
  {
   "cell_type": "code",
   "execution_count": null,
   "metadata": {
    "colab": {
     "base_uri": "https://localhost:8080/"
    },
    "id": "V96WsAnlbUG6",
    "outputId": "4b218134-6ee1-42d3-c3ce-6d44ea6f1b5e"
   },
   "outputs": [],
   "source": [
    "V_sto_g.max()"
   ]
  },
  {
   "cell_type": "code",
   "execution_count": null,
   "metadata": {
    "colab": {
     "base_uri": "https://localhost:8080/"
    },
    "id": "coyMl4KIb_Jh",
    "outputId": "8b0fb527-df57-4996-b7df-364ae029813e"
   },
   "outputs": [],
   "source": [
    "V_det.max(), V_sto_g.max()"
   ]
  },
  {
   "cell_type": "code",
   "execution_count": null,
   "metadata": {
    "colab": {
     "base_uri": "https://localhost:8080/"
    },
    "id": "4HFcbQ6GcBdU",
    "outputId": "ab4b3129-8a41-46de-a2a6-6de3691fbcf7"
   },
   "outputs": [],
   "source": [
    "center, c"
   ]
  },
  {
   "cell_type": "code",
   "execution_count": null,
   "metadata": {
    "colab": {
     "base_uri": "https://localhost:8080/"
    },
    "id": "KtKEV9ivcDrm",
    "outputId": "51912ea4-5c98-4843-b317-4847f657fc84"
   },
   "outputs": [],
   "source": [
    "V_det[center]"
   ]
  },
  {
   "cell_type": "code",
   "execution_count": null,
   "metadata": {
    "id": "2bse--JLcG2I"
   },
   "outputs": [],
   "source": [
    "# extract transition probabities of next state sp from the center taking action 0\n",
    "T_0 = T_sto_g[ center, 0, : ]\n",
    "\n"
   ]
  },
  {
   "cell_type": "code",
   "execution_count": null,
   "metadata": {
    "id": "2q8Y9xW9cSvU"
   },
   "outputs": [],
   "source": [
    "# extract reward we get for reaching center\n",
    "r = R[center]"
   ]
  },
  {
   "cell_type": "code",
   "execution_count": null,
   "metadata": {
    "colab": {
     "base_uri": "https://localhost:8080/"
    },
    "id": "yjepZGssc3v4",
    "outputId": "6c15c510-5d35-415c-f805-5e00876fc7ef"
   },
   "outputs": [],
   "source": [
    "# validate we understanding how to compute V_det.max()\n",
    "def bellman_recursive( rs ):\n",
    "  if len(rs) == 1:\n",
    "    return rs[0]\n",
    "  else:\n",
    "    return rs[0] + gamma * bellman_recursive( rs[1:] )\n",
    "\n",
    "\n",
    "rs = [r, 0] \n",
    "\n",
    "print( V_det.max() )\n",
    "print( bellman_recursive( rs * 1 ) )\n",
    "print( bellman_recursive( rs * 10 ) )\n",
    "print( bellman_recursive( rs * 50 ) )\n",
    "print( bellman_recursive( rs * 100 ) )\n"
   ]
  },
  {
   "cell_type": "code",
   "execution_count": null,
   "metadata": {
    "colab": {
     "base_uri": "https://localhost:8080/"
    },
    "id": "4ltpOxFEd1HG",
    "outputId": "208b1f06-e52e-40bd-e5f9-e4808bbe38be"
   },
   "outputs": [],
   "source": [
    "# Can we figure out V_sto_g max as a starting point?  Assume we follow optimal\n",
    "# policy\n",
    "def bellman_recursive_sto( rs, ps ):\n",
    "  if len(rs) == 1:\n",
    "    return rs[0] * ps[0]\n",
    "  else:\n",
    "    return rs[0] + gamma * ps[0] * bellman_recursive_sto( rs[1:] , ps[1:] )\n",
    "\n",
    "rs = [0, r] \n",
    "\n",
    "T_0\n",
    "T_0s = np.sort( T_0 )\n",
    "probs = T_0s[::-1]\n",
    "\n",
    "# prob of getting reward on first step, then on second step\n",
    "ps = [ probs[0], probs[1] ]\n",
    "\n",
    "\n",
    "print( V_sto_g.max() )\n",
    "print( bellman_recursive_sto( r + rs * 1 , [1] + ps * 1) )\n",
    "print( bellman_recursive_sto( r + rs * 10, [1] + ps * 10 ) )\n",
    "print( bellman_recursive_sto( r + rs * 50, [1] + ps * 50 ) )\n",
    "print( bellman_recursive_sto( r + rs * 100, [1] + ps * 100 ) )"
   ]
  },
  {
   "cell_type": "code",
   "execution_count": null,
   "metadata": {
    "id": "F7BVENbJe5ex"
   },
   "outputs": [],
   "source": [
    "T_0\n",
    "T_0s = np.sort( T_0 )"
   ]
  },
  {
   "cell_type": "code",
   "execution_count": null,
   "metadata": {
    "id": "HUCiU4XyfVE-"
   },
   "outputs": [],
   "source": [
    "probs = T_0s[::-1]\n",
    "\n",
    "# prob of getting reward on first step, then on second step\n",
    "ps = [ probs[1], probs[0] ]"
   ]
  },
  {
   "cell_type": "markdown",
   "metadata": {
    "id": "umdOEd7sfovq"
   },
   "source": [
    "##### Given the peak max, can we compute the fall off?"
   ]
  },
  {
   "cell_type": "code",
   "execution_count": null,
   "metadata": {
    "colab": {
     "base_uri": "https://localhost:8080/"
    },
    "id": "PAKKt3scYi8H",
    "outputId": "16b24b34-8652-4797-86c2-bfa98261fd67"
   },
   "outputs": [],
   "source": [
    "Vm = V_sto_g.max()\n",
    "Vm"
   ]
  },
  {
   "cell_type": "code",
   "execution_count": null,
   "metadata": {
    "colab": {
     "base_uri": "https://localhost:8080/"
    },
    "id": "6vZW8I8nYuq9",
    "outputId": "840176df-6c38-4964-c35b-e7e7ef1dbc81"
   },
   "outputs": [],
   "source": [
    "strip"
   ]
  },
  {
   "cell_type": "code",
   "execution_count": null,
   "metadata": {
    "colab": {
     "base_uri": "https://localhost:8080/"
    },
    "id": "bHRc_ahlZWjJ",
    "outputId": "b14e3b96-5ef8-431b-a634-a5b328fb6696"
   },
   "outputs": [],
   "source": [
    "relate"
   ]
  },
  {
   "cell_type": "code",
   "execution_count": null,
   "metadata": {
    "colab": {
     "base_uri": "https://localhost:8080/"
    },
    "id": "lJBxA4_DZYGZ",
    "outputId": "35e8687c-c5c9-4cfb-bc72-5d263dc4a184"
   },
   "outputs": [],
   "source": [
    "strip / Vm"
   ]
  },
  {
   "cell_type": "code",
   "execution_count": null,
   "metadata": {
    "colab": {
     "base_uri": "https://localhost:8080/",
     "height": 283
    },
    "id": "z32FGsrOZcAp",
    "outputId": "92a22810-c51f-45bd-dd9c-38befa709780"
   },
   "outputs": [],
   "source": [
    "plt.plot( strip / Vm )"
   ]
  },
  {
   "cell_type": "code",
   "execution_count": null,
   "metadata": {
    "colab": {
     "base_uri": "https://localhost:8080/"
    },
    "id": "OeYZailQZfV_",
    "outputId": "823e4a28-0232-4655-c247-97be1dd0e6b4"
   },
   "outputs": [],
   "source": [
    "center, c"
   ]
  },
  {
   "cell_type": "code",
   "execution_count": null,
   "metadata": {
    "id": "zLPLI_s0ZvEF"
   },
   "outputs": [],
   "source": [
    "# extract transition probabities of next state sp from the center taking action 0\n",
    "T_0 = T_sto_g[ center, 0, : ]"
   ]
  },
  {
   "cell_type": "code",
   "execution_count": null,
   "metadata": {
    "id": "cGPnbWlUZ5ZU"
   },
   "outputs": [],
   "source": [
    "def optimal_policy( V_det, T ):\n",
    "  policy_det = np.zeros_like( V_det, dtype=int )\n",
    "  policy_det_nice = []\n",
    "\n",
    "  N = len(V_det)\n",
    "  #print( f'N = {N}')\n",
    "\n",
    "  for s in range(N):\n",
    "\n",
    "    # Choose an action randomly.  One trick here is we need to know how many\n",
    "    # actions are available from this state.  We can figure this out by determining\n",
    "    # the out-degree of this node in the graph.\n",
    "\n",
    "    node = state_to_node( s )\n",
    "\n",
    "    out_degree = G.degree( node )\n",
    "\n",
    "    #print( f\"Out degree of {s} is {out_degree}\" )\n",
    "\n",
    "    values = np.zeros( (out_degree) )\n",
    "    action_nice = []\n",
    "\n",
    "    for a in range(out_degree):\n",
    "\n",
    "      #print( f'  action {a}')\n",
    "\n",
    "      # Extract the probability of transitioning to sp from this state for this\n",
    "      # action\n",
    "      prob = T[ s, a, : ]\n",
    "\n",
    "      # Use this probablity distribution to randomly determine which next state\n",
    "      # sp we arrive at\n",
    "\n",
    "      sp = np.argmax( prob )\n",
    "\n",
    "      #print( f'    next state {sp}' ) #', probability {prob}')\n",
    "\n",
    "      value = V_det[sp]\n",
    "\n",
    "      #print( f'    value at {sp} is {value}')\n",
    "\n",
    "      values[a] = value\n",
    "\n",
    "    # Best action\n",
    "    a_star = np.argmax( values )\n",
    "\n",
    "    #print( f'  a_star {a_star}')\n",
    "\n",
    "    policy_det[s] = a_star\n",
    "\n",
    "  #print( f'policy {policy_det}' )\n",
    "  return policy_det\n",
    "\n",
    "policy_det = optimal_policy( V_det, T_det )"
   ]
  },
  {
   "cell_type": "code",
   "execution_count": null,
   "metadata": {
    "id": "WtsPuekqfFeE"
   },
   "outputs": [],
   "source": [
    "\n",
    "def plot_policy( V, pi, dim ):\n",
    "\n",
    "  V = V.reshape( (dim,dim) )\n",
    "\n",
    "  fig = plt.figure(figsize=(36,36), constrained_layout=False)\n",
    "  gs = fig.add_gridspec(2,2)\n",
    "\n",
    "  #plt.imshow( R, cmap=\"Reds\" )\n",
    "  #plt.colorbar()\n",
    "\n",
    "  #plt.figure()\n",
    "  #plt.imshow( V )\n",
    "  #plt.colorbar()\n",
    "\n",
    "  ax = fig.add_subplot(gs[0, 0])\n",
    "  plt.title( 'Policy, pi')\n",
    "  p = plt.imshow( V, cmap=\"coolwarm\" )\n",
    "  plt.colorbar(p)\n",
    "\n",
    "  N = len(pi)\n",
    "  for s in range(N):\n",
    "\n",
    "    node = state_to_node( s )\n",
    "\n",
    "    a = pi[ s ]\n",
    "\n",
    "    nbrs = neighbors( s )\n",
    "\n",
    "    sp_node = nbrs[ a ] \n",
    "\n",
    "    #print( f'{node}->{sp_node}')\n",
    "    x, y = node\n",
    "    x2, y2 = sp_node\n",
    "\n",
    "    sx = x + .3 * (x2 - x)\n",
    "    ex = x + .8 * (x2 - x)\n",
    "    sy = y + .3 * (y2 - y)\n",
    "    ey = y + .8 * (y2 - y)\n",
    "\n",
    "    plt.annotate('', xy=(ex, ey), xycoords='data',\n",
    "             xytext=(sx, sy), textcoords='data',\n",
    "             arrowprops=dict(arrowstyle=\"->\"), color='g')\n",
    "    plt.annotate(f'{x},{y}', xy=(x2, y2), xycoords='data',\n",
    "             xytext=(x-.2, y+.07), textcoords='data',\n",
    "             color='g')\n",
    "\n",
    "\n",
    "\n",
    "\n"
   ]
  },
  {
   "cell_type": "code",
   "execution_count": null,
   "metadata": {
    "colab": {
     "base_uri": "https://localhost:8080/",
     "height": 1000
    },
    "id": "6BiCD1ZSioVc",
    "outputId": "1fadc9ac-5186-4150-9da4-166ba3c489fd"
   },
   "outputs": [],
   "source": [
    "plot_policy( V_det, policy_det, dim )\n",
    "\n",
    "plot_policy( V_sto_g, policy_det, dim )"
   ]
  },
  {
   "cell_type": "markdown",
   "metadata": {
    "id": "4Qzn9C11bCnh"
   },
   "source": [
    "Given the symmetry, we need to think in terms of rings.  Ring 1 is 1 step away, ring 2 is two steps away, and so on.\n",
    "\n",
    "Can we then compute a probability for ring 1, for ring 2, etc of reaching the reward and use that as the basis for the falloff?\n",
    "\n"
   ]
  },
  {
   "cell_type": "code",
   "execution_count": null,
   "metadata": {
    "id": "-eBQSrW3iDac"
   },
   "outputs": [],
   "source": [
    "# extract transition probabities of next state sp from the center taking any \n",
    "# random action.  (all will be the same due to symmetry)\n",
    "T_0 = T_sto_g[ center, 0, : ]\n",
    "\n",
    "# extract transition probablities of state in ring 1 taking action back towards\n",
    "# center (eg, following deterministic policy)\n",
    "r1_state = node_to_state( (c, c + 1) )\n",
    "r1_astar = policy_det[ r1_state ]\n",
    "T_1 = T_sto_g[ r1_state, r1_astar ]\n"
   ]
  },
  {
   "cell_type": "code",
   "execution_count": null,
   "metadata": {
    "id": "_vTTf1ZakBkX"
   },
   "outputs": [],
   "source": [
    "\n",
    "def plot_transition( T_sa, pi, state, a_star, dim ):\n",
    "\n",
    "  T_sa = T_sa.reshape( (dim,dim) )\n",
    "\n",
    "  fig = plt.figure(figsize=(36,36), constrained_layout=False)\n",
    "  gs = fig.add_gridspec(2,2)\n",
    "\n",
    "  #plt.imshow( R, cmap=\"Reds\" )\n",
    "  #plt.colorbar()\n",
    "\n",
    "  #plt.figure()\n",
    "  #plt.imshow( V )\n",
    "  #plt.colorbar()\n",
    "\n",
    "  ax = fig.add_subplot(gs[0, 0])\n",
    "  plt.title( 'Policy, pi')\n",
    "  p = plt.imshow( T_sa, cmap=\"coolwarm\" )\n",
    "  plt.colorbar(p)\n",
    "\n",
    "  N = len(pi)\n",
    "  for s in range(N):\n",
    "\n",
    "    node = state_to_node( s )\n",
    "\n",
    "    a = a_star\n",
    "\n",
    "    nbrs = neighbors( s )\n",
    "\n",
    "    sp_node = nbrs[ a ] \n",
    "\n",
    "    #print( f'{node}->{sp_node}')\n",
    "    x, y = node\n",
    "    x2, y2 = sp_node\n",
    "\n",
    "    sx = x + .3 * (x2 - x)\n",
    "    ex = x + .8 * (x2 - x)\n",
    "    sy = y + .3 * (y2 - y)\n",
    "    ey = y + .8 * (y2 - y)\n",
    "\n",
    "    if s == state:\n",
    "      plt.annotate('', xy=(ex, ey), xycoords='data',\n",
    "              xytext=(sx, sy), textcoords='data',\n",
    "              arrowprops=dict(arrowstyle=\"->\"), color='g')\n",
    "    plt.annotate(f'{T_sa[node]:.3f}', xy=(x2, y2), xycoords='data',\n",
    "             xytext=(x-.2, y+.07), textcoords='data',\n",
    "             color='w')\n"
   ]
  },
  {
   "cell_type": "code",
   "execution_count": null,
   "metadata": {
    "colab": {
     "base_uri": "https://localhost:8080/",
     "height": 926
    },
    "id": "v3iXUv29krD8",
    "outputId": "e15a0930-af5b-47d5-e974-e20a76026902"
   },
   "outputs": [],
   "source": [
    "plot_transition( T_1, policy_det, r1_state, r1_astar, dim )"
   ]
  },
  {
   "cell_type": "code",
   "execution_count": null,
   "metadata": {
    "id": "KCo5umkBm7C8"
   },
   "outputs": [],
   "source": [
    "# Compute distances from peak\n",
    "dists = np.zeros( (N,N) )\n",
    "for s_i in range(N):\n",
    "  for s in range(N):\n",
    "\n",
    "    node_s_i = np.array( state_to_node( s_i ) )\n",
    "    node_s   = np.array( state_to_node( s ) )\n",
    "\n",
    "    # manhattan distance\n",
    "    dists[ s_i, s ] = np.sum( np.abs( node_s_i - node_s ) )"
   ]
  },
  {
   "cell_type": "code",
   "execution_count": null,
   "metadata": {
    "colab": {
     "base_uri": "https://localhost:8080/",
     "height": 920
    },
    "id": "kIiKTd84nMPo",
    "outputId": "820f4d56-63c8-4818-99cb-5ad3b20a671d"
   },
   "outputs": [],
   "source": [
    "\n",
    "def plot_dists( V_det, dists, dim ):\n",
    "\n",
    "  N = len(V_det)\n",
    "  s_peak = np.argmax( V_det )\n",
    "  V_det = V_det.reshape( (dim,dim) )\n",
    "  #dists = dists.reshape( (dim,dim) )\n",
    "\n",
    "  fig = plt.figure(figsize=(36,36), constrained_layout=False)\n",
    "  gs = fig.add_gridspec(2,2)\n",
    "\n",
    "  #plt.imshow( R, cmap=\"Reds\" )\n",
    "  #plt.colorbar()\n",
    "\n",
    "  #plt.figure()\n",
    "  #plt.imshow( V )\n",
    "  #plt.colorbar()\n",
    "\n",
    "  ax = fig.add_subplot(gs[0, 0])\n",
    "  plt.title( 'Dists, $\\phi( s, s_{peak} )$')\n",
    "  p = plt.imshow( V_det, cmap=\"coolwarm\" )\n",
    "  plt.colorbar(p)\n",
    "\n",
    "  for s in range(N):\n",
    "\n",
    "    node = state_to_node( s )\n",
    "\n",
    "    nbrs = neighbors( s )\n",
    "\n",
    "    #print( f'{node}->{sp_node}')\n",
    "    x, y = node\n",
    "\n",
    "    plt.annotate(f'{dists[s, s_peak]}', xy=(x, y), xycoords='data',\n",
    "             xytext=(x-.2, y+.07), textcoords='data',\n",
    "             color='w')\n",
    "\n",
    "plot_dists( V_det, dists, dim )"
   ]
  },
  {
   "cell_type": "code",
   "execution_count": null,
   "metadata": {
    "id": "auxreu-NoJzQ"
   },
   "outputs": [],
   "source": []
  },
  {
   "cell_type": "markdown",
   "metadata": {
    "id": "HYJO-pEWkzK0"
   },
   "source": [
    "Lets compute a probabilty of reward $P_R$ following that determistic policy taking action $a^*$.  In this case, it is simply the probability of reaching the center.\n"
   ]
  },
  {
   "cell_type": "code",
   "execution_count": null,
   "metadata": {
    "id": "pjKImrQslIlS"
   },
   "outputs": [],
   "source": [
    "P_R = T_1[ center ]"
   ]
  },
  {
   "cell_type": "code",
   "execution_count": null,
   "metadata": {
    "colab": {
     "base_uri": "https://localhost:8080/"
    },
    "id": "42MmJ2O8lNPW",
    "outputId": "b85e4fb9-9ff8-4133-85af-b8571b95bdea"
   },
   "outputs": [],
   "source": [
    "P_R * 10"
   ]
  },
  {
   "cell_type": "code",
   "execution_count": null,
   "metadata": {
    "colab": {
     "base_uri": "https://localhost:8080/"
    },
    "id": "PNnhQD9Cmi5I",
    "outputId": "4a01f93d-3315-4264-fdcf-e931e0a7339a"
   },
   "outputs": [],
   "source": [
    "V_sto_g[ center ], V_sto_g[ r1_state ], Vm"
   ]
  },
  {
   "cell_type": "code",
   "execution_count": null,
   "metadata": {
    "colab": {
     "base_uri": "https://localhost:8080/"
    },
    "id": "nQl1Z6g-mzZE",
    "outputId": "af140df1-3eb8-4d78-ad73-194d5383cbb4"
   },
   "outputs": [],
   "source": [
    "# This is suprisingly close to 1/4 the real value?\n",
    "P_R1 = 0 + np.sum( (T_1 * gamma)**( dists ) )  \n",
    "P_R1"
   ]
  },
  {
   "cell_type": "code",
   "execution_count": null,
   "metadata": {
    "colab": {
     "base_uri": "https://localhost:8080/"
    },
    "id": "BfyWgHG6pjq9",
    "outputId": "f08a04f4-95a5-4881-963c-1f58541a7409"
   },
   "outputs": [],
   "source": [
    "np.sum( (T_1 * gamma)**dists )\n"
   ]
  },
  {
   "cell_type": "code",
   "execution_count": null,
   "metadata": {
    "colab": {
     "base_uri": "https://localhost:8080/"
    },
    "id": "krVsl7NFpqQD",
    "outputId": "e978da92-5422-4a1a-f62e-e90c69677960"
   },
   "outputs": [],
   "source": [
    "dists.max()"
   ]
  },
  {
   "cell_type": "code",
   "execution_count": null,
   "metadata": {
    "id": "a8bNR6HNOaMS"
   },
   "outputs": [],
   "source": [
    "M = (T_1 * gamma)**dists"
   ]
  },
  {
   "cell_type": "code",
   "execution_count": null,
   "metadata": {
    "colab": {
     "base_uri": "https://localhost:8080/"
    },
    "id": "jv7yko6BOgFe",
    "outputId": "dc45ec98-31b7-4a7a-ec5a-46b6281f4d2e"
   },
   "outputs": [],
   "source": [
    "M.min(), M.max()"
   ]
  },
  {
   "cell_type": "code",
   "execution_count": null,
   "metadata": {
    "colab": {
     "base_uri": "https://localhost:8080/"
    },
    "id": "q2zB0qdMOpXZ",
    "outputId": "90e13307-0c34-4d74-9a8b-aaecf08813b3"
   },
   "outputs": [],
   "source": [
    "len(dists)"
   ]
  },
  {
   "cell_type": "code",
   "execution_count": null,
   "metadata": {
    "colab": {
     "base_uri": "https://localhost:8080/"
    },
    "id": "JMn9uqP3O0pq",
    "outputId": "e9cb4390-c43a-4589-88fe-b1ec81a41d96"
   },
   "outputs": [],
   "source": [
    "np.sum( M )"
   ]
  },
  {
   "cell_type": "code",
   "execution_count": null,
   "metadata": {
    "colab": {
     "base_uri": "https://localhost:8080/"
    },
    "id": "KBYW4LwzO5Y5",
    "outputId": "130b1753-bbd0-4f65-ddc3-df564b16d286"
   },
   "outputs": [],
   "source": [
    "np.max( M )"
   ]
  },
  {
   "cell_type": "code",
   "execution_count": null,
   "metadata": {
    "colab": {
     "base_uri": "https://localhost:8080/"
    },
    "id": "H7nca0cjO9p0",
    "outputId": "6ac816dd-ed9f-4506-b38a-61deda82b5e3"
   },
   "outputs": [],
   "source": [
    "np.sum( T_1 * gamma**dists )"
   ]
  },
  {
   "cell_type": "code",
   "execution_count": null,
   "metadata": {
    "id": "GcX981lsPvmB"
   },
   "outputs": [],
   "source": []
  }
 ],
 "metadata": {
  "accelerator": "GPU",
  "colab": {
   "collapsed_sections": [],
   "machine_shape": "hm",
   "name": "Stochastic MDPs.ipynb",
   "provenance": [],
   "toc_visible": true
  },
  "kernelspec": {
   "display_name": "Python 3 (ipykernel)",
   "language": "python",
   "name": "python3"
  },
  "language_info": {
   "codemirror_mode": {
    "name": "ipython",
    "version": 3
   },
   "file_extension": ".py",
   "mimetype": "text/x-python",
   "name": "python",
   "nbconvert_exporter": "python",
   "pygments_lexer": "ipython3",
   "version": "3.9.12"
  }
 },
 "nbformat": 4,
 "nbformat_minor": 4
}
