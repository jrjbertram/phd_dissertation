{
 "cells": [
  {
   "cell_type": "markdown",
   "metadata": {
    "id": "LoiSSLvJZOds"
   },
   "source": [
    "Quick one-off notebook to generate animations of value iteration at work.  Forked from the val_iter_GPU.ipynb notebook.\n",
    "\n"
   ]
  },
  {
   "cell_type": "markdown",
   "metadata": {
    "id": "2r4O8aQUta35"
   },
   "source": [
    "# Preliminaries"
   ]
  },
  {
   "cell_type": "code",
   "execution_count": 87,
   "metadata": {
    "id": "XJfRXc_Bta3_"
   },
   "outputs": [],
   "source": [
    "\n",
    "\n",
    "import numpy as np\n",
    "import operator\n",
    "\n",
    "\n",
    "import matplotlib.pyplot as plt\n",
    "\n",
    "\n",
    "import IPython.display as dp\n",
    "import matplotlib.patches as patches\n",
    "import matplotlib.gridspec as gridspec \n",
    "from mpl_toolkits.mplot3d import Axes3D\n",
    "\n",
    "import time\n",
    "\n",
    "import numba as nb\n",
    "\n",
    "from timeit import default_timer as timer"
   ]
  },
  {
   "cell_type": "code",
   "execution_count": 95,
   "metadata": {},
   "outputs": [
    {
     "name": "stdout",
     "output_type": "stream",
     "text": [
      "mkdir: cannot create directory ‘anim’: File exists\n"
     ]
    }
   ],
   "source": [
    "!mkdir anim\n",
    "def plot_frame( frame_num, V_o, final_V_o, min_V ):\n",
    "    fig = plt.figure(figsize=(16,6), constrained_layout=False)\n",
    "    gs = fig.add_gridspec(1,2)\n",
    "    \n",
    "    V_max = final_V_o.max()\n",
    "    #V_min = final_V_o.min()\n",
    "    V_min = min_V # supplied by caller\n",
    "\n",
    "    ax = fig.add_subplot(gs[0, 0])\n",
    "    plt.title( 'Value function, V (top view)')\n",
    "    p = plt.imshow( V_o[1:-1,1:-1], cmap=\"coolwarm\", vmax=V_max, vmin=V_min )\n",
    "    plt.colorbar(p)\n",
    "\n",
    "    ax = fig.add_subplot(gs[0, 1], projection='3d')\n",
    "    plt.title( 'Value function, V (3D view)')\n",
    "\n",
    "    X = np.arange(1, V_o.shape[0] - 1, 1.0)\n",
    "    Y = np.arange(1, V_o.shape[1] - 1, 1.0)\n",
    "    X, Y = np.meshgrid(X, Y)\n",
    "\n",
    "    Z = V_o[1:-1,1:-1]\n",
    "\n",
    "    #print( X.shape, V_o.shape )\n",
    "\n",
    "\n",
    "    e=40\n",
    "    a=30\n",
    "\n",
    "    ax.view_init(elev=e, azim=a)\n",
    "    p = ax.plot_surface(X, Y, Z, cmap='coolwarm',\n",
    "                           linewidth=0, antialiased=False, vmax=V_max, vmin=V_min)\n",
    "    plt.colorbar(p)\n",
    "    ax.set_zlim3d( min_V, V_max )\n",
    "    plt.savefig( 'anim/frame_%05d.png' % frame_num, format='png' )\n",
    "    \n",
    "    plt.close(fig)\n",
    "\n"
   ]
  },
  {
   "cell_type": "code",
   "execution_count": 124,
   "metadata": {
    "id": "0LykZfYJdS19"
   },
   "outputs": [],
   "source": [
    "#%load_ext autoreload\n",
    "#%autoreload 2\n",
    "\n",
    "#import os\n",
    "#os.environ[\"NUMBA_ENABLE_CUDASIM\"] = \"\"\n",
    "#del os.environ[\"NUMBA_ENABLE_CUDASIM\"]\n",
    "\n",
    "import numpy as np\n",
    "import math\n",
    "\n",
    "import numba\n",
    "from numba import cuda\n",
    "\n",
    "@cuda.jit\n",
    "def bellman_update(xmax, ymax, V_i, V_o, R_gpu, residual_gpu, gamma):\n",
    "    \n",
    "    pos = cuda.grid(1)\n",
    "\n",
    "    #print( pos )\n",
    "    if pos > xmax * ymax:\n",
    "      return\n",
    "  \n",
    "    x = pos % ymax\n",
    "    y = pos // ymax\n",
    "\n",
    "    #print( \"pos %d -> x %d, y %d\" % (pos, x, y ) ) \n",
    "    if x >= xmax:\n",
    "      return\n",
    "\n",
    "    if y >= ymax:\n",
    "      return\n",
    "\n",
    "    # up\n",
    "    xu = x \n",
    "    yu = max( 0, y - 1 )\n",
    "    vu = V_i[ xu, yu ]\n",
    "\n",
    "    # left\n",
    "    xl = max( 0, x - 1 ) \n",
    "    yl = y\n",
    "    vl = V_i[ xl, yl ]\n",
    "\n",
    "    # down\n",
    "    xd = x \n",
    "    yd = min( ymax-1, y + 1 )\n",
    "    vd = V_i[ xd, yd ]\n",
    "\n",
    "    # right\n",
    "    xr = min( xmax-1, x + 1 ) \n",
    "    yr = y\n",
    "    vr = V_i[ xr, yr ]\n",
    "\n",
    "    # immediate reward\n",
    "    r = R_gpu[ x, y ]\n",
    "\n",
    "    # bellman update\n",
    "    v = r + gamma * max( vu, vl, vd, vr )\n",
    "\n",
    "    # residual \n",
    "    res = abs(v - V_i[ x, y ])\n",
    "\n",
    "    # update the value \n",
    "    V_o[ x, y ] = v\n",
    "\n",
    "    # atomically update the residual\n",
    "    cuda.atomic.max( residual_gpu, 0, res ) \n",
    "    \n",
    "\n",
    "\n",
    "def numba_value_iteration(dims, V, R, epsilon, gamma, plot=False, final_V_o=None, min_V=None, skip=1 ):\n",
    "    # Move data to GPU so we can do two operations on it\n",
    "    V_gpu_a = cuda.to_device(V)\n",
    "    V_gpu_b = cuda.to_device(V)\n",
    "    R_gpu = cuda.to_device(R)\n",
    "    residual_log = []\n",
    "\n",
    "    residual = np.array( [ -np.inf ], dtype=V.dtype )\n",
    "\n",
    "    count = 0\n",
    "    while count == 0 or ( residual[0] > epsilon ):   # and count < 100 ):\n",
    "\n",
    "      # Set up a ping-pong between the two value function buffers\n",
    "      # so that V_i (input) is fixed during the iteration and\n",
    "      # V_o (output) is updated at each iteration.\n",
    "      if count % 2 == 0:\n",
    "        V_i = V_gpu_a\n",
    "        V_o = V_gpu_b\n",
    "      else:\n",
    "        V_i = V_gpu_b\n",
    "        V_o = V_gpu_a\n",
    "\n",
    "      # reset residual for next run\n",
    "      residual[0] = -np.inf\n",
    "    \n",
    "      residual_gpu = cuda.to_device( residual )\n",
    "\n",
    "      num_threads = dims[0] * dims[1]\n",
    "      threadsperblock = 256\n",
    "      blockspergrid = math.ceil(num_threads / threadsperblock)\n",
    "\n",
    "      ### Perform Bellman upate\n",
    "      bellman_update[blockspergrid,threadsperblock](dims[0], dims[1], V_i, V_o, R_gpu, residual_gpu, gamma)\n",
    "\n",
    "      residual = residual_gpu.copy_to_host()\n",
    "      #print( \"count %d: %f\" % (count, residual[0]) )\n",
    "\n",
    "      V_o_host = V_o.copy_to_host()\n",
    "        \n",
    "      if plot: \n",
    "          if skip is None or count % skip == 1:\n",
    "              #np.save( 'val_iter/hist_%d.npy' % count, V_o_host )\n",
    "              plot_frame( count, V_o_host, final_V_o, min_V )\n",
    "      \n",
    "      count += 1 \n",
    "      residual_log.append( residual[0] )\n",
    "\n",
    "\n",
    "    return V_o.copy_to_host(), residual_log\n",
    "\n"
   ]
  },
  {
   "cell_type": "markdown",
   "metadata": {},
   "source": [
    "# Single positive reward"
   ]
  },
  {
   "cell_type": "code",
   "execution_count": 133,
   "metadata": {
    "colab": {
     "base_uri": "https://localhost:8080/",
     "height": 1000
    },
    "id": "ISHdcB5daOLr",
    "outputId": "c9615e39-1170-497d-9d1d-a9356b337b38"
   },
   "outputs": [
    {
     "name": "stdout",
     "output_type": "stream",
     "text": [
      "(100, 100) 10000\n",
      "Solving MDP\n",
      "0.09275003802031279\n"
     ]
    }
   ],
   "source": [
    "\n",
    "\n",
    "# The dimensions of the state space S is captured by dims.  \n",
    "# Multiplying the dimensions together would yield the size of the\n",
    "# state space |S|.\n",
    "dim = 100\n",
    "dims = (dim,dim)  # square grid world\n",
    "size = np.prod( dims )\n",
    "\n",
    "print( dims, size )\n",
    "\n",
    "# The value function is the same size as the state space\n",
    "V = np.zeros( dims )\n",
    "\n",
    "# Our action space is up, left, down, right.  If we were to go beyond\n",
    "# the boundaries of the state space by taking an action 'a', then \n",
    "# will will just stay in the current state 's'.\n",
    "num_actions = 4\n",
    "  \n",
    "\n",
    "# For now, we are creating a reward function R( s ) which is only\n",
    "# dependent on the state but not the action.\n",
    "R = np.zeros( dims )\n",
    "\n",
    "# define some rewards in the reward function\n",
    "R[ 50,50 ] = 10\n",
    "\n",
    "\n",
    "# define bellman residual threshold\n",
    "epsilon = 1\n",
    "\n",
    "# discount factor\n",
    "gamma = 0.99\n",
    "\n",
    "print( \"Solving MDP\" )\n",
    "\n",
    "from timeit import default_timer as timer\n",
    "\n",
    "# Solve first without plotting\n",
    "start = timer()    \n",
    "V_o, residual_log = numba_value_iteration( dims, V, R, epsilon, gamma )\n",
    "end = timer()\n",
    "print(end - start) # Time in seconds, e.g. 5.38091952400282\n",
    "\n",
    "\n",
    "\n",
    "\n"
   ]
  },
  {
   "cell_type": "code",
   "execution_count": 134,
   "metadata": {},
   "outputs": [
    {
     "name": "stdout",
     "output_type": "stream",
     "text": [
      "Took 231 iterations to reach Bellman residual of 1.000000\n"
     ]
    }
   ],
   "source": [
    "print( 'Took %d iterations to reach Bellman residual of %f' % (len(residual_log), epsilon) )"
   ]
  },
  {
   "cell_type": "code",
   "execution_count": 137,
   "metadata": {},
   "outputs": [
    {
     "name": "stdout",
     "output_type": "stream",
     "text": [
      "rm: cannot remove 'anim/*.png': No such file or directory\n"
     ]
    }
   ],
   "source": [
    "# Now go back and plot now that we know the final answer, so we know maximum values and can color things appropriately\n",
    "!rm anim/*.png\n",
    "\n",
    "discard1, discard2 = numba_value_iteration( dims, V, R, epsilon, gamma, plot=True, final_V_o=V_o, min_V=-50, skip=None)\n"
   ]
  },
  {
   "cell_type": "code",
   "execution_count": 138,
   "metadata": {},
   "outputs": [
    {
     "name": "stdout",
     "output_type": "stream",
     "text": [
      "Error: unable to open display \n",
      "ffmpeg version n4.3.1 Copyright (c) 2000-2020 the FFmpeg developers\n",
      "  built with gcc 7 (Ubuntu 7.5.0-3ubuntu1~18.04)\n",
      "  configuration: --prefix= --prefix=/usr --disable-debug --disable-doc --disable-static --enable-cuda --enable-cuda-sdk --enable-cuvid --enable-libdrm --enable-ffplay --enable-gnutls --enable-gpl --enable-libass --enable-libfdk-aac --enable-libfontconfig --enable-libfreetype --enable-libmp3lame --enable-libnpp --enable-libopencore_amrnb --enable-libopencore_amrwb --enable-libopus --enable-libpulse --enable-sdl2 --enable-libspeex --enable-libtheora --enable-libtwolame --enable-libv4l2 --enable-libvorbis --enable-libvpx --enable-libx264 --enable-libx265 --enable-libxcb --enable-libxvid --enable-nonfree --enable-nvenc --enable-omx --enable-openal --enable-opencl --enable-runtime-cpudetect --enable-shared --enable-vaapi --enable-vdpau --enable-version3 --enable-xlib\n",
      "  libavutil      56. 51.100 / 56. 51.100\n",
      "  libavcodec     58. 91.100 / 58. 91.100\n",
      "  libavformat    58. 45.100 / 58. 45.100\n",
      "  libavdevice    58. 10.100 / 58. 10.100\n",
      "  libavfilter     7. 85.100 /  7. 85.100\n",
      "  libswscale      5.  7.100 /  5.  7.100\n",
      "  libswresample   3.  7.100 /  3.  7.100\n",
      "  libpostproc    55.  7.100 / 55.  7.100\n",
      "Input #0, image2, from 'anim/*.png':\n",
      "  Duration: 00:00:03.85, start: 0.000000, bitrate: N/A\n",
      "    Stream #0:0: Video: png, rgba(pc), 1152x432 [SAR 2835:2835 DAR 8:3], 60 fps, 60 tbr, 60 tbn, 60 tbc\n",
      "Stream mapping:\n",
      "  Stream #0:0 -> #0:0 (png (native) -> png (native))\n",
      "Press [q] to stop, [?] for help\n",
      "Output #0, image2, to 'palette.png':\n",
      "  Metadata:\n",
      "    encoder         : Lavf58.45.100\n",
      "    Stream #0:0: Video: png, rgba, 16x16 [SAR 1:1 DAR 1:1], q=2-31, 200 kb/s, 60 fps, 60 tbn, 60 tbc\n",
      "    Metadata:\n",
      "      encoder         : Lavc58.91.100 png\n",
      "\u001b[1;32m[Parsed_palettegen_0 @ 0x562b5b8e7280] \u001b[0m255(+1) colors generated out of 1145 colors; ratio=0.222707\n",
      "\u001b[1;32m[Parsed_palettegen_0 @ 0x562b5b8e7280] \u001b[0m\u001b[0;33mDupped color: FF000000\n",
      "    Last message repeated 1 timesimes\n",
      "\u001b[1;32m[Parsed_palettegen_0 @ 0x562b5b8e7280] \u001b[0m\u001b[0;33mDupped color: FFF4C2AA\n",
      "\u001b[0m\u001b[1;32m[Parsed_palettegen_0 @ 0x562b5b8e7280] \u001b[0m\u001b[0;33mDupped color: FFFFFFFF\n",
      "\u001b[0mframe=    1 fps=0.0 q=-0.0 Lsize=N/A time=00:00:00.01 bitrate=N/A speed=0.0236x    \n",
      "video:1kB audio:0kB subtitle:0kB other streams:0kB global headers:0kB muxing overhead: unknown\n",
      "Error: unable to open display \n",
      "ffmpeg version n4.3.1 Copyright (c) 2000-2020 the FFmpeg developers\n",
      "  built with gcc 7 (Ubuntu 7.5.0-3ubuntu1~18.04)\n",
      "  configuration: --prefix= --prefix=/usr --disable-debug --disable-doc --disable-static --enable-cuda --enable-cuda-sdk --enable-cuvid --enable-libdrm --enable-ffplay --enable-gnutls --enable-gpl --enable-libass --enable-libfdk-aac --enable-libfontconfig --enable-libfreetype --enable-libmp3lame --enable-libnpp --enable-libopencore_amrnb --enable-libopencore_amrwb --enable-libopus --enable-libpulse --enable-sdl2 --enable-libspeex --enable-libtheora --enable-libtwolame --enable-libv4l2 --enable-libvorbis --enable-libvpx --enable-libx264 --enable-libx265 --enable-libxcb --enable-libxvid --enable-nonfree --enable-nvenc --enable-omx --enable-openal --enable-opencl --enable-runtime-cpudetect --enable-shared --enable-vaapi --enable-vdpau --enable-version3 --enable-xlib\n",
      "  libavutil      56. 51.100 / 56. 51.100\n",
      "  libavcodec     58. 91.100 / 58. 91.100\n",
      "  libavformat    58. 45.100 / 58. 45.100\n",
      "  libavdevice    58. 10.100 / 58. 10.100\n",
      "  libavfilter     7. 85.100 /  7. 85.100\n",
      "  libswscale      5.  7.100 /  5.  7.100\n",
      "  libswresample   3.  7.100 /  3.  7.100\n",
      "  libpostproc    55.  7.100 / 55.  7.100\n",
      "Input #0, image2, from 'anim/*.png':\n",
      "  Duration: 00:00:03.85, start: 0.000000, bitrate: N/A\n",
      "    Stream #0:0: Video: png, rgba(pc), 1152x432 [SAR 2835:2835 DAR 8:3], 60 fps, 60 tbr, 60 tbn, 60 tbc\n",
      "Input #1, png_pipe, from 'palette.png':\n",
      "  Duration: N/A, bitrate: N/A\n",
      "    Stream #1:0: Video: png, rgba(pc), 16x16 [SAR 1:1 DAR 1:1], 25 tbr, 25 tbn, 25 tbc\n",
      "Stream mapping:\n",
      "  Stream #0:0 (png) -> paletteuse:default\n",
      "  Stream #1:0 (png) -> paletteuse:palette\n",
      "  paletteuse -> Stream #0:0 (gif)\n",
      "Press [q] to stop, [?] for help\n",
      "\u001b[0;35m[image2 @ 0x55ca92ca2bc0] \u001b[0m\u001b[0;33mThread message queue blocking; consider raising the thread_queue_size option (current value: 8)\n",
      "\u001b[0mOutput #0, gif, to 'single_positive.gif':\n",
      "  Metadata:\n",
      "    encoder         : Lavf58.45.100\n",
      "    Stream #0:0: Video: gif, pal8, 1152x432 [SAR 1:1 DAR 8:3], q=2-31, 200 kb/s, 60 fps, 100 tbn, 60 tbc (default)\n",
      "    Metadata:\n",
      "      encoder         : Lavc58.91.100 gif\n",
      "frame=  231 fps= 93 q=-0.0 Lsize=   14708kB time=00:00:03.84 bitrate=31377.1kbits/s speed=1.54x    \n",
      "video:14708kB audio:0kB subtitle:0kB other streams:0kB global headers:0kB muxing overhead: 0.000133%\n"
     ]
    }
   ],
   "source": [
    "# Found ffmpeg works pretty well nowadays (6/14/22).  Note the pallete has to be generated first or the image quality\n",
    "# will be poor.  This was generating gifs for me in maybe 15 seconds or so.\n",
    "\n",
    "!/snap/bin/ffmpeg -y -framerate 60 -pattern_type glob -i 'anim/*.png' -vf palettegen palette.png\n",
    "!/snap/bin/ffmpeg -y -framerate 60 -pattern_type glob -i 'anim/*.png' -i palette.png -lavfi paletteuse  single_positive.gif"
   ]
  },
  {
   "cell_type": "markdown",
   "metadata": {
    "tags": []
   },
   "source": [
    "# Positive rewards"
   ]
  },
  {
   "cell_type": "code",
   "execution_count": 139,
   "metadata": {
    "colab": {
     "base_uri": "https://localhost:8080/",
     "height": 1000
    },
    "id": "ISHdcB5daOLr",
    "outputId": "c9615e39-1170-497d-9d1d-a9356b337b38"
   },
   "outputs": [
    {
     "name": "stdout",
     "output_type": "stream",
     "text": [
      "(100, 100) 10000\n",
      "Solving MDP\n",
      "0.19718093052506447\n"
     ]
    }
   ],
   "source": [
    "\n",
    "\n",
    "# The dimensions of the state space S is captured by dims.  \n",
    "# Multiplying the dimensions together would yield the size of the\n",
    "# state space |S|.\n",
    "dim = 100\n",
    "dims = (dim,dim)  # square grid world\n",
    "size = np.prod( dims )\n",
    "\n",
    "print( dims, size )\n",
    "\n",
    "# The value function is the same size as the state space\n",
    "V = np.zeros( dims )\n",
    "\n",
    "# Our action space is up, left, down, right.  If we were to go beyond\n",
    "# the boundaries of the state space by taking an action 'a', then \n",
    "# will will just stay in the current state 's'.\n",
    "num_actions = 4\n",
    "  \n",
    "\n",
    "# For now, we are creating a reward function R( s ) which is only\n",
    "# dependent on the state but not the action.\n",
    "R = np.zeros( dims )\n",
    "\n",
    "# define some rewards in the reward function\n",
    "R[ 20,70 ] = 10\n",
    "R[ 90,30 ] = 10\n",
    "\n",
    "# define bellman residual threshold\n",
    "epsilon = .05\n",
    "\n",
    "# discount factor\n",
    "gamma = 0.99\n",
    "\n",
    "print( \"Solving MDP\" )\n",
    "\n",
    "from timeit import default_timer as timer\n",
    "\n",
    "# Solve first without plotting\n",
    "start = timer()    \n",
    "V_o, residual_log = numba_value_iteration( dims, V, R, epsilon, gamma )\n",
    "end = timer()\n",
    "print(end - start) # Time in seconds, e.g. 5.38091952400282\n",
    "\n",
    "\n",
    "\n",
    "\n"
   ]
  },
  {
   "cell_type": "code",
   "execution_count": 140,
   "metadata": {},
   "outputs": [
    {
     "name": "stdout",
     "output_type": "stream",
     "text": [
      "Took 529 iterations to reach Bellman residual of 0.050000\n"
     ]
    }
   ],
   "source": [
    "print( 'Took %d iterations to reach Bellman residual of %f' % (len(residual_log), epsilon) )"
   ]
  },
  {
   "cell_type": "code",
   "execution_count": 141,
   "metadata": {},
   "outputs": [],
   "source": [
    "# Now go back and plot now that we know the final answer, so we know maximum values and can color things appropriately\n",
    "!rm anim/*.png\n",
    "\n",
    "discard1, discard2 = numba_value_iteration( dims, V, R, epsilon, gamma, plot=True, final_V_o=V_o, min_V=0 )\n"
   ]
  },
  {
   "cell_type": "markdown",
   "metadata": {},
   "source": [
    "## Convert image frames to animation"
   ]
  },
  {
   "cell_type": "code",
   "execution_count": 142,
   "metadata": {},
   "outputs": [],
   "source": [
    "# Tried using imagemagick to convert to animated gif, but it is pretty slow.  Would not recommend.\n",
    "# !convert -delay 20 anim/*.png -loop 0 anim.gif"
   ]
  },
  {
   "cell_type": "code",
   "execution_count": 143,
   "metadata": {},
   "outputs": [
    {
     "name": "stdout",
     "output_type": "stream",
     "text": [
      "Error: unable to open display \n",
      "ffmpeg version n4.3.1 Copyright (c) 2000-2020 the FFmpeg developers\n",
      "  built with gcc 7 (Ubuntu 7.5.0-3ubuntu1~18.04)\n",
      "  configuration: --prefix= --prefix=/usr --disable-debug --disable-doc --disable-static --enable-cuda --enable-cuda-sdk --enable-cuvid --enable-libdrm --enable-ffplay --enable-gnutls --enable-gpl --enable-libass --enable-libfdk-aac --enable-libfontconfig --enable-libfreetype --enable-libmp3lame --enable-libnpp --enable-libopencore_amrnb --enable-libopencore_amrwb --enable-libopus --enable-libpulse --enable-sdl2 --enable-libspeex --enable-libtheora --enable-libtwolame --enable-libv4l2 --enable-libvorbis --enable-libvpx --enable-libx264 --enable-libx265 --enable-libxcb --enable-libxvid --enable-nonfree --enable-nvenc --enable-omx --enable-openal --enable-opencl --enable-runtime-cpudetect --enable-shared --enable-vaapi --enable-vdpau --enable-version3 --enable-xlib\n",
      "  libavutil      56. 51.100 / 56. 51.100\n",
      "  libavcodec     58. 91.100 / 58. 91.100\n",
      "  libavformat    58. 45.100 / 58. 45.100\n",
      "  libavdevice    58. 10.100 / 58. 10.100\n",
      "  libavfilter     7. 85.100 /  7. 85.100\n",
      "  libswscale      5.  7.100 /  5.  7.100\n",
      "  libswresample   3.  7.100 /  3.  7.100\n",
      "  libpostproc    55.  7.100 / 55.  7.100\n",
      "\u001b[0;35m[image2 @ 0x55adecee5a00] \u001b[0m\u001b[1;31mCould not open file : anim/*.png\n",
      "\u001b[0m\u001b[0;35m[image2 @ 0x55adecee5a00] \u001b[0m\u001b[0;33mCould not find codec parameters for stream 0 (Video: png, none(pc)): unspecified size\n",
      "Consider increasing the value for the 'analyzeduration' and 'probesize' options\n",
      "\u001b[0mInput #0, image2, from 'anim/*.png':\n",
      "  Duration: 00:00:00.02, start: 0.000000, bitrate: N/A\n",
      "    Stream #0:0: Video: png, none(pc), 60 tbr, 60 tbn, 60 tbc\n",
      "Output #0, image2, to 'palette.png':\n",
      "\u001b[1;31mOutput file #0 does not contain any stream\n",
      "\u001b[0mError: unable to open display \n",
      "ffmpeg version n4.3.1 Copyright (c) 2000-2020 the FFmpeg developers\n",
      "  built with gcc 7 (Ubuntu 7.5.0-3ubuntu1~18.04)\n",
      "  configuration: --prefix= --prefix=/usr --disable-debug --disable-doc --disable-static --enable-cuda --enable-cuda-sdk --enable-cuvid --enable-libdrm --enable-ffplay --enable-gnutls --enable-gpl --enable-libass --enable-libfdk-aac --enable-libfontconfig --enable-libfreetype --enable-libmp3lame --enable-libnpp --enable-libopencore_amrnb --enable-libopencore_amrwb --enable-libopus --enable-libpulse --enable-sdl2 --enable-libspeex --enable-libtheora --enable-libtwolame --enable-libv4l2 --enable-libvorbis --enable-libvpx --enable-libx264 --enable-libx265 --enable-libxcb --enable-libxvid --enable-nonfree --enable-nvenc --enable-omx --enable-openal --enable-opencl --enable-runtime-cpudetect --enable-shared --enable-vaapi --enable-vdpau --enable-version3 --enable-xlib\n",
      "  libavutil      56. 51.100 / 56. 51.100\n",
      "  libavcodec     58. 91.100 / 58. 91.100\n",
      "  libavformat    58. 45.100 / 58. 45.100\n",
      "  libavdevice    58. 10.100 / 58. 10.100\n",
      "  libavfilter     7. 85.100 /  7. 85.100\n",
      "  libswscale      5.  7.100 /  5.  7.100\n",
      "  libswresample   3.  7.100 /  3.  7.100\n",
      "  libpostproc    55.  7.100 / 55.  7.100\n",
      "\u001b[0;35m[image2 @ 0x55b86361cbc0] \u001b[0m\u001b[1;31mCould not open file : anim/*.png\n",
      "\u001b[0m\u001b[0;35m[image2 @ 0x55b86361cbc0] \u001b[0m\u001b[0;33mCould not find codec parameters for stream 0 (Video: png, none(pc)): unspecified size\n",
      "Consider increasing the value for the 'analyzeduration' and 'probesize' options\n",
      "\u001b[0mInput #0, image2, from 'anim/*.png':\n",
      "  Duration: 00:00:00.02, start: 0.000000, bitrate: N/A\n",
      "    Stream #0:0: Video: png, none(pc), 60 tbr, 60 tbn, 60 tbc\n",
      "Input #1, png_pipe, from 'palette.png':\n",
      "  Duration: N/A, bitrate: N/A\n",
      "    Stream #1:0: Video: png, rgba(pc), 16x16 [SAR 1:1 DAR 1:1], 25 tbr, 25 tbn, 25 tbc\n",
      "Stream mapping:\n",
      "  Stream #0:0 (png) -> paletteuse:default\n",
      "  Stream #1:0 (png) -> paletteuse:palette\n",
      "  paletteuse -> Stream #0:0 (gif)\n",
      "Press [q] to stop, [?] for help\n",
      "\u001b[0;35m[image2 @ 0x55b86361cbc0] \u001b[0m\u001b[1;31mCould not open file : anim/*.png\n",
      "\u001b[0m\u001b[1;31manim/*.png: Input/output error\n",
      "\u001b[0m\u001b[1;31mCannot determine format of input stream 0:0 after EOF\n",
      "\u001b[0m\u001b[4;31mError marking filters as finished\n",
      "\u001b[0mConversion failed!\n"
     ]
    }
   ],
   "source": [
    "# Found ffmpeg works pretty well nowadays (6/14/22).  Note the pallete has to be generated first or the image quality\n",
    "# will be poor.  This was generating gifs for me in maybe 15 seconds or so.\n",
    "\n",
    "!/snap/bin/ffmpeg -y -framerate 60 -pattern_type glob -i 'anim/*.png' -vf palettegen palette.png\n",
    "!/snap/bin/ffmpeg -y -framerate 60 -pattern_type glob -i 'anim/*.png' -i palette.png -lavfi paletteuse  positive_rewards.gif"
   ]
  },
  {
   "cell_type": "code",
   "execution_count": null,
   "metadata": {},
   "outputs": [],
   "source": []
  },
  {
   "cell_type": "markdown",
   "metadata": {},
   "source": [
    "# Positive and Negative rewards"
   ]
  },
  {
   "cell_type": "code",
   "execution_count": 144,
   "metadata": {
    "colab": {
     "base_uri": "https://localhost:8080/",
     "height": 1000
    },
    "id": "ISHdcB5daOLr",
    "outputId": "c9615e39-1170-497d-9d1d-a9356b337b38"
   },
   "outputs": [
    {
     "name": "stdout",
     "output_type": "stream",
     "text": [
      "(100, 100) 10000\n",
      "Solving MDP\n",
      "0.1880950666964054\n"
     ]
    }
   ],
   "source": [
    "\n",
    "\n",
    "# The dimensions of the state space S is captured by dims.  \n",
    "# Multiplying the dimensions together would yield the size of the\n",
    "# state space |S|.\n",
    "dim = 100\n",
    "dims = (dim,dim)  # square grid world\n",
    "size = np.prod( dims )\n",
    "\n",
    "print( dims, size )\n",
    "\n",
    "# The value function is the same size as the state space\n",
    "V = np.zeros( dims )\n",
    "\n",
    "# Our action space is up, left, down, right.  If we were to go beyond\n",
    "# the boundaries of the state space by taking an action 'a', then \n",
    "# will will just stay in the current state 's'.\n",
    "num_actions = 4\n",
    "  \n",
    "\n",
    "# For now, we are creating a reward function R( s ) which is only\n",
    "# dependent on the state but not the action.\n",
    "R = np.zeros( dims )\n",
    "\n",
    "# define some rewards in the reward function\n",
    "R[ 20,70 ] = 10\n",
    "R[ 90,30 ] = 10\n",
    "R[ 80:90,80:90 ] = -50\n",
    "\n",
    "# define bellman residual threshold\n",
    "epsilon = .05\n",
    "\n",
    "# discount factor\n",
    "gamma = 0.99\n",
    "\n",
    "print( \"Solving MDP\" )\n",
    "\n",
    "from timeit import default_timer as timer\n",
    "\n",
    "# Solve first without plotting\n",
    "start = timer()    \n",
    "V_o, residual_log = numba_value_iteration( dims, V, R, epsilon, gamma )\n",
    "end = timer()\n",
    "print(end - start) # Time in seconds, e.g. 5.38091952400282\n",
    "\n",
    "\n",
    "\n",
    "\n"
   ]
  },
  {
   "cell_type": "code",
   "execution_count": 145,
   "metadata": {},
   "outputs": [
    {
     "name": "stdout",
     "output_type": "stream",
     "text": [
      "Took 529 iterations to reach Bellman residual of 0.050000\n",
      "min V: -1.340710, max V: 500.070257\n"
     ]
    }
   ],
   "source": [
    "print( 'Took %d iterations to reach Bellman residual of %f' % (len(residual_log), epsilon) )\n",
    "print( 'min V: %f, max V: %f' % (V_o.min(), V_o.max() ) )"
   ]
  },
  {
   "cell_type": "code",
   "execution_count": 146,
   "metadata": {},
   "outputs": [
    {
     "name": "stdout",
     "output_type": "stream",
     "text": [
      "rm: cannot remove 'anim/*.png': No such file or directory\n"
     ]
    }
   ],
   "source": [
    "# Now go back and plot now that we know the final answer, so we know maximum values and can color things appropriately\n",
    "!rm anim/*.png\n",
    "\n",
    "discard1, discard2 = numba_value_iteration( dims, V, R, epsilon, gamma, plot=True, final_V_o=V_o, min_V=-50, skip=None )\n"
   ]
  },
  {
   "cell_type": "code",
   "execution_count": 147,
   "metadata": {},
   "outputs": [
    {
     "name": "stdout",
     "output_type": "stream",
     "text": [
      "Error: unable to open display \n",
      "ffmpeg version n4.3.1 Copyright (c) 2000-2020 the FFmpeg developers\n",
      "  built with gcc 7 (Ubuntu 7.5.0-3ubuntu1~18.04)\n",
      "  configuration: --prefix= --prefix=/usr --disable-debug --disable-doc --disable-static --enable-cuda --enable-cuda-sdk --enable-cuvid --enable-libdrm --enable-ffplay --enable-gnutls --enable-gpl --enable-libass --enable-libfdk-aac --enable-libfontconfig --enable-libfreetype --enable-libmp3lame --enable-libnpp --enable-libopencore_amrnb --enable-libopencore_amrwb --enable-libopus --enable-libpulse --enable-sdl2 --enable-libspeex --enable-libtheora --enable-libtwolame --enable-libv4l2 --enable-libvorbis --enable-libvpx --enable-libx264 --enable-libx265 --enable-libxcb --enable-libxvid --enable-nonfree --enable-nvenc --enable-omx --enable-openal --enable-opencl --enable-runtime-cpudetect --enable-shared --enable-vaapi --enable-vdpau --enable-version3 --enable-xlib\n",
      "  libavutil      56. 51.100 / 56. 51.100\n",
      "  libavcodec     58. 91.100 / 58. 91.100\n",
      "  libavformat    58. 45.100 / 58. 45.100\n",
      "  libavdevice    58. 10.100 / 58. 10.100\n",
      "  libavfilter     7. 85.100 /  7. 85.100\n",
      "  libswscale      5.  7.100 /  5.  7.100\n",
      "  libswresample   3.  7.100 /  3.  7.100\n",
      "  libpostproc    55.  7.100 / 55.  7.100\n",
      "Input #0, image2, from 'anim/*.png':\n",
      "  Duration: 00:00:08.82, start: 0.000000, bitrate: N/A\n",
      "    Stream #0:0: Video: png, rgba(pc), 1152x432 [SAR 2835:2835 DAR 8:3], 60 fps, 60 tbr, 60 tbn, 60 tbc\n",
      "Stream mapping:\n",
      "  Stream #0:0 -> #0:0 (png (native) -> png (native))\n",
      "Press [q] to stop, [?] for help\n",
      "Output #0, image2, to 'palette.png':\n",
      "  Metadata:\n",
      "    encoder         : Lavf58.45.100\n",
      "    Stream #0:0: Video: png, rgba, 16x16 [SAR 1:1 DAR 1:1], q=2-31, 200 kb/s, 60 fps, 60 tbn, 60 tbc\n",
      "    Metadata:\n",
      "      encoder         : Lavc58.91.100 png\n",
      "\u001b[1;32m[Parsed_palettegen_0 @ 0x55dba9a96180] \u001b[0m255(+1) colors generated out of 1194 colors; ratio=0.213568\n",
      "\u001b[1;32m[Parsed_palettegen_0 @ 0x55dba9a96180] \u001b[0m\u001b[0;33mDupped color: FF000000\n",
      "    Last message repeated 2 timesimes\n",
      "\u001b[1;32m[Parsed_palettegen_0 @ 0x55dba9a96180] \u001b[0m\u001b[0;33mDupped color: FFA8C5FD\n",
      "\u001b[0m\u001b[1;32m[Parsed_palettegen_0 @ 0x55dba9a96180] \u001b[0m\u001b[0;33mDupped color: FFF6AA8C\n",
      "\u001b[0m\u001b[1;32m[Parsed_palettegen_0 @ 0x55dba9a96180] \u001b[0m\u001b[0;33mDupped color: FFFFFFFF\n",
      "\u001b[0mframe=    1 fps=0.7 q=-0.0 Lsize=N/A time=00:00:00.01 bitrate=N/A speed=0.0115x    \n",
      "video:1kB audio:0kB subtitle:0kB other streams:0kB global headers:0kB muxing overhead: unknown\n",
      "Error: unable to open display \n",
      "ffmpeg version n4.3.1 Copyright (c) 2000-2020 the FFmpeg developers\n",
      "  built with gcc 7 (Ubuntu 7.5.0-3ubuntu1~18.04)\n",
      "  configuration: --prefix= --prefix=/usr --disable-debug --disable-doc --disable-static --enable-cuda --enable-cuda-sdk --enable-cuvid --enable-libdrm --enable-ffplay --enable-gnutls --enable-gpl --enable-libass --enable-libfdk-aac --enable-libfontconfig --enable-libfreetype --enable-libmp3lame --enable-libnpp --enable-libopencore_amrnb --enable-libopencore_amrwb --enable-libopus --enable-libpulse --enable-sdl2 --enable-libspeex --enable-libtheora --enable-libtwolame --enable-libv4l2 --enable-libvorbis --enable-libvpx --enable-libx264 --enable-libx265 --enable-libxcb --enable-libxvid --enable-nonfree --enable-nvenc --enable-omx --enable-openal --enable-opencl --enable-runtime-cpudetect --enable-shared --enable-vaapi --enable-vdpau --enable-version3 --enable-xlib\n",
      "  libavutil      56. 51.100 / 56. 51.100\n",
      "  libavcodec     58. 91.100 / 58. 91.100\n",
      "  libavformat    58. 45.100 / 58. 45.100\n",
      "  libavdevice    58. 10.100 / 58. 10.100\n",
      "  libavfilter     7. 85.100 /  7. 85.100\n",
      "  libswscale      5.  7.100 /  5.  7.100\n",
      "  libswresample   3.  7.100 /  3.  7.100\n",
      "  libpostproc    55.  7.100 / 55.  7.100\n",
      "Input #0, image2, from 'anim/*.png':\n",
      "  Duration: 00:00:08.82, start: 0.000000, bitrate: N/A\n",
      "    Stream #0:0: Video: png, rgba(pc), 1152x432 [SAR 2835:2835 DAR 8:3], 60 fps, 60 tbr, 60 tbn, 60 tbc\n",
      "Input #1, png_pipe, from 'palette.png':\n",
      "  Duration: N/A, bitrate: N/A\n",
      "    Stream #1:0: Video: png, rgba(pc), 16x16 [SAR 1:1 DAR 1:1], 25 tbr, 25 tbn, 25 tbc\n",
      "Stream mapping:\n",
      "  Stream #0:0 (png) -> paletteuse:default\n",
      "  Stream #1:0 (png) -> paletteuse:palette\n",
      "  paletteuse -> Stream #0:0 (gif)\n",
      "Press [q] to stop, [?] for help\n",
      "\u001b[0;35m[image2 @ 0x55e3e1da7bc0] \u001b[0m\u001b[0;33mThread message queue blocking; consider raising the thread_queue_size option (current value: 8)\n",
      "\u001b[0mOutput #0, gif, to 'negative_rewards.gif':\n",
      "  Metadata:\n",
      "    encoder         : Lavf58.45.100\n",
      "    Stream #0:0: Video: gif, pal8, 1152x432 [SAR 1:1 DAR 8:3], q=2-31, 200 kb/s, 60 fps, 100 tbn, 60 tbc (default)\n",
      "    Metadata:\n",
      "      encoder         : Lavc58.91.100 gif\n",
      "frame=  529 fps= 97 q=-0.0 Lsize=   37283kB time=00:00:08.81 bitrate=34668.0kbits/s speed=1.61x    \n",
      "video:37283kB audio:0kB subtitle:0kB other streams:0kB global headers:0kB muxing overhead: 0.000052%\n"
     ]
    }
   ],
   "source": [
    "# Make the animation\n",
    "\n",
    "!/snap/bin/ffmpeg -y -framerate 60 -pattern_type glob -i 'anim/*.png' -vf palettegen palette.png\n",
    "!/snap/bin/ffmpeg -y -framerate 60 -pattern_type glob -i 'anim/*.png' -i palette.png -lavfi paletteuse  negative_rewards.gif\n"
   ]
  },
  {
   "cell_type": "code",
   "execution_count": null,
   "metadata": {},
   "outputs": [],
   "source": []
  },
  {
   "cell_type": "code",
   "execution_count": null,
   "metadata": {},
   "outputs": [],
   "source": []
  },
  {
   "cell_type": "code",
   "execution_count": null,
   "metadata": {},
   "outputs": [],
   "source": []
  },
  {
   "cell_type": "code",
   "execution_count": null,
   "metadata": {},
   "outputs": [],
   "source": []
  },
  {
   "cell_type": "code",
   "execution_count": null,
   "metadata": {},
   "outputs": [],
   "source": []
  }
 ],
 "metadata": {
  "accelerator": "GPU",
  "colab": {
   "collapsed_sections": [],
   "machine_shape": "hm",
   "name": "val_iter_GPU.ipynb",
   "provenance": []
  },
  "kernelspec": {
   "display_name": "Python 3 (ipykernel)",
   "language": "python",
   "name": "python3"
  },
  "language_info": {
   "codemirror_mode": {
    "name": "ipython",
    "version": 3
   },
   "file_extension": ".py",
   "mimetype": "text/x-python",
   "name": "python",
   "nbconvert_exporter": "python",
   "pygments_lexer": "ipython3",
   "version": "3.9.12"
  }
 },
 "nbformat": 4,
 "nbformat_minor": 4
}
